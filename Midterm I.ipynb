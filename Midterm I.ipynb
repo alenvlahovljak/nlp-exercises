{
 "cells": [
  {
   "cell_type": "markdown",
   "id": "77dfb722",
   "metadata": {},
   "source": [
    "Task 1: You will be working on the text4: Interlingual Address Corpus from the NLTK Book Collections. Import tex4 and do the following:"
   ]
  },
  {
   "cell_type": "code",
   "execution_count": 10,
   "id": "15545132",
   "metadata": {},
   "outputs": [],
   "source": [
    "import nltk"
   ]
  },
  {
   "cell_type": "code",
   "execution_count": 11,
   "id": "c7fd9dfd",
   "metadata": {},
   "outputs": [
    {
     "name": "stdout",
     "output_type": "stream",
     "text": [
      "showing info https://raw.githubusercontent.com/nltk/nltk_data/gh-pages/index.xml\n"
     ]
    },
    {
     "data": {
      "text/plain": [
       "True"
      ]
     },
     "execution_count": 11,
     "metadata": {},
     "output_type": "execute_result"
    }
   ],
   "source": [
    "nltk.download()"
   ]
  },
  {
   "cell_type": "markdown",
   "id": "910d7a7b",
   "metadata": {},
   "source": [
    "Import NLTK text4 "
   ]
  },
  {
   "cell_type": "code",
   "execution_count": 13,
   "id": "bf94dcf9",
   "metadata": {},
   "outputs": [],
   "source": [
    "from nltk.book import *"
   ]
  },
  {
   "cell_type": "code",
   "execution_count": 14,
   "id": "c06a4615",
   "metadata": {},
   "outputs": [
    {
     "data": {
      "text/plain": [
       "<Text: Inaugural Address Corpus>"
      ]
     },
     "execution_count": 14,
     "metadata": {},
     "output_type": "execute_result"
    }
   ],
   "source": [
    "text4"
   ]
  },
  {
   "cell_type": "markdown",
   "id": "13d59e56",
   "metadata": {},
   "source": [
    "1.1. Find the total number of words in a given text"
   ]
  },
  {
   "cell_type": "code",
   "execution_count": 15,
   "id": "1248a674",
   "metadata": {},
   "outputs": [
    {
     "data": {
      "text/plain": [
       "152901"
      ]
     },
     "execution_count": 15,
     "metadata": {},
     "output_type": "execute_result"
    }
   ],
   "source": [
    "len(text4)"
   ]
  },
  {
   "cell_type": "markdown",
   "id": "58920564",
   "metadata": {},
   "source": [
    "1.2. Find the total number of distinc words in a given text"
   ]
  },
  {
   "cell_type": "code",
   "execution_count": 18,
   "id": "0d40abcf",
   "metadata": {},
   "outputs": [
    {
     "data": {
      "text/plain": [
       "10025"
      ]
     },
     "execution_count": 18,
     "metadata": {},
     "output_type": "execute_result"
    }
   ],
   "source": [
    "len(set(text4))"
   ]
  },
  {
   "cell_type": "markdown",
   "id": "bfee6319",
   "metadata": {},
   "source": [
    "1.3. Show the every occurance of the word <b>nation</b>"
   ]
  },
  {
   "cell_type": "code",
   "execution_count": 19,
   "id": "73dfcb49",
   "metadata": {},
   "outputs": [
    {
     "name": "stdout",
     "output_type": "stream",
     "text": [
      "Displaying 25 of 330 matches:\n",
      " to the character of an independent nation seems to have been distinguished by\n",
      "f Heaven can never be expected on a nation that disregards the eternal rules o\n",
      "first , the representatives of this nation , then consisting of little more th\n",
      ", situation , and relations of this nation and country than any which had ever\n",
      ", prosperity , and happiness of the nation I have acquired an habitual attachm\n",
      "an be no spectacle presented by any nation more pleasing , more noble , majest\n",
      "party for its own ends , not of the nation for the national good . If that sol\n",
      "tures and the people throughout the nation . On this subject it might become m\n",
      "if a personal esteem for the French nation , formed in a residence of seven ye\n",
      "f our fellow - citizens by whatever nation , and if success can not be obtaine\n",
      "y , continue His blessing upon this nation and its Government and give it all \n",
      "powers so justly inspire . A rising nation , spread over a wide and fruitful l\n",
      "ing now decided by the voice of the nation , announced according to the rules \n",
      "ars witness to the fact that a just nation is trusted on its word when recours\n",
      "e union of opinion which gives to a nation the blessing of harmony and the ben\n",
      "uil suffrage of a free and virtuous nation , would under any circumstances hav\n",
      "d spirit and united councils of the nation will be safeguards to its honor and\n",
      "iction that the war with a powerful nation , which forms so prominent a featur\n",
      "out breaking down the spirit of the nation , destroying all confidence in itse\n",
      "ed on the military resources of the nation . These resources are amply suffici\n",
      "the war to an honorable issue . Our nation is in number more than half that of\n",
      "ndividually have been happy and the nation prosperous . Under this Constitutio\n",
      "rights , and is able to protect the nation against injustice from foreign powe\n",
      " great agricultural interest of the nation prospers under its protection . Loc\n",
      "ak our Union , and demolish us as a nation . Our distance from Europe and the \n"
     ]
    }
   ],
   "source": [
    "text4.concordance('nation')"
   ]
  },
  {
   "cell_type": "markdown",
   "id": "b2b3887e",
   "metadata": {},
   "source": [
    "1.4. Find the words similiar to word <b>nation</b>"
   ]
  },
  {
   "cell_type": "code",
   "execution_count": 22,
   "id": "9e702dda",
   "metadata": {},
   "outputs": [
    {
     "name": "stdout",
     "output_type": "stream",
     "text": [
      "people country government world union time constitution republic\n",
      "states law party way war peace land moment power service work children\n"
     ]
    }
   ],
   "source": [
    "text4.similar('nation')"
   ]
  },
  {
   "cell_type": "markdown",
   "id": "3b0e6813",
   "metadata": {},
   "source": [
    "1.5. Find the common context of words <b>nation</b> and <b>America</b>"
   ]
  },
  {
   "cell_type": "code",
   "execution_count": 20,
   "id": "192d9eb1",
   "metadata": {},
   "outputs": [
    {
     "name": "stdout",
     "output_type": "stream",
     "text": [
      "our_, our_. one_. of_and the_we\n"
     ]
    }
   ],
   "source": [
    "text4.common_contexts(['nation', 'America'])"
   ]
  },
  {
   "cell_type": "markdown",
   "id": "759f25d9",
   "metadata": {},
   "source": [
    "1.6. Plot the dispersion plot of following words: citizens, democracy, freedom, duties, America"
   ]
  },
  {
   "cell_type": "code",
   "execution_count": 23,
   "id": "3417eb4b",
   "metadata": {},
   "outputs": [
    {
     "data": {
      "image/png": "[encoded data removed]",
      "text/plain": [
       "<Figure size 432x288 with 1 Axes>"
      ]
     },
     "metadata": {
      "needs_background": "light"
     },
     "output_type": "display_data"
    }
   ],
   "source": [
    "text4.dispersion_plot(['citizens', 'democracy', 'freedom', 'duties', 'America'])"
   ]
  },
  {
   "cell_type": "markdown",
   "id": "7b17a91c",
   "metadata": {},
   "source": [
    "1.7. How many times does the word America appear in text4? How much is this as a percentage of the totoal number of words in this text?"
   ]
  },
  {
   "cell_type": "code",
   "execution_count": 32,
   "id": "52f2709c",
   "metadata": {},
   "outputs": [
    {
     "data": {
      "text/plain": [
       "240"
      ]
     },
     "execution_count": 32,
     "metadata": {},
     "output_type": "execute_result"
    }
   ],
   "source": [
    "count = text4.count('America')\n",
    "count "
   ]
  },
  {
   "cell_type": "code",
   "execution_count": 38,
   "id": "5e457940",
   "metadata": {},
   "outputs": [
    {
     "data": {
      "text/plain": [
       "'15.70%'"
      ]
     },
     "execution_count": 38,
     "metadata": {},
     "output_type": "execute_result"
    }
   ],
   "source": [
    "percentage = (count * 100) / len(text4)\n",
    "\"{:.2%}\".format(percentage)"
   ]
  },
  {
   "cell_type": "markdown",
   "id": "d914b9ae",
   "metadata": {},
   "source": [
    "1.8. Find the requency distribution of the text4, and find 20 most common words"
   ]
  },
  {
   "cell_type": "code",
   "execution_count": 29,
   "id": "b18f4ee9",
   "metadata": {},
   "outputs": [],
   "source": [
    "fdist = FreqDist(text4)"
   ]
  },
  {
   "cell_type": "code",
   "execution_count": 30,
   "id": "8ae57f2e",
   "metadata": {},
   "outputs": [
    {
     "data": {
      "text/plain": [
       "[('the', 9555),\n",
       " (',', 7275),\n",
       " ('of', 7169),\n",
       " ('and', 5226),\n",
       " ('.', 5011),\n",
       " ('to', 4477),\n",
       " ('in', 2604),\n",
       " ('a', 2229),\n",
       " ('our', 2062),\n",
       " ('that', 1769),\n",
       " ('be', 1505),\n",
       " ('is', 1477),\n",
       " ('we', 1281),\n",
       " ('for', 1141),\n",
       " ('by', 1063),\n",
       " ('it', 1036),\n",
       " ('have', 1029),\n",
       " ('which', 1007),\n",
       " ('not', 972),\n",
       " ('will', 935)]"
      ]
     },
     "execution_count": 30,
     "metadata": {},
     "output_type": "execute_result"
    }
   ],
   "source": [
    "fdist.most_common(20)"
   ]
  },
  {
   "cell_type": "markdown",
   "id": "a7d2bc5e",
   "metadata": {},
   "source": [
    "2. Working with the news and romance generes form the Brown Corpus, find out: "
   ]
  },
  {
   "cell_type": "markdown",
   "id": "966b542a",
   "metadata": {},
   "source": [
    "2.1. Which days of the week are most newsworthy and which are most romantic. Define a variable called days counting a list of days of the week, i.e., [\"Monday\", ...]. Then, tabulate the counts for these words using cfd.tabulate(sample=days)."
   ]
  },
  {
   "cell_type": "code",
   "execution_count": 77,
   "id": "933e6ad6",
   "metadata": {},
   "outputs": [],
   "source": [
    "from nltk.corpus import brown"
   ]
  },
  {
   "cell_type": "code",
   "execution_count": 78,
   "id": "bad34942",
   "metadata": {},
   "outputs": [],
   "source": [
    "days = ['Monday', 'Tuesday', 'Wednesday', 'Thursday', 'Friday', 'Saturday', 'Sunday']"
   ]
  },
  {
   "cell_type": "code",
   "execution_count": 79,
   "id": "12ba9fca",
   "metadata": {},
   "outputs": [],
   "source": [
    "cfd = nltk.ConditionalFreqDist((genre, word)\n",
    "                              for genre in brown.categories()\n",
    "                                  for word in brown.words(categories=genre))"
   ]
  },
  {
   "cell_type": "code",
   "execution_count": 82,
   "id": "c437f284",
   "metadata": {},
   "outputs": [
    {
     "name": "stdout",
     "output_type": "stream",
     "text": [
      "           Monday   Tuesday Wednesday  Thursday    Friday  Saturday    Sunday \n",
      "   news        54        43        22        20        41        33        51 \n",
      "romance         2         3         3         1         3         4         5 \n"
     ]
    }
   ],
   "source": [
    "cfd.tabulate(conditions=['news', 'romance'], samples=days)"
   ]
  },
  {
   "cell_type": "markdown",
   "id": "05125eb2",
   "metadata": {},
   "source": [
    "2.2. Do the same, but use plot in place of tabulate"
   ]
  },
  {
   "cell_type": "code",
   "execution_count": 83,
   "id": "070f99a5",
   "metadata": {},
   "outputs": [
    {
     "data": {
      "image/png": "[encoded data removed]",
      "text/plain": [
       "<Figure size 432x288 with 1 Axes>"
      ]
     },
     "metadata": {
      "needs_background": "light"
     },
     "output_type": "display_data"
    },
    {
     "data": {
      "text/plain": [
       "<AxesSubplot:xlabel='Samples', ylabel='Counts'>"
      ]
     },
     "execution_count": 83,
     "metadata": {},
     "output_type": "execute_result"
    }
   ],
   "source": [
    "cfd.plot(conditions=['news', 'romance'], samples=days)"
   ]
  }
 ],
 "metadata": {
  "kernelspec": {
   "display_name": "Python 3",
   "language": "python",
   "name": "python3"
  },
  "language_info": {
   "codemirror_mode": {
    "name": "ipython",
    "version": 3
   },
   "file_extension": ".py",
   "mimetype": "text/x-python",
   "name": "python",
   "nbconvert_exporter": "python",
   "pygments_lexer": "ipython3",
   "version": "3.8.8"
  }
 },
 "nbformat": 4,
 "nbformat_minor": 5
}
