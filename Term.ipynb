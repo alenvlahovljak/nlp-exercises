{
 "cells": [
  {
   "cell_type": "code",
   "execution_count": 1,
   "id": "328dc33f",
   "metadata": {},
   "outputs": [],
   "source": [
    "import pandas as pd \n",
    "import seaborn as sns\n",
    "import matplotlib.pyplot as plt\n",
    "import nltk\n",
    "\n",
    "import re\n",
    "from nltk.corpus import stopwords\n",
    "from nltk.stem import LancasterStemmer\n",
    "from pandarallel import pandarallel \n",
    "\n",
    "from sklearn.utils import shuffle\n",
    "from mlxtend.plotting import plot_confusion_matrix\n",
    "from sklearn.preprocessing import LabelEncoder\n",
    "from sklearn.model_selection import train_test_split\n",
    "from sklearn.feature_extraction.text import TfidfVectorizer\n",
    "from sklearn.metrics import confusion_matrix, accuracy_score, classification_report\n",
    "from sklearn.tree import DecisionTreeClassifier"
   ]
  },
  {
   "cell_type": "code",
   "execution_count": 2,
   "id": "31a8064e",
   "metadata": {},
   "outputs": [
    {
     "name": "stderr",
     "output_type": "stream",
     "text": [
      "[nltk_data] Downloading package stopwords to\n",
      "[nltk_data]     /Users/alenvlahovljak/nltk_data...\n",
      "[nltk_data]   Package stopwords is already up-to-date!\n"
     ]
    },
    {
     "data": {
      "text/plain": [
       "True"
      ]
     },
     "execution_count": 2,
     "metadata": {},
     "output_type": "execute_result"
    }
   ],
   "source": [
    "nltk.download('stopwords')"
   ]
  },
  {
   "cell_type": "markdown",
   "id": "c96708ff",
   "metadata": {},
   "source": [
    "- Load dataset"
   ]
  },
  {
   "cell_type": "code",
   "execution_count": 3,
   "id": "95a9031e",
   "metadata": {},
   "outputs": [],
   "source": [
    "df = pd.read_csv('./tweets.csv', header=None, encoding='ISO-8859-1', names=[\"target\", \"id\", \"date\", \"flag\", \"user\", \"text\"])"
   ]
  },
  {
   "cell_type": "markdown",
   "id": "79d0bbd9",
   "metadata": {},
   "source": [
    "- Init parallel processsing"
   ]
  },
  {
   "cell_type": "code",
   "execution_count": 4,
   "id": "19d90311",
   "metadata": {},
   "outputs": [
    {
     "name": "stdout",
     "output_type": "stream",
     "text": [
      "INFO: Pandarallel will run on 12 workers.\n",
      "INFO: Pandarallel will use standard multiprocessing data transfer (pipe) to transfer data between the main process and workers.\n"
     ]
    }
   ],
   "source": [
    "pandarallel.initialize()"
   ]
  },
  {
   "cell_type": "markdown",
   "id": "1bb31e4b",
   "metadata": {},
   "source": [
    "- Get first five rows"
   ]
  },
  {
   "cell_type": "code",
   "execution_count": 5,
   "id": "18de15d8",
   "metadata": {},
   "outputs": [
    {
     "data": {
      "text/html": [
       "<div>\n",
       "<style scoped>\n",
       "    .dataframe tbody tr th:only-of-type {\n",
       "        vertical-align: middle;\n",
       "    }\n",
       "\n",
       "    .dataframe tbody tr th {\n",
       "        vertical-align: top;\n",
       "    }\n",
       "\n",
       "    .dataframe thead th {\n",
       "        text-align: right;\n",
       "    }\n",
       "</style>\n",
       "<table border=\"1\" class=\"dataframe\">\n",
       "  <thead>\n",
       "    <tr style=\"text-align: right;\">\n",
       "      <th></th>\n",
       "      <th>target</th>\n",
       "      <th>id</th>\n",
       "      <th>date</th>\n",
       "      <th>flag</th>\n",
       "      <th>user</th>\n",
       "      <th>text</th>\n",
       "    </tr>\n",
       "  </thead>\n",
       "  <tbody>\n",
       "    <tr>\n",
       "      <th>0</th>\n",
       "      <td>0</td>\n",
       "      <td>1467810369</td>\n",
       "      <td>Mon Apr 06 22:19:45 PDT 2009</td>\n",
       "      <td>NO_QUERY</td>\n",
       "      <td>_TheSpecialOne_</td>\n",
       "      <td>@switchfoot http://twitpic.com/2y1zl - Awww, t...</td>\n",
       "    </tr>\n",
       "    <tr>\n",
       "      <th>1</th>\n",
       "      <td>0</td>\n",
       "      <td>1467810672</td>\n",
       "      <td>Mon Apr 06 22:19:49 PDT 2009</td>\n",
       "      <td>NO_QUERY</td>\n",
       "      <td>scotthamilton</td>\n",
       "      <td>is upset that he can't update his Facebook by ...</td>\n",
       "    </tr>\n",
       "    <tr>\n",
       "      <th>2</th>\n",
       "      <td>0</td>\n",
       "      <td>1467810917</td>\n",
       "      <td>Mon Apr 06 22:19:53 PDT 2009</td>\n",
       "      <td>NO_QUERY</td>\n",
       "      <td>mattycus</td>\n",
       "      <td>@Kenichan I dived many times for the ball. Man...</td>\n",
       "    </tr>\n",
       "    <tr>\n",
       "      <th>3</th>\n",
       "      <td>0</td>\n",
       "      <td>1467811184</td>\n",
       "      <td>Mon Apr 06 22:19:57 PDT 2009</td>\n",
       "      <td>NO_QUERY</td>\n",
       "      <td>ElleCTF</td>\n",
       "      <td>my whole body feels itchy and like its on fire</td>\n",
       "    </tr>\n",
       "    <tr>\n",
       "      <th>4</th>\n",
       "      <td>0</td>\n",
       "      <td>1467811193</td>\n",
       "      <td>Mon Apr 06 22:19:57 PDT 2009</td>\n",
       "      <td>NO_QUERY</td>\n",
       "      <td>Karoli</td>\n",
       "      <td>@nationwideclass no, it's not behaving at all....</td>\n",
       "    </tr>\n",
       "  </tbody>\n",
       "</table>\n",
       "</div>"
      ],
      "text/plain": [
       "   target          id                          date      flag  \\\n",
       "0       0  1467810369  Mon Apr 06 22:19:45 PDT 2009  NO_QUERY   \n",
       "1       0  1467810672  Mon Apr 06 22:19:49 PDT 2009  NO_QUERY   \n",
       "2       0  1467810917  Mon Apr 06 22:19:53 PDT 2009  NO_QUERY   \n",
       "3       0  1467811184  Mon Apr 06 22:19:57 PDT 2009  NO_QUERY   \n",
       "4       0  1467811193  Mon Apr 06 22:19:57 PDT 2009  NO_QUERY   \n",
       "\n",
       "              user                                               text  \n",
       "0  _TheSpecialOne_  @switchfoot http://twitpic.com/2y1zl - Awww, t...  \n",
       "1    scotthamilton  is upset that he can't update his Facebook by ...  \n",
       "2         mattycus  @Kenichan I dived many times for the ball. Man...  \n",
       "3          ElleCTF    my whole body feels itchy and like its on fire   \n",
       "4           Karoli  @nationwideclass no, it's not behaving at all....  "
      ]
     },
     "execution_count": 5,
     "metadata": {},
     "output_type": "execute_result"
    }
   ],
   "source": [
    "df.head()"
   ]
  },
  {
   "cell_type": "markdown",
   "id": "7b8fff22",
   "metadata": {},
   "source": [
    "<h3>Prepocessing</h3>"
   ]
  },
  {
   "cell_type": "markdown",
   "id": "c860d4b1",
   "metadata": {},
   "source": [
    "- Drop irrelevant columns"
   ]
  },
  {
   "cell_type": "code",
   "execution_count": 6,
   "id": "6865963e",
   "metadata": {},
   "outputs": [
    {
     "data": {
      "text/html": [
       "<div>\n",
       "<style scoped>\n",
       "    .dataframe tbody tr th:only-of-type {\n",
       "        vertical-align: middle;\n",
       "    }\n",
       "\n",
       "    .dataframe tbody tr th {\n",
       "        vertical-align: top;\n",
       "    }\n",
       "\n",
       "    .dataframe thead th {\n",
       "        text-align: right;\n",
       "    }\n",
       "</style>\n",
       "<table border=\"1\" class=\"dataframe\">\n",
       "  <thead>\n",
       "    <tr style=\"text-align: right;\">\n",
       "      <th></th>\n",
       "      <th>target</th>\n",
       "      <th>id</th>\n",
       "      <th>date</th>\n",
       "      <th>user</th>\n",
       "      <th>text</th>\n",
       "    </tr>\n",
       "  </thead>\n",
       "  <tbody>\n",
       "    <tr>\n",
       "      <th>1599995</th>\n",
       "      <td>4</td>\n",
       "      <td>2193601966</td>\n",
       "      <td>Tue Jun 16 08:40:49 PDT 2009</td>\n",
       "      <td>AmandaMarie1028</td>\n",
       "      <td>Just woke up. Having no school is the best fee...</td>\n",
       "    </tr>\n",
       "    <tr>\n",
       "      <th>1599996</th>\n",
       "      <td>4</td>\n",
       "      <td>2193601969</td>\n",
       "      <td>Tue Jun 16 08:40:49 PDT 2009</td>\n",
       "      <td>TheWDBoards</td>\n",
       "      <td>TheWDB.com - Very cool to hear old Walt interv...</td>\n",
       "    </tr>\n",
       "    <tr>\n",
       "      <th>1599997</th>\n",
       "      <td>4</td>\n",
       "      <td>2193601991</td>\n",
       "      <td>Tue Jun 16 08:40:49 PDT 2009</td>\n",
       "      <td>bpbabe</td>\n",
       "      <td>Are you ready for your MoJo Makeover? Ask me f...</td>\n",
       "    </tr>\n",
       "    <tr>\n",
       "      <th>1599998</th>\n",
       "      <td>4</td>\n",
       "      <td>2193602064</td>\n",
       "      <td>Tue Jun 16 08:40:49 PDT 2009</td>\n",
       "      <td>tinydiamondz</td>\n",
       "      <td>Happy 38th Birthday to my boo of alll time!!! ...</td>\n",
       "    </tr>\n",
       "    <tr>\n",
       "      <th>1599999</th>\n",
       "      <td>4</td>\n",
       "      <td>2193602129</td>\n",
       "      <td>Tue Jun 16 08:40:50 PDT 2009</td>\n",
       "      <td>RyanTrevMorris</td>\n",
       "      <td>happy #charitytuesday @theNSPCC @SparksCharity...</td>\n",
       "    </tr>\n",
       "  </tbody>\n",
       "</table>\n",
       "</div>"
      ],
      "text/plain": [
       "         target          id                          date             user  \\\n",
       "1599995       4  2193601966  Tue Jun 16 08:40:49 PDT 2009  AmandaMarie1028   \n",
       "1599996       4  2193601969  Tue Jun 16 08:40:49 PDT 2009      TheWDBoards   \n",
       "1599997       4  2193601991  Tue Jun 16 08:40:49 PDT 2009           bpbabe   \n",
       "1599998       4  2193602064  Tue Jun 16 08:40:49 PDT 2009     tinydiamondz   \n",
       "1599999       4  2193602129  Tue Jun 16 08:40:50 PDT 2009   RyanTrevMorris   \n",
       "\n",
       "                                                      text  \n",
       "1599995  Just woke up. Having no school is the best fee...  \n",
       "1599996  TheWDB.com - Very cool to hear old Walt interv...  \n",
       "1599997  Are you ready for your MoJo Makeover? Ask me f...  \n",
       "1599998  Happy 38th Birthday to my boo of alll time!!! ...  \n",
       "1599999  happy #charitytuesday @theNSPCC @SparksCharity...  "
      ]
     },
     "execution_count": 6,
     "metadata": {},
     "output_type": "execute_result"
    }
   ],
   "source": [
    "df.drop(columns = 'flag', axis = 1, inplace = True)\n",
    "df.tail()"
   ]
  },
  {
   "cell_type": "markdown",
   "id": "4f9827f1",
   "metadata": {},
   "source": [
    "- Print dataframe size"
   ]
  },
  {
   "cell_type": "code",
   "execution_count": 7,
   "id": "5c80df85",
   "metadata": {},
   "outputs": [
    {
     "data": {
      "text/plain": [
       "8000000"
      ]
     },
     "execution_count": 7,
     "metadata": {},
     "output_type": "execute_result"
    }
   ],
   "source": [
    "df.size"
   ]
  },
  {
   "cell_type": "markdown",
   "id": "07bf5b8c",
   "metadata": {},
   "source": [
    "- Plot <code>target</code> distribution"
   ]
  },
  {
   "cell_type": "code",
   "execution_count": 8,
   "id": "7a9ea26d",
   "metadata": {},
   "outputs": [
    {
     "data": {
      "text/plain": [
       "<AxesSubplot:xlabel='target', ylabel='count'>"
      ]
     },
     "execution_count": 8,
     "metadata": {},
     "output_type": "execute_result"
    },
    {
     "data": {
      "image/png": "[encoded data removed]",
      "text/plain": [
       "<Figure size 432x288 with 1 Axes>"
      ]
     },
     "metadata": {
      "needs_background": "light"
     },
     "output_type": "display_data"
    }
   ],
   "source": [
    "sns.countplot(x='target', data=df)"
   ]
  },
  {
   "cell_type": "markdown",
   "id": "499b738a",
   "metadata": {},
   "source": [
    "- Shuffle data and take 500,000 tweets"
   ]
  },
  {
   "cell_type": "code",
   "execution_count": 9,
   "id": "0835e8e0",
   "metadata": {},
   "outputs": [],
   "source": [
    "df = shuffle(df, random_state=42)\n",
    "df = df[1:5000]"
   ]
  },
  {
   "cell_type": "markdown",
   "id": "deac153b",
   "metadata": {},
   "source": [
    "- Print unique values of <code>target</code>"
   ]
  },
  {
   "cell_type": "code",
   "execution_count": 10,
   "id": "9975ec4b",
   "metadata": {},
   "outputs": [
    {
     "data": {
      "text/plain": [
       "array([0, 4])"
      ]
     },
     "execution_count": 10,
     "metadata": {},
     "output_type": "execute_result"
    }
   ],
   "source": [
    "df['target'].unique()"
   ]
  },
  {
   "cell_type": "markdown",
   "id": "cd33a9af",
   "metadata": {},
   "source": [
    "- Count unique <code>target</code> values"
   ]
  },
  {
   "cell_type": "code",
   "execution_count": 11,
   "id": "55be7782",
   "metadata": {},
   "outputs": [
    {
     "data": {
      "text/plain": [
       "4    2504\n",
       "0    2495\n",
       "Name: target, dtype: int64"
      ]
     },
     "execution_count": 11,
     "metadata": {},
     "output_type": "execute_result"
    }
   ],
   "source": [
    "df['target'].value_counts()"
   ]
  },
  {
   "cell_type": "markdown",
   "id": "23c45eee",
   "metadata": {},
   "source": [
    "- Cleaning the <code>text</code>"
   ]
  },
  {
   "cell_type": "code",
   "execution_count": 12,
   "id": "e5a2d001",
   "metadata": {},
   "outputs": [],
   "source": [
    "def text_clean(text):\n",
    "    review = re.sub('[^a-zA-Z]',' ', text) \n",
    "    review = review.lower()\n",
    "    review = review.split()\n",
    "    \n",
    "    ps = LancasterStemmer()\n",
    "    \n",
    "    all_stopwords = stopwords.words('english')\n",
    "    all_stopwords.remove('not')\n",
    "    \n",
    "    review = [ps.stem(word) for word in review if not word in set(all_stopwords)]\n",
    "    \n",
    "    return ' '.join(review)"
   ]
  },
  {
   "cell_type": "code",
   "execution_count": 13,
   "id": "ad20adc0",
   "metadata": {},
   "outputs": [
    {
     "data": {
      "text/html": [
       "<div>\n",
       "<style scoped>\n",
       "    .dataframe tbody tr th:only-of-type {\n",
       "        vertical-align: middle;\n",
       "    }\n",
       "\n",
       "    .dataframe tbody tr th {\n",
       "        vertical-align: top;\n",
       "    }\n",
       "\n",
       "    .dataframe thead th {\n",
       "        text-align: right;\n",
       "    }\n",
       "</style>\n",
       "<table border=\"1\" class=\"dataframe\">\n",
       "  <thead>\n",
       "    <tr style=\"text-align: right;\">\n",
       "      <th></th>\n",
       "      <th>target</th>\n",
       "      <th>id</th>\n",
       "      <th>date</th>\n",
       "      <th>user</th>\n",
       "      <th>text</th>\n",
       "    </tr>\n",
       "  </thead>\n",
       "  <tbody>\n",
       "    <tr>\n",
       "      <th>750</th>\n",
       "      <td>0</td>\n",
       "      <td>1467998485</td>\n",
       "      <td>Mon Apr 06 23:11:14 PDT 2009</td>\n",
       "      <td>sexygrneyes</td>\n",
       "      <td>misstoriblack cool tweet ap razr</td>\n",
       "    </tr>\n",
       "    <tr>\n",
       "      <th>766711</th>\n",
       "      <td>0</td>\n",
       "      <td>2300048954</td>\n",
       "      <td>Tue Jun 23 13:40:11 PDT 2009</td>\n",
       "      <td>sammydearr</td>\n",
       "      <td>tiannachao know famy dram lam hey next tim u h...</td>\n",
       "    </tr>\n",
       "    <tr>\n",
       "      <th>285055</th>\n",
       "      <td>0</td>\n",
       "      <td>1993474027</td>\n",
       "      <td>Mon Jun 01 10:26:07 PDT 2009</td>\n",
       "      <td>Lamb_Leanne</td>\n",
       "      <td>school email op geograph stuff rev stupid school</td>\n",
       "    </tr>\n",
       "    <tr>\n",
       "      <th>705995</th>\n",
       "      <td>0</td>\n",
       "      <td>2256550904</td>\n",
       "      <td>Sat Jun 20 12:56:51 PDT 2009</td>\n",
       "      <td>yogicerdito</td>\n",
       "      <td>up airway problem</td>\n",
       "    </tr>\n",
       "    <tr>\n",
       "      <th>379611</th>\n",
       "      <td>0</td>\n",
       "      <td>2052380495</td>\n",
       "      <td>Sat Jun 06 00:32:16 PDT 2009</td>\n",
       "      <td>Yengching</td>\n",
       "      <td>going miss past sermon fai</td>\n",
       "    </tr>\n",
       "    <tr>\n",
       "      <th>...</th>\n",
       "      <td>...</td>\n",
       "      <td>...</td>\n",
       "      <td>...</td>\n",
       "      <td>...</td>\n",
       "      <td>...</td>\n",
       "    </tr>\n",
       "    <tr>\n",
       "      <th>1158200</th>\n",
       "      <td>4</td>\n",
       "      <td>1979246134</td>\n",
       "      <td>Sun May 31 02:13:48 PDT 2009</td>\n",
       "      <td>mimikinns</td>\n",
       "      <td>way freedom feel lik trap jail amp half friggi...</td>\n",
       "    </tr>\n",
       "    <tr>\n",
       "      <th>966771</th>\n",
       "      <td>4</td>\n",
       "      <td>1827723007</td>\n",
       "      <td>Sun May 17 11:18:39 PDT 2009</td>\n",
       "      <td>Joyhmb3</td>\n",
       "      <td>min report seen on long enough hop get distrac...</td>\n",
       "    </tr>\n",
       "    <tr>\n",
       "      <th>47209</th>\n",
       "      <td>0</td>\n",
       "      <td>1677584303</td>\n",
       "      <td>Sat May 02 02:52:50 PDT 2009</td>\n",
       "      <td>Trishanson</td>\n",
       "      <td>oh tir pillow blanket work yuck</td>\n",
       "    </tr>\n",
       "    <tr>\n",
       "      <th>1123661</th>\n",
       "      <td>4</td>\n",
       "      <td>1974531134</td>\n",
       "      <td>Sat May 30 13:19:23 PDT 2009</td>\n",
       "      <td>DiaZerva</td>\n",
       "      <td>satinephoenix not yet set think own mayb cont ...</td>\n",
       "    </tr>\n",
       "    <tr>\n",
       "      <th>759598</th>\n",
       "      <td>0</td>\n",
       "      <td>2296298639</td>\n",
       "      <td>Tue Jun 23 09:00:45 PDT 2009</td>\n",
       "      <td>tngonzalez</td>\n",
       "      <td>idkay stilv right not awesom tast coff non</td>\n",
       "    </tr>\n",
       "  </tbody>\n",
       "</table>\n",
       "<p>4999 rows × 5 columns</p>\n",
       "</div>"
      ],
      "text/plain": [
       "         target          id                          date         user  \\\n",
       "750           0  1467998485  Mon Apr 06 23:11:14 PDT 2009  sexygrneyes   \n",
       "766711        0  2300048954  Tue Jun 23 13:40:11 PDT 2009   sammydearr   \n",
       "285055        0  1993474027  Mon Jun 01 10:26:07 PDT 2009  Lamb_Leanne   \n",
       "705995        0  2256550904  Sat Jun 20 12:56:51 PDT 2009  yogicerdito   \n",
       "379611        0  2052380495  Sat Jun 06 00:32:16 PDT 2009    Yengching   \n",
       "...         ...         ...                           ...          ...   \n",
       "1158200       4  1979246134  Sun May 31 02:13:48 PDT 2009    mimikinns   \n",
       "966771        4  1827723007  Sun May 17 11:18:39 PDT 2009      Joyhmb3   \n",
       "47209         0  1677584303  Sat May 02 02:52:50 PDT 2009   Trishanson   \n",
       "1123661       4  1974531134  Sat May 30 13:19:23 PDT 2009     DiaZerva   \n",
       "759598        0  2296298639  Tue Jun 23 09:00:45 PDT 2009   tngonzalez   \n",
       "\n",
       "                                                      text  \n",
       "750                       misstoriblack cool tweet ap razr  \n",
       "766711   tiannachao know famy dram lam hey next tim u h...  \n",
       "285055    school email op geograph stuff rev stupid school  \n",
       "705995                                   up airway problem  \n",
       "379611                          going miss past sermon fai  \n",
       "...                                                    ...  \n",
       "1158200  way freedom feel lik trap jail amp half friggi...  \n",
       "966771   min report seen on long enough hop get distrac...  \n",
       "47209                      oh tir pillow blanket work yuck  \n",
       "1123661  satinephoenix not yet set think own mayb cont ...  \n",
       "759598          idkay stilv right not awesom tast coff non  \n",
       "\n",
       "[4999 rows x 5 columns]"
      ]
     },
     "execution_count": 13,
     "metadata": {},
     "output_type": "execute_result"
    }
   ],
   "source": [
    "df['text'] = df['text'].parallel_apply(lambda x: text_clean(x))\n",
    "df"
   ]
  },
  {
   "cell_type": "markdown",
   "id": "48bf1e80",
   "metadata": {},
   "source": [
    "- Integer encoding"
   ]
  },
  {
   "cell_type": "code",
   "execution_count": 14,
   "id": "4ffcab51",
   "metadata": {},
   "outputs": [],
   "source": [
    "encoder = LabelEncoder()\n",
    "\n",
    "y = df['target']\n",
    "\n",
    "encoder.fit(y)\n",
    "Y = encoder.transform(y)"
   ]
  },
  {
   "cell_type": "markdown",
   "id": "f0106b54",
   "metadata": {},
   "source": [
    "- Data split into training and testing"
   ]
  },
  {
   "cell_type": "code",
   "execution_count": 15,
   "id": "613476f8",
   "metadata": {},
   "outputs": [],
   "source": [
    "X_train, X_test, y_train, y_test = train_test_split(df['text'], y, test_size = 0.20, random_state = 0)"
   ]
  },
  {
   "cell_type": "markdown",
   "id": "3bbe5462",
   "metadata": {},
   "source": [
    "- K-fold cross validation, k = 5"
   ]
  },
  {
   "cell_type": "code",
   "execution_count": 16,
   "id": "a7d0be6e",
   "metadata": {},
   "outputs": [],
   "source": [
    "from sklearn.model_selection import cross_val_score \n",
    "\n",
    "def evaluation(model, X_test,  y_test):\n",
    "    y_pred = model.predict(X_test)\n",
    "    \n",
    "    scores = cross_val_score(model, X_test, y_test, cv = 5)\n",
    "    \n",
    "    print(scores.mean())\n",
    "    print(\"%0.2f accuracy with a standard deviation of %0.2f\" % (scores.mean(), scores.std()))"
   ]
  },
  {
   "cell_type": "markdown",
   "id": "69503de5",
   "metadata": {},
   "source": [
    "- TF-IDF Vectorizer (max_features = 2000 most frequent words)"
   ]
  },
  {
   "cell_type": "code",
   "execution_count": 17,
   "id": "6b166ef6",
   "metadata": {},
   "outputs": [],
   "source": [
    "tfidf = TfidfVectorizer(max_features = 500)\n",
    "\n",
    "X_train_tf = tfidf.fit_transform(X_train).toarray() \n",
    "X_test_tf = tfidf.transform(X_test).toarray()"
   ]
  },
  {
   "cell_type": "markdown",
   "id": "6012468a",
   "metadata": {},
   "source": [
    "- Decision Tree Classifier"
   ]
  },
  {
   "cell_type": "code",
   "execution_count": 18,
   "id": "3a941ffd",
   "metadata": {},
   "outputs": [],
   "source": [
    "dtc = DecisionTreeClassifier(criterion = 'entropy', random_state = 0)\n",
    "dtc.fit(X_train_tf, y_train)\n",
    "\n",
    "y_pred_dtc = dtc.predict(X_test_tf)"
   ]
  },
  {
   "cell_type": "markdown",
   "id": "7aa6040b",
   "metadata": {},
   "source": [
    "- Evaluate model"
   ]
  },
  {
   "cell_type": "code",
   "execution_count": 19,
   "id": "9875864c",
   "metadata": {},
   "outputs": [
    {
     "name": "stdout",
     "output_type": "stream",
     "text": [
      "0.587\n",
      "0.59 accuracy with a standard deviation of 0.04\n"
     ]
    }
   ],
   "source": [
    "evaluation(dtc, X_test_tf, y_test)"
   ]
  },
  {
   "cell_type": "markdown",
   "id": "de646099",
   "metadata": {},
   "source": [
    "- Accuracy:"
   ]
  },
  {
   "cell_type": "code",
   "execution_count": 20,
   "id": "a0e39012",
   "metadata": {},
   "outputs": [
    {
     "data": {
      "text/plain": [
       "0.648"
      ]
     },
     "execution_count": 20,
     "metadata": {},
     "output_type": "execute_result"
    }
   ],
   "source": [
    "accuracy_score(y_test, y_pred_dtc)"
   ]
  },
  {
   "cell_type": "markdown",
   "id": "31850e68",
   "metadata": {},
   "source": [
    "- Confusion Matrix "
   ]
  },
  {
   "cell_type": "code",
   "execution_count": 21,
   "id": "521330c9",
   "metadata": {},
   "outputs": [
    {
     "data": {
      "text/plain": [
       "array([[316, 186],\n",
       "       [166, 332]])"
      ]
     },
     "execution_count": 21,
     "metadata": {},
     "output_type": "execute_result"
    }
   ],
   "source": [
    "cm = confusion_matrix(y_test, y_pred_dtc)\n",
    "cm"
   ]
  },
  {
   "cell_type": "code",
   "execution_count": 22,
   "id": "0bb22e91",
   "metadata": {},
   "outputs": [
    {
     "data": {
      "image/png": "[encoded data removed]",
      "text/plain": [
       "<Figure size 432x288 with 1 Axes>"
      ]
     },
     "metadata": {
      "needs_background": "light"
     },
     "output_type": "display_data"
    }
   ],
   "source": [
    "plot_confusion_matrix(conf_mat = cm)\n",
    "plt.show()"
   ]
  },
  {
   "cell_type": "markdown",
   "id": "9a204119",
   "metadata": {},
   "source": [
    "- 316 true negative\n",
    "- 166 false negative\n",
    "- 186 false positive\n",
    "- 332 true positive\n",
    "\n",
    "\n",
    "- When predicting negative, we're doing right in 65% of cases. In 34% of cases, we got wrong when expecting negative - predicting false negative.\n",
    "- In the case of predicting positives, we're predicting it right in around 64%. In about 36%, we are predicting false positives."
   ]
  },
  {
   "cell_type": "markdown",
   "id": "80aefb31",
   "metadata": {},
   "source": [
    "- Classification Report"
   ]
  },
  {
   "cell_type": "code",
   "execution_count": 23,
   "id": "e9154f31",
   "metadata": {},
   "outputs": [
    {
     "name": "stdout",
     "output_type": "stream",
     "text": [
      "Classification Report:\n",
      "               precision    recall  f1-score   support\n",
      "\n",
      "           0       0.66      0.63      0.64       502\n",
      "           4       0.64      0.67      0.65       498\n",
      "\n",
      "    accuracy                           0.65      1000\n",
      "   macro avg       0.65      0.65      0.65      1000\n",
      "weighted avg       0.65      0.65      0.65      1000\n",
      "\n"
     ]
    }
   ],
   "source": [
    "print(\"Classification Report:\\n\", classification_report(y_test, y_pred_dtc))"
   ]
  }
 ],
 "metadata": {
  "kernelspec": {
   "display_name": "Python 3",
   "language": "python",
   "name": "python3"
  },
  "language_info": {
   "codemirror_mode": {
    "name": "ipython",
    "version": 3
   },
   "file_extension": ".py",
   "mimetype": "text/x-python",
   "name": "python",
   "nbconvert_exporter": "python",
   "pygments_lexer": "ipython3",
   "version": "3.8.8"
  }
 },
 "nbformat": 4,
 "nbformat_minor": 5
}
