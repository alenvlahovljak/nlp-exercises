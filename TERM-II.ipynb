{
 "cells": [
  {
   "cell_type": "markdown",
   "id": "45fb3252",
   "metadata": {},
   "source": [
    "- Import modules"
   ]
  },
  {
   "cell_type": "code",
   "execution_count": 218,
   "id": "99377118",
   "metadata": {},
   "outputs": [],
   "source": [
    "import pandas as pd \n",
    "import seaborn as sns\n",
    "import matplotlib.pyplot as plt\n",
    "import nltk\n",
    "\n",
    "import re\n",
    "from nltk.corpus import stopwords\n",
    "from nltk.stem import LancasterStemmer\n",
    "from pandarallel import pandarallel \n",
    "\n",
    "from sklearn.utils import shuffle\n",
    "from mlxtend.plotting import plot_confusion_matrix\n",
    "from sklearn.preprocessing import LabelEncoder\n",
    "\n",
    "from sklearn.feature_extraction.text import TfidfVectorizer\n",
    "from sklearn.metrics import confusion_matrix, accuracy_score, classification_report\n",
    "from sklearn.tree import DecisionTreeClassifier\n",
    "from sklearn.model_selection import cross_val_score "
   ]
  },
  {
   "cell_type": "markdown",
   "id": "2592f8ed",
   "metadata": {},
   "source": [
    "- Initilize parallel processing module for faster data processing"
   ]
  },
  {
   "cell_type": "code",
   "execution_count": 219,
   "id": "9bc63e9f",
   "metadata": {},
   "outputs": [
    {
     "name": "stdout",
     "output_type": "stream",
     "text": [
      "INFO: Pandarallel will run on 12 workers.\n",
      "INFO: Pandarallel will use standard multiprocessing data transfer (pipe) to transfer data between the main process and workers.\n"
     ]
    }
   ],
   "source": [
    "pandarallel.initialize()"
   ]
  },
  {
   "cell_type": "markdown",
   "id": "c65a2cd2",
   "metadata": {},
   "source": [
    "- Download NLTK"
   ]
  },
  {
   "cell_type": "code",
   "execution_count": 220,
   "id": "e91bfe2d",
   "metadata": {},
   "outputs": [
    {
     "name": "stderr",
     "output_type": "stream",
     "text": [
      "[nltk_data] Downloading package stopwords to\n",
      "[nltk_data]     /Users/alenvlahovljak/nltk_data...\n",
      "[nltk_data]   Package stopwords is already up-to-date!\n"
     ]
    },
    {
     "data": {
      "text/plain": [
       "True"
      ]
     },
     "execution_count": 220,
     "metadata": {},
     "output_type": "execute_result"
    }
   ],
   "source": [
    "nltk.download('stopwords')"
   ]
  },
  {
   "cell_type": "markdown",
   "id": "1626d470",
   "metadata": {},
   "source": [
    "- Import both train and test data frames"
   ]
  },
  {
   "cell_type": "code",
   "execution_count": 222,
   "id": "736d94cd",
   "metadata": {},
   "outputs": [],
   "source": [
    "df_train = pd.read_csv('./tweetTraining.csv', header=None, encoding='ISO-8859-1', names=[\"id\", \"date\", \"user\", \"text\", \"tweet_polarity\"])\n",
    "df_test = pd.read_csv('./tweetTraining.csv', header=None, encoding='ISO-8859-1', names=[\"id\", \"date\", \"user\", \"text\", \"tweet_polarity\"])"
   ]
  },
  {
   "cell_type": "markdown",
   "id": "014a3963",
   "metadata": {},
   "source": [
    "- Print train data frame"
   ]
  },
  {
   "cell_type": "code",
   "execution_count": 223,
   "id": "38c384d3",
   "metadata": {},
   "outputs": [
    {
     "data": {
      "text/html": [
       "<div>\n",
       "<style scoped>\n",
       "    .dataframe tbody tr th:only-of-type {\n",
       "        vertical-align: middle;\n",
       "    }\n",
       "\n",
       "    .dataframe tbody tr th {\n",
       "        vertical-align: top;\n",
       "    }\n",
       "\n",
       "    .dataframe thead th {\n",
       "        text-align: right;\n",
       "    }\n",
       "</style>\n",
       "<table border=\"1\" class=\"dataframe\">\n",
       "  <thead>\n",
       "    <tr style=\"text-align: right;\">\n",
       "      <th></th>\n",
       "      <th>id</th>\n",
       "      <th>date</th>\n",
       "      <th>user</th>\n",
       "      <th>text</th>\n",
       "      <th>tweet_polarity</th>\n",
       "    </tr>\n",
       "  </thead>\n",
       "  <tbody>\n",
       "    <tr>\n",
       "      <th>0</th>\n",
       "      <td>1467810369</td>\n",
       "      <td>Mon Apr 06 22:19:45 PDT 2009</td>\n",
       "      <td>_TheSpecialOne_</td>\n",
       "      <td>@switchfoot http://twitpic.com/2y1zl - Awww, t...</td>\n",
       "      <td>0</td>\n",
       "    </tr>\n",
       "    <tr>\n",
       "      <th>1</th>\n",
       "      <td>1467810672</td>\n",
       "      <td>Mon Apr 06 22:19:49 PDT 2009</td>\n",
       "      <td>scotthamilton</td>\n",
       "      <td>is upset that he can't update his Facebook by ...</td>\n",
       "      <td>0</td>\n",
       "    </tr>\n",
       "    <tr>\n",
       "      <th>2</th>\n",
       "      <td>1467810917</td>\n",
       "      <td>Mon Apr 06 22:19:53 PDT 2009</td>\n",
       "      <td>mattycus</td>\n",
       "      <td>@Kenichan I dived many times for the ball. Man...</td>\n",
       "      <td>0</td>\n",
       "    </tr>\n",
       "    <tr>\n",
       "      <th>3</th>\n",
       "      <td>1467811184</td>\n",
       "      <td>Mon Apr 06 22:19:57 PDT 2009</td>\n",
       "      <td>ElleCTF</td>\n",
       "      <td>my whole body feels itchy and like its on fire</td>\n",
       "      <td>0</td>\n",
       "    </tr>\n",
       "    <tr>\n",
       "      <th>4</th>\n",
       "      <td>1467811193</td>\n",
       "      <td>Mon Apr 06 22:19:57 PDT 2009</td>\n",
       "      <td>Karoli</td>\n",
       "      <td>@nationwideclass no, it's not behaving at all....</td>\n",
       "      <td>0</td>\n",
       "    </tr>\n",
       "    <tr>\n",
       "      <th>...</th>\n",
       "      <td>...</td>\n",
       "      <td>...</td>\n",
       "      <td>...</td>\n",
       "      <td>...</td>\n",
       "      <td>...</td>\n",
       "    </tr>\n",
       "    <tr>\n",
       "      <th>9995</th>\n",
       "      <td>2184830969</td>\n",
       "      <td>Mon Jun 15 16:29:07 PDT 2009</td>\n",
       "      <td>jfanaian</td>\n",
       "      <td>@annhoff yeah I'm right next to you!</td>\n",
       "      <td>4</td>\n",
       "    </tr>\n",
       "    <tr>\n",
       "      <th>9996</th>\n",
       "      <td>2184831004</td>\n",
       "      <td>Mon Jun 15 16:29:08 PDT 2009</td>\n",
       "      <td>mikeyloops</td>\n",
       "      <td>Oh my way to slo</td>\n",
       "      <td>4</td>\n",
       "    </tr>\n",
       "    <tr>\n",
       "      <th>9997</th>\n",
       "      <td>2184831055</td>\n",
       "      <td>Mon Jun 15 16:29:08 PDT 2009</td>\n",
       "      <td>FelineRoyalty</td>\n",
       "      <td>Today is my birthday, I'm 7 years young  Mom g...</td>\n",
       "      <td>4</td>\n",
       "    </tr>\n",
       "    <tr>\n",
       "      <th>9998</th>\n",
       "      <td>2184831095</td>\n",
       "      <td>Mon Jun 15 16:29:08 PDT 2009</td>\n",
       "      <td>babyd</td>\n",
       "      <td>Internet se cortÃ³ y dejÃ³ de subirse el video...</td>\n",
       "      <td>4</td>\n",
       "    </tr>\n",
       "    <tr>\n",
       "      <th>9999</th>\n",
       "      <td>2184831142</td>\n",
       "      <td>Mon Jun 15 16:29:08 PDT 2009</td>\n",
       "      <td>sonjiya</td>\n",
       "      <td>@xsparkage i'm so ready for new xcookage</td>\n",
       "      <td>4</td>\n",
       "    </tr>\n",
       "  </tbody>\n",
       "</table>\n",
       "<p>10000 rows × 5 columns</p>\n",
       "</div>"
      ],
      "text/plain": [
       "              id                          date             user  \\\n",
       "0     1467810369  Mon Apr 06 22:19:45 PDT 2009  _TheSpecialOne_   \n",
       "1     1467810672  Mon Apr 06 22:19:49 PDT 2009    scotthamilton   \n",
       "2     1467810917  Mon Apr 06 22:19:53 PDT 2009         mattycus   \n",
       "3     1467811184  Mon Apr 06 22:19:57 PDT 2009          ElleCTF   \n",
       "4     1467811193  Mon Apr 06 22:19:57 PDT 2009           Karoli   \n",
       "...          ...                           ...              ...   \n",
       "9995  2184830969  Mon Jun 15 16:29:07 PDT 2009         jfanaian   \n",
       "9996  2184831004  Mon Jun 15 16:29:08 PDT 2009       mikeyloops   \n",
       "9997  2184831055  Mon Jun 15 16:29:08 PDT 2009    FelineRoyalty   \n",
       "9998  2184831095  Mon Jun 15 16:29:08 PDT 2009            babyd   \n",
       "9999  2184831142  Mon Jun 15 16:29:08 PDT 2009          sonjiya   \n",
       "\n",
       "                                                   text  tweet_polarity  \n",
       "0     @switchfoot http://twitpic.com/2y1zl - Awww, t...               0  \n",
       "1     is upset that he can't update his Facebook by ...               0  \n",
       "2     @Kenichan I dived many times for the ball. Man...               0  \n",
       "3       my whole body feels itchy and like its on fire                0  \n",
       "4     @nationwideclass no, it's not behaving at all....               0  \n",
       "...                                                 ...             ...  \n",
       "9995              @annhoff yeah I'm right next to you!                4  \n",
       "9996                                  Oh my way to slo                4  \n",
       "9997  Today is my birthday, I'm 7 years young  Mom g...               4  \n",
       "9998  Internet se cortÃ³ y dejÃ³ de subirse el video...               4  \n",
       "9999          @xsparkage i'm so ready for new xcookage                4  \n",
       "\n",
       "[10000 rows x 5 columns]"
      ]
     },
     "execution_count": 223,
     "metadata": {},
     "output_type": "execute_result"
    }
   ],
   "source": [
    "df_train"
   ]
  },
  {
   "cell_type": "markdown",
   "id": "711ac41b",
   "metadata": {},
   "source": [
    "- Print test data frame"
   ]
  },
  {
   "cell_type": "code",
   "execution_count": 6,
   "id": "c79512f5",
   "metadata": {},
   "outputs": [
    {
     "data": {
      "text/html": [
       "<div>\n",
       "<style scoped>\n",
       "    .dataframe tbody tr th:only-of-type {\n",
       "        vertical-align: middle;\n",
       "    }\n",
       "\n",
       "    .dataframe tbody tr th {\n",
       "        vertical-align: top;\n",
       "    }\n",
       "\n",
       "    .dataframe thead th {\n",
       "        text-align: right;\n",
       "    }\n",
       "</style>\n",
       "<table border=\"1\" class=\"dataframe\">\n",
       "  <thead>\n",
       "    <tr style=\"text-align: right;\">\n",
       "      <th></th>\n",
       "      <th>id</th>\n",
       "      <th>date</th>\n",
       "      <th>user</th>\n",
       "      <th>text</th>\n",
       "      <th>tweet_polarity</th>\n",
       "    </tr>\n",
       "  </thead>\n",
       "  <tbody>\n",
       "    <tr>\n",
       "      <th>0</th>\n",
       "      <td>1467810369</td>\n",
       "      <td>Mon Apr 06 22:19:45 PDT 2009</td>\n",
       "      <td>_TheSpecialOne_</td>\n",
       "      <td>@switchfoot http://twitpic.com/2y1zl - Awww, t...</td>\n",
       "      <td>0</td>\n",
       "    </tr>\n",
       "    <tr>\n",
       "      <th>1</th>\n",
       "      <td>1467810672</td>\n",
       "      <td>Mon Apr 06 22:19:49 PDT 2009</td>\n",
       "      <td>scotthamilton</td>\n",
       "      <td>is upset that he can't update his Facebook by ...</td>\n",
       "      <td>0</td>\n",
       "    </tr>\n",
       "    <tr>\n",
       "      <th>2</th>\n",
       "      <td>1467810917</td>\n",
       "      <td>Mon Apr 06 22:19:53 PDT 2009</td>\n",
       "      <td>mattycus</td>\n",
       "      <td>@Kenichan I dived many times for the ball. Man...</td>\n",
       "      <td>0</td>\n",
       "    </tr>\n",
       "    <tr>\n",
       "      <th>3</th>\n",
       "      <td>1467811184</td>\n",
       "      <td>Mon Apr 06 22:19:57 PDT 2009</td>\n",
       "      <td>ElleCTF</td>\n",
       "      <td>my whole body feels itchy and like its on fire</td>\n",
       "      <td>0</td>\n",
       "    </tr>\n",
       "    <tr>\n",
       "      <th>4</th>\n",
       "      <td>1467811193</td>\n",
       "      <td>Mon Apr 06 22:19:57 PDT 2009</td>\n",
       "      <td>Karoli</td>\n",
       "      <td>@nationwideclass no, it's not behaving at all....</td>\n",
       "      <td>0</td>\n",
       "    </tr>\n",
       "    <tr>\n",
       "      <th>...</th>\n",
       "      <td>...</td>\n",
       "      <td>...</td>\n",
       "      <td>...</td>\n",
       "      <td>...</td>\n",
       "      <td>...</td>\n",
       "    </tr>\n",
       "    <tr>\n",
       "      <th>9995</th>\n",
       "      <td>2184830969</td>\n",
       "      <td>Mon Jun 15 16:29:07 PDT 2009</td>\n",
       "      <td>jfanaian</td>\n",
       "      <td>@annhoff yeah I'm right next to you!</td>\n",
       "      <td>4</td>\n",
       "    </tr>\n",
       "    <tr>\n",
       "      <th>9996</th>\n",
       "      <td>2184831004</td>\n",
       "      <td>Mon Jun 15 16:29:08 PDT 2009</td>\n",
       "      <td>mikeyloops</td>\n",
       "      <td>Oh my way to slo</td>\n",
       "      <td>4</td>\n",
       "    </tr>\n",
       "    <tr>\n",
       "      <th>9997</th>\n",
       "      <td>2184831055</td>\n",
       "      <td>Mon Jun 15 16:29:08 PDT 2009</td>\n",
       "      <td>FelineRoyalty</td>\n",
       "      <td>Today is my birthday, I'm 7 years young  Mom g...</td>\n",
       "      <td>4</td>\n",
       "    </tr>\n",
       "    <tr>\n",
       "      <th>9998</th>\n",
       "      <td>2184831095</td>\n",
       "      <td>Mon Jun 15 16:29:08 PDT 2009</td>\n",
       "      <td>babyd</td>\n",
       "      <td>Internet se cortÃ³ y dejÃ³ de subirse el video...</td>\n",
       "      <td>4</td>\n",
       "    </tr>\n",
       "    <tr>\n",
       "      <th>9999</th>\n",
       "      <td>2184831142</td>\n",
       "      <td>Mon Jun 15 16:29:08 PDT 2009</td>\n",
       "      <td>sonjiya</td>\n",
       "      <td>@xsparkage i'm so ready for new xcookage</td>\n",
       "      <td>4</td>\n",
       "    </tr>\n",
       "  </tbody>\n",
       "</table>\n",
       "<p>10000 rows × 5 columns</p>\n",
       "</div>"
      ],
      "text/plain": [
       "              id                          date             user  \\\n",
       "0     1467810369  Mon Apr 06 22:19:45 PDT 2009  _TheSpecialOne_   \n",
       "1     1467810672  Mon Apr 06 22:19:49 PDT 2009    scotthamilton   \n",
       "2     1467810917  Mon Apr 06 22:19:53 PDT 2009         mattycus   \n",
       "3     1467811184  Mon Apr 06 22:19:57 PDT 2009          ElleCTF   \n",
       "4     1467811193  Mon Apr 06 22:19:57 PDT 2009           Karoli   \n",
       "...          ...                           ...              ...   \n",
       "9995  2184830969  Mon Jun 15 16:29:07 PDT 2009         jfanaian   \n",
       "9996  2184831004  Mon Jun 15 16:29:08 PDT 2009       mikeyloops   \n",
       "9997  2184831055  Mon Jun 15 16:29:08 PDT 2009    FelineRoyalty   \n",
       "9998  2184831095  Mon Jun 15 16:29:08 PDT 2009            babyd   \n",
       "9999  2184831142  Mon Jun 15 16:29:08 PDT 2009          sonjiya   \n",
       "\n",
       "                                                   text  tweet_polarity  \n",
       "0     @switchfoot http://twitpic.com/2y1zl - Awww, t...               0  \n",
       "1     is upset that he can't update his Facebook by ...               0  \n",
       "2     @Kenichan I dived many times for the ball. Man...               0  \n",
       "3       my whole body feels itchy and like its on fire                0  \n",
       "4     @nationwideclass no, it's not behaving at all....               0  \n",
       "...                                                 ...             ...  \n",
       "9995              @annhoff yeah I'm right next to you!                4  \n",
       "9996                                  Oh my way to slo                4  \n",
       "9997  Today is my birthday, I'm 7 years young  Mom g...               4  \n",
       "9998  Internet se cortÃ³ y dejÃ³ de subirse el video...               4  \n",
       "9999          @xsparkage i'm so ready for new xcookage                4  \n",
       "\n",
       "[10000 rows x 5 columns]"
      ]
     },
     "execution_count": 6,
     "metadata": {},
     "output_type": "execute_result"
    }
   ],
   "source": [
    "df_test"
   ]
  },
  {
   "cell_type": "markdown",
   "id": "5d6f3ba3",
   "metadata": {},
   "source": [
    "- Data frames' size"
   ]
  },
  {
   "cell_type": "code",
   "execution_count": 156,
   "id": "31f0f1ff",
   "metadata": {},
   "outputs": [
    {
     "name": "stdout",
     "output_type": "stream",
     "text": [
      "50000 50000\n"
     ]
    }
   ],
   "source": [
    "print(df_train.size, df_test.size)"
   ]
  },
  {
   "cell_type": "code",
   "execution_count": 8,
   "id": "66c4638a",
   "metadata": {},
   "outputs": [
    {
     "data": {
      "text/plain": [
       "<AxesSubplot:xlabel='text', ylabel='count'>"
      ]
     },
     "execution_count": 8,
     "metadata": {},
     "output_type": "execute_result"
    },
    {
     "name": "stderr",
     "output_type": "stream",
     "text": [
      "/Users/alenvlahovljak/opt/anaconda3/lib/python3.8/site-packages/matplotlib/backends/backend_agg.py:238: RuntimeWarning: Glyph 133 missing from current font.\n",
      "  font.set_text(s, 0.0, flags=flags)\n",
      "/Users/alenvlahovljak/opt/anaconda3/lib/python3.8/site-packages/matplotlib/backends/backend_agg.py:238: RuntimeWarning: Glyph 131 missing from current font.\n",
      "  font.set_text(s, 0.0, flags=flags)\n",
      "/Users/alenvlahovljak/opt/anaconda3/lib/python3.8/site-packages/matplotlib/backends/backend_agg.py:238: RuntimeWarning: Glyph 138 missing from current font.\n",
      "  font.set_text(s, 0.0, flags=flags)\n",
      "/Users/alenvlahovljak/opt/anaconda3/lib/python3.8/site-packages/matplotlib/backends/backend_agg.py:238: RuntimeWarning: Glyph 134 missing from current font.\n",
      "  font.set_text(s, 0.0, flags=flags)\n",
      "/Users/alenvlahovljak/opt/anaconda3/lib/python3.8/site-packages/matplotlib/backends/backend_agg.py:238: RuntimeWarning: Glyph 147 missing from current font.\n",
      "  font.set_text(s, 0.0, flags=flags)\n",
      "/Users/alenvlahovljak/opt/anaconda3/lib/python3.8/site-packages/matplotlib/backends/backend_agg.py:238: RuntimeWarning: Glyph 9 missing from current font.\n",
      "  font.set_text(s, 0.0, flags=flags)\n"
     ]
    },
    {
     "ename": "ValueError",
     "evalue": "\n@Rob_Jensen That is a chilly wake up call and $$$$ to boot. Bummer \n                                              ^\nExpected end of text, found '$'  (at char 46), (line:1, col:47)",
     "output_type": "error",
     "traceback": [
      "\u001b[0;31m---------------------------------------------------------------------------\u001b[0m",
      "\u001b[0;31mParseException\u001b[0m                            Traceback (most recent call last)",
      "\u001b[0;32m~/opt/anaconda3/lib/python3.8/site-packages/matplotlib/mathtext.py\u001b[0m in \u001b[0;36mparse\u001b[0;34m(self, s, fonts_object, fontsize, dpi)\u001b[0m\n\u001b[1;32m   2608\u001b[0m         \u001b[0;32mtry\u001b[0m\u001b[0;34m:\u001b[0m\u001b[0;34m\u001b[0m\u001b[0;34m\u001b[0m\u001b[0m\n\u001b[0;32m-> 2609\u001b[0;31m             \u001b[0mresult\u001b[0m \u001b[0;34m=\u001b[0m \u001b[0mself\u001b[0m\u001b[0;34m.\u001b[0m\u001b[0m_expression\u001b[0m\u001b[0;34m.\u001b[0m\u001b[0mparseString\u001b[0m\u001b[0;34m(\u001b[0m\u001b[0ms\u001b[0m\u001b[0;34m)\u001b[0m\u001b[0;34m\u001b[0m\u001b[0;34m\u001b[0m\u001b[0m\n\u001b[0m\u001b[1;32m   2610\u001b[0m         \u001b[0;32mexcept\u001b[0m \u001b[0mParseBaseException\u001b[0m \u001b[0;32mas\u001b[0m \u001b[0merr\u001b[0m\u001b[0;34m:\u001b[0m\u001b[0;34m\u001b[0m\u001b[0;34m\u001b[0m\u001b[0m\n",
      "\u001b[0;32m~/opt/anaconda3/lib/python3.8/site-packages/pyparsing.py\u001b[0m in \u001b[0;36mparseString\u001b[0;34m(self, instring, parseAll)\u001b[0m\n\u001b[1;32m   1954\u001b[0m                     \u001b[0mexc\u001b[0m\u001b[0;34m.\u001b[0m\u001b[0m__traceback__\u001b[0m \u001b[0;34m=\u001b[0m \u001b[0mself\u001b[0m\u001b[0;34m.\u001b[0m\u001b[0m_trim_traceback\u001b[0m\u001b[0;34m(\u001b[0m\u001b[0mexc\u001b[0m\u001b[0;34m.\u001b[0m\u001b[0m__traceback__\u001b[0m\u001b[0;34m)\u001b[0m\u001b[0;34m\u001b[0m\u001b[0;34m\u001b[0m\u001b[0m\n\u001b[0;32m-> 1955\u001b[0;31m                 \u001b[0;32mraise\u001b[0m \u001b[0mexc\u001b[0m\u001b[0;34m\u001b[0m\u001b[0;34m\u001b[0m\u001b[0m\n\u001b[0m\u001b[1;32m   1956\u001b[0m         \u001b[0;32melse\u001b[0m\u001b[0;34m:\u001b[0m\u001b[0;34m\u001b[0m\u001b[0;34m\u001b[0m\u001b[0m\n",
      "\u001b[0;32m~/opt/anaconda3/lib/python3.8/site-packages/pyparsing.py\u001b[0m in \u001b[0;36mparseImpl\u001b[0;34m(self, instring, loc, doActions)\u001b[0m\n\u001b[1;32m   3813\u001b[0m         \u001b[0;32mif\u001b[0m \u001b[0mloc\u001b[0m \u001b[0;34m<\u001b[0m \u001b[0mlen\u001b[0m\u001b[0;34m(\u001b[0m\u001b[0minstring\u001b[0m\u001b[0;34m)\u001b[0m\u001b[0;34m:\u001b[0m\u001b[0;34m\u001b[0m\u001b[0;34m\u001b[0m\u001b[0m\n\u001b[0;32m-> 3814\u001b[0;31m             \u001b[0;32mraise\u001b[0m \u001b[0mParseException\u001b[0m\u001b[0;34m(\u001b[0m\u001b[0minstring\u001b[0m\u001b[0;34m,\u001b[0m \u001b[0mloc\u001b[0m\u001b[0;34m,\u001b[0m \u001b[0mself\u001b[0m\u001b[0;34m.\u001b[0m\u001b[0merrmsg\u001b[0m\u001b[0;34m,\u001b[0m \u001b[0mself\u001b[0m\u001b[0;34m)\u001b[0m\u001b[0;34m\u001b[0m\u001b[0;34m\u001b[0m\u001b[0m\n\u001b[0m\u001b[1;32m   3815\u001b[0m         \u001b[0;32melif\u001b[0m \u001b[0mloc\u001b[0m \u001b[0;34m==\u001b[0m \u001b[0mlen\u001b[0m\u001b[0;34m(\u001b[0m\u001b[0minstring\u001b[0m\u001b[0;34m)\u001b[0m\u001b[0;34m:\u001b[0m\u001b[0;34m\u001b[0m\u001b[0;34m\u001b[0m\u001b[0m\n",
      "\u001b[0;31mParseException\u001b[0m: Expected end of text, found '$'  (at char 46), (line:1, col:47)",
      "\nThe above exception was the direct cause of the following exception:\n",
      "\u001b[0;31mValueError\u001b[0m                                Traceback (most recent call last)",
      "\u001b[0;32m~/opt/anaconda3/lib/python3.8/site-packages/IPython/core/formatters.py\u001b[0m in \u001b[0;36m__call__\u001b[0;34m(self, obj)\u001b[0m\n\u001b[1;32m    339\u001b[0m                 \u001b[0;32mpass\u001b[0m\u001b[0;34m\u001b[0m\u001b[0;34m\u001b[0m\u001b[0m\n\u001b[1;32m    340\u001b[0m             \u001b[0;32melse\u001b[0m\u001b[0;34m:\u001b[0m\u001b[0;34m\u001b[0m\u001b[0;34m\u001b[0m\u001b[0m\n\u001b[0;32m--> 341\u001b[0;31m                 \u001b[0;32mreturn\u001b[0m \u001b[0mprinter\u001b[0m\u001b[0;34m(\u001b[0m\u001b[0mobj\u001b[0m\u001b[0;34m)\u001b[0m\u001b[0;34m\u001b[0m\u001b[0;34m\u001b[0m\u001b[0m\n\u001b[0m\u001b[1;32m    342\u001b[0m             \u001b[0;31m# Finally look for special method names\u001b[0m\u001b[0;34m\u001b[0m\u001b[0;34m\u001b[0m\u001b[0;34m\u001b[0m\u001b[0m\n\u001b[1;32m    343\u001b[0m             \u001b[0mmethod\u001b[0m \u001b[0;34m=\u001b[0m \u001b[0mget_real_method\u001b[0m\u001b[0;34m(\u001b[0m\u001b[0mobj\u001b[0m\u001b[0;34m,\u001b[0m \u001b[0mself\u001b[0m\u001b[0;34m.\u001b[0m\u001b[0mprint_method\u001b[0m\u001b[0;34m)\u001b[0m\u001b[0;34m\u001b[0m\u001b[0;34m\u001b[0m\u001b[0m\n",
      "\u001b[0;32m~/opt/anaconda3/lib/python3.8/site-packages/IPython/core/pylabtools.py\u001b[0m in \u001b[0;36m<lambda>\u001b[0;34m(fig)\u001b[0m\n\u001b[1;32m    246\u001b[0m \u001b[0;34m\u001b[0m\u001b[0m\n\u001b[1;32m    247\u001b[0m     \u001b[0;32mif\u001b[0m \u001b[0;34m'png'\u001b[0m \u001b[0;32min\u001b[0m \u001b[0mformats\u001b[0m\u001b[0;34m:\u001b[0m\u001b[0;34m\u001b[0m\u001b[0;34m\u001b[0m\u001b[0m\n\u001b[0;32m--> 248\u001b[0;31m         \u001b[0mpng_formatter\u001b[0m\u001b[0;34m.\u001b[0m\u001b[0mfor_type\u001b[0m\u001b[0;34m(\u001b[0m\u001b[0mFigure\u001b[0m\u001b[0;34m,\u001b[0m \u001b[0;32mlambda\u001b[0m \u001b[0mfig\u001b[0m\u001b[0;34m:\u001b[0m \u001b[0mprint_figure\u001b[0m\u001b[0;34m(\u001b[0m\u001b[0mfig\u001b[0m\u001b[0;34m,\u001b[0m \u001b[0;34m'png'\u001b[0m\u001b[0;34m,\u001b[0m \u001b[0;34m**\u001b[0m\u001b[0mkwargs\u001b[0m\u001b[0;34m)\u001b[0m\u001b[0;34m)\u001b[0m\u001b[0;34m\u001b[0m\u001b[0;34m\u001b[0m\u001b[0m\n\u001b[0m\u001b[1;32m    249\u001b[0m     \u001b[0;32mif\u001b[0m \u001b[0;34m'retina'\u001b[0m \u001b[0;32min\u001b[0m \u001b[0mformats\u001b[0m \u001b[0;32mor\u001b[0m \u001b[0;34m'png2x'\u001b[0m \u001b[0;32min\u001b[0m \u001b[0mformats\u001b[0m\u001b[0;34m:\u001b[0m\u001b[0;34m\u001b[0m\u001b[0;34m\u001b[0m\u001b[0m\n\u001b[1;32m    250\u001b[0m         \u001b[0mpng_formatter\u001b[0m\u001b[0;34m.\u001b[0m\u001b[0mfor_type\u001b[0m\u001b[0;34m(\u001b[0m\u001b[0mFigure\u001b[0m\u001b[0;34m,\u001b[0m \u001b[0;32mlambda\u001b[0m \u001b[0mfig\u001b[0m\u001b[0;34m:\u001b[0m \u001b[0mretina_figure\u001b[0m\u001b[0;34m(\u001b[0m\u001b[0mfig\u001b[0m\u001b[0;34m,\u001b[0m \u001b[0;34m**\u001b[0m\u001b[0mkwargs\u001b[0m\u001b[0;34m)\u001b[0m\u001b[0;34m)\u001b[0m\u001b[0;34m\u001b[0m\u001b[0;34m\u001b[0m\u001b[0m\n",
      "\u001b[0;32m~/opt/anaconda3/lib/python3.8/site-packages/IPython/core/pylabtools.py\u001b[0m in \u001b[0;36mprint_figure\u001b[0;34m(fig, fmt, bbox_inches, **kwargs)\u001b[0m\n\u001b[1;32m    130\u001b[0m         \u001b[0mFigureCanvasBase\u001b[0m\u001b[0;34m(\u001b[0m\u001b[0mfig\u001b[0m\u001b[0;34m)\u001b[0m\u001b[0;34m\u001b[0m\u001b[0;34m\u001b[0m\u001b[0m\n\u001b[1;32m    131\u001b[0m \u001b[0;34m\u001b[0m\u001b[0m\n\u001b[0;32m--> 132\u001b[0;31m     \u001b[0mfig\u001b[0m\u001b[0;34m.\u001b[0m\u001b[0mcanvas\u001b[0m\u001b[0;34m.\u001b[0m\u001b[0mprint_figure\u001b[0m\u001b[0;34m(\u001b[0m\u001b[0mbytes_io\u001b[0m\u001b[0;34m,\u001b[0m \u001b[0;34m**\u001b[0m\u001b[0mkw\u001b[0m\u001b[0;34m)\u001b[0m\u001b[0;34m\u001b[0m\u001b[0;34m\u001b[0m\u001b[0m\n\u001b[0m\u001b[1;32m    133\u001b[0m     \u001b[0mdata\u001b[0m \u001b[0;34m=\u001b[0m \u001b[0mbytes_io\u001b[0m\u001b[0;34m.\u001b[0m\u001b[0mgetvalue\u001b[0m\u001b[0;34m(\u001b[0m\u001b[0;34m)\u001b[0m\u001b[0;34m\u001b[0m\u001b[0;34m\u001b[0m\u001b[0m\n\u001b[1;32m    134\u001b[0m     \u001b[0;32mif\u001b[0m \u001b[0mfmt\u001b[0m \u001b[0;34m==\u001b[0m \u001b[0;34m'svg'\u001b[0m\u001b[0;34m:\u001b[0m\u001b[0;34m\u001b[0m\u001b[0;34m\u001b[0m\u001b[0m\n",
      "\u001b[0;32m~/opt/anaconda3/lib/python3.8/site-packages/matplotlib/backend_bases.py\u001b[0m in \u001b[0;36mprint_figure\u001b[0;34m(self, filename, dpi, facecolor, edgecolor, orientation, format, bbox_inches, pad_inches, bbox_extra_artists, backend, **kwargs)\u001b[0m\n\u001b[1;32m   2191\u001b[0m                            else suppress())\n\u001b[1;32m   2192\u001b[0m                     \u001b[0;32mwith\u001b[0m \u001b[0mctx\u001b[0m\u001b[0;34m:\u001b[0m\u001b[0;34m\u001b[0m\u001b[0;34m\u001b[0m\u001b[0m\n\u001b[0;32m-> 2193\u001b[0;31m                         \u001b[0mself\u001b[0m\u001b[0;34m.\u001b[0m\u001b[0mfigure\u001b[0m\u001b[0;34m.\u001b[0m\u001b[0mdraw\u001b[0m\u001b[0;34m(\u001b[0m\u001b[0mrenderer\u001b[0m\u001b[0;34m)\u001b[0m\u001b[0;34m\u001b[0m\u001b[0;34m\u001b[0m\u001b[0m\n\u001b[0m\u001b[1;32m   2194\u001b[0m \u001b[0;34m\u001b[0m\u001b[0m\n\u001b[1;32m   2195\u001b[0m                     bbox_inches = self.figure.get_tightbbox(\n",
      "\u001b[0;32m~/opt/anaconda3/lib/python3.8/site-packages/matplotlib/artist.py\u001b[0m in \u001b[0;36mdraw_wrapper\u001b[0;34m(artist, renderer, *args, **kwargs)\u001b[0m\n\u001b[1;32m     39\u001b[0m                 \u001b[0mrenderer\u001b[0m\u001b[0;34m.\u001b[0m\u001b[0mstart_filter\u001b[0m\u001b[0;34m(\u001b[0m\u001b[0;34m)\u001b[0m\u001b[0;34m\u001b[0m\u001b[0;34m\u001b[0m\u001b[0m\n\u001b[1;32m     40\u001b[0m \u001b[0;34m\u001b[0m\u001b[0m\n\u001b[0;32m---> 41\u001b[0;31m             \u001b[0;32mreturn\u001b[0m \u001b[0mdraw\u001b[0m\u001b[0;34m(\u001b[0m\u001b[0martist\u001b[0m\u001b[0;34m,\u001b[0m \u001b[0mrenderer\u001b[0m\u001b[0;34m,\u001b[0m \u001b[0;34m*\u001b[0m\u001b[0margs\u001b[0m\u001b[0;34m,\u001b[0m \u001b[0;34m**\u001b[0m\u001b[0mkwargs\u001b[0m\u001b[0;34m)\u001b[0m\u001b[0;34m\u001b[0m\u001b[0;34m\u001b[0m\u001b[0m\n\u001b[0m\u001b[1;32m     42\u001b[0m         \u001b[0;32mfinally\u001b[0m\u001b[0;34m:\u001b[0m\u001b[0;34m\u001b[0m\u001b[0;34m\u001b[0m\u001b[0m\n\u001b[1;32m     43\u001b[0m             \u001b[0;32mif\u001b[0m \u001b[0martist\u001b[0m\u001b[0;34m.\u001b[0m\u001b[0mget_agg_filter\u001b[0m\u001b[0;34m(\u001b[0m\u001b[0;34m)\u001b[0m \u001b[0;32mis\u001b[0m \u001b[0;32mnot\u001b[0m \u001b[0;32mNone\u001b[0m\u001b[0;34m:\u001b[0m\u001b[0;34m\u001b[0m\u001b[0;34m\u001b[0m\u001b[0m\n",
      "\u001b[0;32m~/opt/anaconda3/lib/python3.8/site-packages/matplotlib/figure.py\u001b[0m in \u001b[0;36mdraw\u001b[0;34m(self, renderer)\u001b[0m\n\u001b[1;32m   1861\u001b[0m \u001b[0;34m\u001b[0m\u001b[0m\n\u001b[1;32m   1862\u001b[0m             \u001b[0mself\u001b[0m\u001b[0;34m.\u001b[0m\u001b[0mpatch\u001b[0m\u001b[0;34m.\u001b[0m\u001b[0mdraw\u001b[0m\u001b[0;34m(\u001b[0m\u001b[0mrenderer\u001b[0m\u001b[0;34m)\u001b[0m\u001b[0;34m\u001b[0m\u001b[0;34m\u001b[0m\u001b[0m\n\u001b[0;32m-> 1863\u001b[0;31m             mimage._draw_list_compositing_images(\n\u001b[0m\u001b[1;32m   1864\u001b[0m                 renderer, self, artists, self.suppressComposite)\n\u001b[1;32m   1865\u001b[0m \u001b[0;34m\u001b[0m\u001b[0m\n",
      "\u001b[0;32m~/opt/anaconda3/lib/python3.8/site-packages/matplotlib/image.py\u001b[0m in \u001b[0;36m_draw_list_compositing_images\u001b[0;34m(renderer, parent, artists, suppress_composite)\u001b[0m\n\u001b[1;32m    129\u001b[0m     \u001b[0;32mif\u001b[0m \u001b[0mnot_composite\u001b[0m \u001b[0;32mor\u001b[0m \u001b[0;32mnot\u001b[0m \u001b[0mhas_images\u001b[0m\u001b[0;34m:\u001b[0m\u001b[0;34m\u001b[0m\u001b[0;34m\u001b[0m\u001b[0m\n\u001b[1;32m    130\u001b[0m         \u001b[0;32mfor\u001b[0m \u001b[0ma\u001b[0m \u001b[0;32min\u001b[0m \u001b[0martists\u001b[0m\u001b[0;34m:\u001b[0m\u001b[0;34m\u001b[0m\u001b[0;34m\u001b[0m\u001b[0m\n\u001b[0;32m--> 131\u001b[0;31m             \u001b[0ma\u001b[0m\u001b[0;34m.\u001b[0m\u001b[0mdraw\u001b[0m\u001b[0;34m(\u001b[0m\u001b[0mrenderer\u001b[0m\u001b[0;34m)\u001b[0m\u001b[0;34m\u001b[0m\u001b[0;34m\u001b[0m\u001b[0m\n\u001b[0m\u001b[1;32m    132\u001b[0m     \u001b[0;32melse\u001b[0m\u001b[0;34m:\u001b[0m\u001b[0;34m\u001b[0m\u001b[0;34m\u001b[0m\u001b[0m\n\u001b[1;32m    133\u001b[0m         \u001b[0;31m# Composite any adjacent images together\u001b[0m\u001b[0;34m\u001b[0m\u001b[0;34m\u001b[0m\u001b[0;34m\u001b[0m\u001b[0m\n",
      "\u001b[0;32m~/opt/anaconda3/lib/python3.8/site-packages/matplotlib/artist.py\u001b[0m in \u001b[0;36mdraw_wrapper\u001b[0;34m(artist, renderer, *args, **kwargs)\u001b[0m\n\u001b[1;32m     39\u001b[0m                 \u001b[0mrenderer\u001b[0m\u001b[0;34m.\u001b[0m\u001b[0mstart_filter\u001b[0m\u001b[0;34m(\u001b[0m\u001b[0;34m)\u001b[0m\u001b[0;34m\u001b[0m\u001b[0;34m\u001b[0m\u001b[0m\n\u001b[1;32m     40\u001b[0m \u001b[0;34m\u001b[0m\u001b[0m\n\u001b[0;32m---> 41\u001b[0;31m             \u001b[0;32mreturn\u001b[0m \u001b[0mdraw\u001b[0m\u001b[0;34m(\u001b[0m\u001b[0martist\u001b[0m\u001b[0;34m,\u001b[0m \u001b[0mrenderer\u001b[0m\u001b[0;34m,\u001b[0m \u001b[0;34m*\u001b[0m\u001b[0margs\u001b[0m\u001b[0;34m,\u001b[0m \u001b[0;34m**\u001b[0m\u001b[0mkwargs\u001b[0m\u001b[0;34m)\u001b[0m\u001b[0;34m\u001b[0m\u001b[0;34m\u001b[0m\u001b[0m\n\u001b[0m\u001b[1;32m     42\u001b[0m         \u001b[0;32mfinally\u001b[0m\u001b[0;34m:\u001b[0m\u001b[0;34m\u001b[0m\u001b[0;34m\u001b[0m\u001b[0m\n\u001b[1;32m     43\u001b[0m             \u001b[0;32mif\u001b[0m \u001b[0martist\u001b[0m\u001b[0;34m.\u001b[0m\u001b[0mget_agg_filter\u001b[0m\u001b[0;34m(\u001b[0m\u001b[0;34m)\u001b[0m \u001b[0;32mis\u001b[0m \u001b[0;32mnot\u001b[0m \u001b[0;32mNone\u001b[0m\u001b[0;34m:\u001b[0m\u001b[0;34m\u001b[0m\u001b[0;34m\u001b[0m\u001b[0m\n",
      "\u001b[0;32m~/opt/anaconda3/lib/python3.8/site-packages/matplotlib/cbook/deprecation.py\u001b[0m in \u001b[0;36mwrapper\u001b[0;34m(*inner_args, **inner_kwargs)\u001b[0m\n\u001b[1;32m    409\u001b[0m                          \u001b[0;32melse\u001b[0m \u001b[0mdeprecation_addendum\u001b[0m\u001b[0;34m,\u001b[0m\u001b[0;34m\u001b[0m\u001b[0;34m\u001b[0m\u001b[0m\n\u001b[1;32m    410\u001b[0m                 **kwargs)\n\u001b[0;32m--> 411\u001b[0;31m         \u001b[0;32mreturn\u001b[0m \u001b[0mfunc\u001b[0m\u001b[0;34m(\u001b[0m\u001b[0;34m*\u001b[0m\u001b[0minner_args\u001b[0m\u001b[0;34m,\u001b[0m \u001b[0;34m**\u001b[0m\u001b[0minner_kwargs\u001b[0m\u001b[0;34m)\u001b[0m\u001b[0;34m\u001b[0m\u001b[0;34m\u001b[0m\u001b[0m\n\u001b[0m\u001b[1;32m    412\u001b[0m \u001b[0;34m\u001b[0m\u001b[0m\n\u001b[1;32m    413\u001b[0m     \u001b[0;32mreturn\u001b[0m \u001b[0mwrapper\u001b[0m\u001b[0;34m\u001b[0m\u001b[0;34m\u001b[0m\u001b[0m\n",
      "\u001b[0;32m~/opt/anaconda3/lib/python3.8/site-packages/matplotlib/axes/_base.py\u001b[0m in \u001b[0;36mdraw\u001b[0;34m(self, renderer, inframe)\u001b[0m\n\u001b[1;32m   2745\u001b[0m             \u001b[0mrenderer\u001b[0m\u001b[0;34m.\u001b[0m\u001b[0mstop_rasterizing\u001b[0m\u001b[0;34m(\u001b[0m\u001b[0;34m)\u001b[0m\u001b[0;34m\u001b[0m\u001b[0;34m\u001b[0m\u001b[0m\n\u001b[1;32m   2746\u001b[0m \u001b[0;34m\u001b[0m\u001b[0m\n\u001b[0;32m-> 2747\u001b[0;31m         \u001b[0mmimage\u001b[0m\u001b[0;34m.\u001b[0m\u001b[0m_draw_list_compositing_images\u001b[0m\u001b[0;34m(\u001b[0m\u001b[0mrenderer\u001b[0m\u001b[0;34m,\u001b[0m \u001b[0mself\u001b[0m\u001b[0;34m,\u001b[0m \u001b[0martists\u001b[0m\u001b[0;34m)\u001b[0m\u001b[0;34m\u001b[0m\u001b[0;34m\u001b[0m\u001b[0m\n\u001b[0m\u001b[1;32m   2748\u001b[0m \u001b[0;34m\u001b[0m\u001b[0m\n\u001b[1;32m   2749\u001b[0m         \u001b[0mrenderer\u001b[0m\u001b[0;34m.\u001b[0m\u001b[0mclose_group\u001b[0m\u001b[0;34m(\u001b[0m\u001b[0;34m'axes'\u001b[0m\u001b[0;34m)\u001b[0m\u001b[0;34m\u001b[0m\u001b[0;34m\u001b[0m\u001b[0m\n",
      "\u001b[0;32m~/opt/anaconda3/lib/python3.8/site-packages/matplotlib/image.py\u001b[0m in \u001b[0;36m_draw_list_compositing_images\u001b[0;34m(renderer, parent, artists, suppress_composite)\u001b[0m\n\u001b[1;32m    129\u001b[0m     \u001b[0;32mif\u001b[0m \u001b[0mnot_composite\u001b[0m \u001b[0;32mor\u001b[0m \u001b[0;32mnot\u001b[0m \u001b[0mhas_images\u001b[0m\u001b[0;34m:\u001b[0m\u001b[0;34m\u001b[0m\u001b[0;34m\u001b[0m\u001b[0m\n\u001b[1;32m    130\u001b[0m         \u001b[0;32mfor\u001b[0m \u001b[0ma\u001b[0m \u001b[0;32min\u001b[0m \u001b[0martists\u001b[0m\u001b[0;34m:\u001b[0m\u001b[0;34m\u001b[0m\u001b[0;34m\u001b[0m\u001b[0m\n\u001b[0;32m--> 131\u001b[0;31m             \u001b[0ma\u001b[0m\u001b[0;34m.\u001b[0m\u001b[0mdraw\u001b[0m\u001b[0;34m(\u001b[0m\u001b[0mrenderer\u001b[0m\u001b[0;34m)\u001b[0m\u001b[0;34m\u001b[0m\u001b[0;34m\u001b[0m\u001b[0m\n\u001b[0m\u001b[1;32m    132\u001b[0m     \u001b[0;32melse\u001b[0m\u001b[0;34m:\u001b[0m\u001b[0;34m\u001b[0m\u001b[0;34m\u001b[0m\u001b[0m\n\u001b[1;32m    133\u001b[0m         \u001b[0;31m# Composite any adjacent images together\u001b[0m\u001b[0;34m\u001b[0m\u001b[0;34m\u001b[0m\u001b[0;34m\u001b[0m\u001b[0m\n",
      "\u001b[0;32m~/opt/anaconda3/lib/python3.8/site-packages/matplotlib/artist.py\u001b[0m in \u001b[0;36mdraw_wrapper\u001b[0;34m(artist, renderer, *args, **kwargs)\u001b[0m\n\u001b[1;32m     39\u001b[0m                 \u001b[0mrenderer\u001b[0m\u001b[0;34m.\u001b[0m\u001b[0mstart_filter\u001b[0m\u001b[0;34m(\u001b[0m\u001b[0;34m)\u001b[0m\u001b[0;34m\u001b[0m\u001b[0;34m\u001b[0m\u001b[0m\n\u001b[1;32m     40\u001b[0m \u001b[0;34m\u001b[0m\u001b[0m\n\u001b[0;32m---> 41\u001b[0;31m             \u001b[0;32mreturn\u001b[0m \u001b[0mdraw\u001b[0m\u001b[0;34m(\u001b[0m\u001b[0martist\u001b[0m\u001b[0;34m,\u001b[0m \u001b[0mrenderer\u001b[0m\u001b[0;34m,\u001b[0m \u001b[0;34m*\u001b[0m\u001b[0margs\u001b[0m\u001b[0;34m,\u001b[0m \u001b[0;34m**\u001b[0m\u001b[0mkwargs\u001b[0m\u001b[0;34m)\u001b[0m\u001b[0;34m\u001b[0m\u001b[0;34m\u001b[0m\u001b[0m\n\u001b[0m\u001b[1;32m     42\u001b[0m         \u001b[0;32mfinally\u001b[0m\u001b[0;34m:\u001b[0m\u001b[0;34m\u001b[0m\u001b[0;34m\u001b[0m\u001b[0m\n\u001b[1;32m     43\u001b[0m             \u001b[0;32mif\u001b[0m \u001b[0martist\u001b[0m\u001b[0;34m.\u001b[0m\u001b[0mget_agg_filter\u001b[0m\u001b[0;34m(\u001b[0m\u001b[0;34m)\u001b[0m \u001b[0;32mis\u001b[0m \u001b[0;32mnot\u001b[0m \u001b[0;32mNone\u001b[0m\u001b[0;34m:\u001b[0m\u001b[0;34m\u001b[0m\u001b[0;34m\u001b[0m\u001b[0m\n",
      "\u001b[0;32m~/opt/anaconda3/lib/python3.8/site-packages/matplotlib/axis.py\u001b[0m in \u001b[0;36mdraw\u001b[0;34m(self, renderer, *args, **kwargs)\u001b[0m\n\u001b[1;32m   1163\u001b[0m \u001b[0;34m\u001b[0m\u001b[0m\n\u001b[1;32m   1164\u001b[0m         \u001b[0mticks_to_draw\u001b[0m \u001b[0;34m=\u001b[0m \u001b[0mself\u001b[0m\u001b[0;34m.\u001b[0m\u001b[0m_update_ticks\u001b[0m\u001b[0;34m(\u001b[0m\u001b[0;34m)\u001b[0m\u001b[0;34m\u001b[0m\u001b[0;34m\u001b[0m\u001b[0m\n\u001b[0;32m-> 1165\u001b[0;31m         ticklabelBoxes, ticklabelBoxes2 = self._get_tick_bboxes(ticks_to_draw,\n\u001b[0m\u001b[1;32m   1166\u001b[0m                                                                 renderer)\n\u001b[1;32m   1167\u001b[0m \u001b[0;34m\u001b[0m\u001b[0m\n",
      "\u001b[0;32m~/opt/anaconda3/lib/python3.8/site-packages/matplotlib/axis.py\u001b[0m in \u001b[0;36m_get_tick_bboxes\u001b[0;34m(self, ticks, renderer)\u001b[0m\n\u001b[1;32m   1089\u001b[0m     \u001b[0;32mdef\u001b[0m \u001b[0m_get_tick_bboxes\u001b[0m\u001b[0;34m(\u001b[0m\u001b[0mself\u001b[0m\u001b[0;34m,\u001b[0m \u001b[0mticks\u001b[0m\u001b[0;34m,\u001b[0m \u001b[0mrenderer\u001b[0m\u001b[0;34m)\u001b[0m\u001b[0;34m:\u001b[0m\u001b[0;34m\u001b[0m\u001b[0;34m\u001b[0m\u001b[0m\n\u001b[1;32m   1090\u001b[0m         \u001b[0;34m\"\"\"Return lists of bboxes for ticks' label1's and label2's.\"\"\"\u001b[0m\u001b[0;34m\u001b[0m\u001b[0;34m\u001b[0m\u001b[0m\n\u001b[0;32m-> 1091\u001b[0;31m         return ([tick.label1.get_window_extent(renderer)\n\u001b[0m\u001b[1;32m   1092\u001b[0m                  for tick in ticks if tick.label1.get_visible()],\n\u001b[1;32m   1093\u001b[0m                 [tick.label2.get_window_extent(renderer)\n",
      "\u001b[0;32m~/opt/anaconda3/lib/python3.8/site-packages/matplotlib/axis.py\u001b[0m in \u001b[0;36m<listcomp>\u001b[0;34m(.0)\u001b[0m\n\u001b[1;32m   1089\u001b[0m     \u001b[0;32mdef\u001b[0m \u001b[0m_get_tick_bboxes\u001b[0m\u001b[0;34m(\u001b[0m\u001b[0mself\u001b[0m\u001b[0;34m,\u001b[0m \u001b[0mticks\u001b[0m\u001b[0;34m,\u001b[0m \u001b[0mrenderer\u001b[0m\u001b[0;34m)\u001b[0m\u001b[0;34m:\u001b[0m\u001b[0;34m\u001b[0m\u001b[0;34m\u001b[0m\u001b[0m\n\u001b[1;32m   1090\u001b[0m         \u001b[0;34m\"\"\"Return lists of bboxes for ticks' label1's and label2's.\"\"\"\u001b[0m\u001b[0;34m\u001b[0m\u001b[0;34m\u001b[0m\u001b[0m\n\u001b[0;32m-> 1091\u001b[0;31m         return ([tick.label1.get_window_extent(renderer)\n\u001b[0m\u001b[1;32m   1092\u001b[0m                  for tick in ticks if tick.label1.get_visible()],\n\u001b[1;32m   1093\u001b[0m                 [tick.label2.get_window_extent(renderer)\n",
      "\u001b[0;32m~/opt/anaconda3/lib/python3.8/site-packages/matplotlib/text.py\u001b[0m in \u001b[0;36mget_window_extent\u001b[0;34m(self, renderer, dpi)\u001b[0m\n\u001b[1;32m    900\u001b[0m \u001b[0;34m\u001b[0m\u001b[0m\n\u001b[1;32m    901\u001b[0m         \u001b[0;32mwith\u001b[0m \u001b[0mcbook\u001b[0m\u001b[0;34m.\u001b[0m\u001b[0m_setattr_cm\u001b[0m\u001b[0;34m(\u001b[0m\u001b[0mself\u001b[0m\u001b[0;34m.\u001b[0m\u001b[0mfigure\u001b[0m\u001b[0;34m,\u001b[0m \u001b[0mdpi\u001b[0m\u001b[0;34m=\u001b[0m\u001b[0mdpi\u001b[0m\u001b[0;34m)\u001b[0m\u001b[0;34m:\u001b[0m\u001b[0;34m\u001b[0m\u001b[0;34m\u001b[0m\u001b[0m\n\u001b[0;32m--> 902\u001b[0;31m             \u001b[0mbbox\u001b[0m\u001b[0;34m,\u001b[0m \u001b[0minfo\u001b[0m\u001b[0;34m,\u001b[0m \u001b[0mdescent\u001b[0m \u001b[0;34m=\u001b[0m \u001b[0mself\u001b[0m\u001b[0;34m.\u001b[0m\u001b[0m_get_layout\u001b[0m\u001b[0;34m(\u001b[0m\u001b[0mself\u001b[0m\u001b[0;34m.\u001b[0m\u001b[0m_renderer\u001b[0m\u001b[0;34m)\u001b[0m\u001b[0;34m\u001b[0m\u001b[0;34m\u001b[0m\u001b[0m\n\u001b[0m\u001b[1;32m    903\u001b[0m             \u001b[0mx\u001b[0m\u001b[0;34m,\u001b[0m \u001b[0my\u001b[0m \u001b[0;34m=\u001b[0m \u001b[0mself\u001b[0m\u001b[0;34m.\u001b[0m\u001b[0mget_unitless_position\u001b[0m\u001b[0;34m(\u001b[0m\u001b[0;34m)\u001b[0m\u001b[0;34m\u001b[0m\u001b[0;34m\u001b[0m\u001b[0m\n\u001b[1;32m    904\u001b[0m             \u001b[0mx\u001b[0m\u001b[0;34m,\u001b[0m \u001b[0my\u001b[0m \u001b[0;34m=\u001b[0m \u001b[0mself\u001b[0m\u001b[0;34m.\u001b[0m\u001b[0mget_transform\u001b[0m\u001b[0;34m(\u001b[0m\u001b[0;34m)\u001b[0m\u001b[0;34m.\u001b[0m\u001b[0mtransform\u001b[0m\u001b[0;34m(\u001b[0m\u001b[0;34m(\u001b[0m\u001b[0mx\u001b[0m\u001b[0;34m,\u001b[0m \u001b[0my\u001b[0m\u001b[0;34m)\u001b[0m\u001b[0;34m)\u001b[0m\u001b[0;34m\u001b[0m\u001b[0;34m\u001b[0m\u001b[0m\n",
      "\u001b[0;32m~/opt/anaconda3/lib/python3.8/site-packages/matplotlib/text.py\u001b[0m in \u001b[0;36m_get_layout\u001b[0;34m(self, renderer)\u001b[0m\n\u001b[1;32m    293\u001b[0m             \u001b[0mclean_line\u001b[0m\u001b[0;34m,\u001b[0m \u001b[0mismath\u001b[0m \u001b[0;34m=\u001b[0m \u001b[0mself\u001b[0m\u001b[0;34m.\u001b[0m\u001b[0m_preprocess_math\u001b[0m\u001b[0;34m(\u001b[0m\u001b[0mline\u001b[0m\u001b[0;34m)\u001b[0m\u001b[0;34m\u001b[0m\u001b[0;34m\u001b[0m\u001b[0m\n\u001b[1;32m    294\u001b[0m             \u001b[0;32mif\u001b[0m \u001b[0mclean_line\u001b[0m\u001b[0;34m:\u001b[0m\u001b[0;34m\u001b[0m\u001b[0;34m\u001b[0m\u001b[0m\n\u001b[0;32m--> 295\u001b[0;31m                 w, h, d = renderer.get_text_width_height_descent(\n\u001b[0m\u001b[1;32m    296\u001b[0m                     clean_line, self._fontproperties, ismath=ismath)\n\u001b[1;32m    297\u001b[0m             \u001b[0;32melse\u001b[0m\u001b[0;34m:\u001b[0m\u001b[0;34m\u001b[0m\u001b[0;34m\u001b[0m\u001b[0m\n",
      "\u001b[0;32m~/opt/anaconda3/lib/python3.8/site-packages/matplotlib/backends/backend_agg.py\u001b[0m in \u001b[0;36mget_text_width_height_descent\u001b[0;34m(self, s, prop, ismath)\u001b[0m\n\u001b[1;32m    231\u001b[0m         \u001b[0;32mif\u001b[0m \u001b[0mismath\u001b[0m\u001b[0;34m:\u001b[0m\u001b[0;34m\u001b[0m\u001b[0;34m\u001b[0m\u001b[0m\n\u001b[1;32m    232\u001b[0m             \u001b[0mox\u001b[0m\u001b[0;34m,\u001b[0m \u001b[0moy\u001b[0m\u001b[0;34m,\u001b[0m \u001b[0mwidth\u001b[0m\u001b[0;34m,\u001b[0m \u001b[0mheight\u001b[0m\u001b[0;34m,\u001b[0m \u001b[0mdescent\u001b[0m\u001b[0;34m,\u001b[0m \u001b[0mfonts\u001b[0m\u001b[0;34m,\u001b[0m \u001b[0mused_characters\u001b[0m \u001b[0;34m=\u001b[0m\u001b[0;31m \u001b[0m\u001b[0;31m\\\u001b[0m\u001b[0;34m\u001b[0m\u001b[0;34m\u001b[0m\u001b[0m\n\u001b[0;32m--> 233\u001b[0;31m                 \u001b[0mself\u001b[0m\u001b[0;34m.\u001b[0m\u001b[0mmathtext_parser\u001b[0m\u001b[0;34m.\u001b[0m\u001b[0mparse\u001b[0m\u001b[0;34m(\u001b[0m\u001b[0ms\u001b[0m\u001b[0;34m,\u001b[0m \u001b[0mself\u001b[0m\u001b[0;34m.\u001b[0m\u001b[0mdpi\u001b[0m\u001b[0;34m,\u001b[0m \u001b[0mprop\u001b[0m\u001b[0;34m)\u001b[0m\u001b[0;34m\u001b[0m\u001b[0;34m\u001b[0m\u001b[0m\n\u001b[0m\u001b[1;32m    234\u001b[0m             \u001b[0;32mreturn\u001b[0m \u001b[0mwidth\u001b[0m\u001b[0;34m,\u001b[0m \u001b[0mheight\u001b[0m\u001b[0;34m,\u001b[0m \u001b[0mdescent\u001b[0m\u001b[0;34m\u001b[0m\u001b[0;34m\u001b[0m\u001b[0m\n\u001b[1;32m    235\u001b[0m \u001b[0;34m\u001b[0m\u001b[0m\n",
      "\u001b[0;32m~/opt/anaconda3/lib/python3.8/site-packages/matplotlib/mathtext.py\u001b[0m in \u001b[0;36mparse\u001b[0;34m(self, s, dpi, prop)\u001b[0m\n\u001b[1;32m   3330\u001b[0m         \u001b[0;31m# mathtext.fontset rcParams also affect the parse (e.g. by affecting\u001b[0m\u001b[0;34m\u001b[0m\u001b[0;34m\u001b[0m\u001b[0;34m\u001b[0m\u001b[0m\n\u001b[1;32m   3331\u001b[0m         \u001b[0;31m# the glyph metrics).\u001b[0m\u001b[0;34m\u001b[0m\u001b[0;34m\u001b[0m\u001b[0;34m\u001b[0m\u001b[0m\n\u001b[0;32m-> 3332\u001b[0;31m         return self._parse_cached(\n\u001b[0m\u001b[1;32m   3333\u001b[0m             s, dpi, prop, rcParams['ps.useafm'], rcParams['mathtext.fontset'])\n\u001b[1;32m   3334\u001b[0m \u001b[0;34m\u001b[0m\u001b[0m\n",
      "\u001b[0;32m~/opt/anaconda3/lib/python3.8/site-packages/matplotlib/mathtext.py\u001b[0m in \u001b[0;36m_parse_cached\u001b[0;34m(self, s, dpi, prop, ps_useafm, fontset)\u001b[0m\n\u001b[1;32m   3354\u001b[0m             \u001b[0mself\u001b[0m\u001b[0;34m.\u001b[0m\u001b[0m__class__\u001b[0m\u001b[0;34m.\u001b[0m\u001b[0m_parser\u001b[0m \u001b[0;34m=\u001b[0m \u001b[0mParser\u001b[0m\u001b[0;34m(\u001b[0m\u001b[0;34m)\u001b[0m\u001b[0;34m\u001b[0m\u001b[0;34m\u001b[0m\u001b[0m\n\u001b[1;32m   3355\u001b[0m \u001b[0;34m\u001b[0m\u001b[0m\n\u001b[0;32m-> 3356\u001b[0;31m         \u001b[0mbox\u001b[0m \u001b[0;34m=\u001b[0m \u001b[0mself\u001b[0m\u001b[0;34m.\u001b[0m\u001b[0m_parser\u001b[0m\u001b[0;34m.\u001b[0m\u001b[0mparse\u001b[0m\u001b[0;34m(\u001b[0m\u001b[0ms\u001b[0m\u001b[0;34m,\u001b[0m \u001b[0mfont_output\u001b[0m\u001b[0;34m,\u001b[0m \u001b[0mfontsize\u001b[0m\u001b[0;34m,\u001b[0m \u001b[0mdpi\u001b[0m\u001b[0;34m)\u001b[0m\u001b[0;34m\u001b[0m\u001b[0;34m\u001b[0m\u001b[0m\n\u001b[0m\u001b[1;32m   3357\u001b[0m         \u001b[0mfont_output\u001b[0m\u001b[0;34m.\u001b[0m\u001b[0mset_canvas_size\u001b[0m\u001b[0;34m(\u001b[0m\u001b[0mbox\u001b[0m\u001b[0;34m.\u001b[0m\u001b[0mwidth\u001b[0m\u001b[0;34m,\u001b[0m \u001b[0mbox\u001b[0m\u001b[0;34m.\u001b[0m\u001b[0mheight\u001b[0m\u001b[0;34m,\u001b[0m \u001b[0mbox\u001b[0m\u001b[0;34m.\u001b[0m\u001b[0mdepth\u001b[0m\u001b[0;34m)\u001b[0m\u001b[0;34m\u001b[0m\u001b[0;34m\u001b[0m\u001b[0m\n\u001b[1;32m   3358\u001b[0m         \u001b[0;32mreturn\u001b[0m \u001b[0mfont_output\u001b[0m\u001b[0;34m.\u001b[0m\u001b[0mget_results\u001b[0m\u001b[0;34m(\u001b[0m\u001b[0mbox\u001b[0m\u001b[0;34m)\u001b[0m\u001b[0;34m\u001b[0m\u001b[0;34m\u001b[0m\u001b[0m\n",
      "\u001b[0;32m~/opt/anaconda3/lib/python3.8/site-packages/matplotlib/mathtext.py\u001b[0m in \u001b[0;36mparse\u001b[0;34m(self, s, fonts_object, fontsize, dpi)\u001b[0m\n\u001b[1;32m   2609\u001b[0m             \u001b[0mresult\u001b[0m \u001b[0;34m=\u001b[0m \u001b[0mself\u001b[0m\u001b[0;34m.\u001b[0m\u001b[0m_expression\u001b[0m\u001b[0;34m.\u001b[0m\u001b[0mparseString\u001b[0m\u001b[0;34m(\u001b[0m\u001b[0ms\u001b[0m\u001b[0;34m)\u001b[0m\u001b[0;34m\u001b[0m\u001b[0;34m\u001b[0m\u001b[0m\n\u001b[1;32m   2610\u001b[0m         \u001b[0;32mexcept\u001b[0m \u001b[0mParseBaseException\u001b[0m \u001b[0;32mas\u001b[0m \u001b[0merr\u001b[0m\u001b[0;34m:\u001b[0m\u001b[0;34m\u001b[0m\u001b[0;34m\u001b[0m\u001b[0m\n\u001b[0;32m-> 2611\u001b[0;31m             raise ValueError(\"\\n\".join([\"\",\n\u001b[0m\u001b[1;32m   2612\u001b[0m                                         \u001b[0merr\u001b[0m\u001b[0;34m.\u001b[0m\u001b[0mline\u001b[0m\u001b[0;34m,\u001b[0m\u001b[0;34m\u001b[0m\u001b[0;34m\u001b[0m\u001b[0m\n\u001b[1;32m   2613\u001b[0m                                         \u001b[0;34m\" \"\u001b[0m \u001b[0;34m*\u001b[0m \u001b[0;34m(\u001b[0m\u001b[0merr\u001b[0m\u001b[0;34m.\u001b[0m\u001b[0mcolumn\u001b[0m \u001b[0;34m-\u001b[0m \u001b[0;36m1\u001b[0m\u001b[0;34m)\u001b[0m \u001b[0;34m+\u001b[0m \u001b[0;34m\"^\"\u001b[0m\u001b[0;34m,\u001b[0m\u001b[0;34m\u001b[0m\u001b[0;34m\u001b[0m\u001b[0m\n",
      "\u001b[0;31mValueError\u001b[0m: \n@Rob_Jensen That is a chilly wake up call and $$$$ to boot. Bummer \n                                              ^\nExpected end of text, found '$'  (at char 46), (line:1, col:47)"
     ]
    },
    {
     "data": {
      "text/plain": [
       "<Figure size 432x288 with 1 Axes>"
      ]
     },
     "metadata": {
      "needs_background": "light"
     },
     "output_type": "display_data"
    }
   ],
   "source": [
    "sns.countplot(x='text', data=df_train)"
   ]
  },
  {
   "cell_type": "code",
   "execution_count": 9,
   "id": "db47f1de",
   "metadata": {},
   "outputs": [
    {
     "ename": "NameError",
     "evalue": "name 'df' is not defined",
     "output_type": "error",
     "traceback": [
      "\u001b[0;31m---------------------------------------------------------------------------\u001b[0m",
      "\u001b[0;31mNameError\u001b[0m                                 Traceback (most recent call last)",
      "\u001b[0;32m<ipython-input-9-442418aeb7bc>\u001b[0m in \u001b[0;36m<module>\u001b[0;34m\u001b[0m\n\u001b[0;32m----> 1\u001b[0;31m \u001b[0msns\u001b[0m\u001b[0;34m.\u001b[0m\u001b[0mcountplot\u001b[0m\u001b[0;34m(\u001b[0m\u001b[0mx\u001b[0m\u001b[0;34m=\u001b[0m\u001b[0;34m'text'\u001b[0m\u001b[0;34m,\u001b[0m \u001b[0mdata\u001b[0m\u001b[0;34m=\u001b[0m\u001b[0mdf\u001b[0m\u001b[0;34m)\u001b[0m\u001b[0;34m\u001b[0m\u001b[0;34m\u001b[0m\u001b[0m\n\u001b[0m",
      "\u001b[0;31mNameError\u001b[0m: name 'df' is not defined"
     ]
    }
   ],
   "source": [
    "sns.countplot(x='text', data=df_test)"
   ]
  },
  {
   "cell_type": "markdown",
   "id": "280b4dd6",
   "metadata": {},
   "source": [
    "- Shuffle both data frames as the're the same "
   ]
  },
  {
   "cell_type": "code",
   "execution_count": 182,
   "id": "c54aea6d",
   "metadata": {},
   "outputs": [],
   "source": [
    "df_train = shuffle(df_train, random_state=10)\n",
    "df_test = shuffle(df_train, random_state=10)"
   ]
  },
  {
   "cell_type": "code",
   "execution_count": 158,
   "id": "df617e21",
   "metadata": {},
   "outputs": [
    {
     "data": {
      "text/html": [
       "<div>\n",
       "<style scoped>\n",
       "    .dataframe tbody tr th:only-of-type {\n",
       "        vertical-align: middle;\n",
       "    }\n",
       "\n",
       "    .dataframe tbody tr th {\n",
       "        vertical-align: top;\n",
       "    }\n",
       "\n",
       "    .dataframe thead th {\n",
       "        text-align: right;\n",
       "    }\n",
       "</style>\n",
       "<table border=\"1\" class=\"dataframe\">\n",
       "  <thead>\n",
       "    <tr style=\"text-align: right;\">\n",
       "      <th></th>\n",
       "      <th>id</th>\n",
       "      <th>date</th>\n",
       "      <th>user</th>\n",
       "      <th>text</th>\n",
       "      <th>tweet_polarity</th>\n",
       "    </tr>\n",
       "  </thead>\n",
       "  <tbody>\n",
       "    <tr>\n",
       "      <th>8716</th>\n",
       "      <td>2184531124</td>\n",
       "      <td>Mon Jun 15 16:02:47 PDT 2009</td>\n",
       "      <td>Crazycanuckblog</td>\n",
       "      <td>carriegisaac knew</td>\n",
       "      <td>1</td>\n",
       "    </tr>\n",
       "    <tr>\n",
       "      <th>2060</th>\n",
       "      <td>2240719080</td>\n",
       "      <td>Fri Jun 19 10:04:53 PDT 2009</td>\n",
       "      <td>danscottbrown</td>\n",
       "      <td>dannisaywh</td>\n",
       "      <td>2</td>\n",
       "    </tr>\n",
       "    <tr>\n",
       "      <th>1789</th>\n",
       "      <td>2240572467</td>\n",
       "      <td>Fri Jun 19 09:54:28 PDT 2009</td>\n",
       "      <td>bernadette18</td>\n",
       "      <td>soysauc sorry ur park ticket u didnt plan slee...</td>\n",
       "      <td>2</td>\n",
       "    </tr>\n",
       "    <tr>\n",
       "      <th>5431</th>\n",
       "      <td>1469083544</td>\n",
       "      <td>Tue Apr 07 05:08:05 PDT 2009</td>\n",
       "      <td>Belle2gs</td>\n",
       "      <td>get ready rough on work</td>\n",
       "      <td>0</td>\n",
       "    </tr>\n",
       "    <tr>\n",
       "      <th>6848</th>\n",
       "      <td>1469583015</td>\n",
       "      <td>Tue Apr 07 06:49:01 PDT 2009</td>\n",
       "      <td>Scotty089</td>\n",
       "      <td>feel sleepy gym nee snap driv mansfield not ev...</td>\n",
       "      <td>0</td>\n",
       "    </tr>\n",
       "    <tr>\n",
       "      <th>...</th>\n",
       "      <td>...</td>\n",
       "      <td>...</td>\n",
       "      <td>...</td>\n",
       "      <td>...</td>\n",
       "      <td>...</td>\n",
       "    </tr>\n",
       "    <tr>\n",
       "      <th>1718</th>\n",
       "      <td>2240511807</td>\n",
       "      <td>Fri Jun 19 09:50:04 PDT 2009</td>\n",
       "      <td>leewaters</td>\n",
       "      <td>luclatulip ah lik vert real lot stabl lik top ...</td>\n",
       "      <td>2</td>\n",
       "    </tr>\n",
       "    <tr>\n",
       "      <th>8704</th>\n",
       "      <td>2184530442</td>\n",
       "      <td>Mon Jun 15 16:02:44 PDT 2009</td>\n",
       "      <td>t3naciously</td>\n",
       "      <td>menopausalmaud gasp loooov garageband song rea...</td>\n",
       "      <td>1</td>\n",
       "    </tr>\n",
       "    <tr>\n",
       "      <th>8685</th>\n",
       "      <td>2184529801</td>\n",
       "      <td>Mon Jun 15 16:02:40 PDT 2009</td>\n",
       "      <td>michaelkpeters</td>\n",
       "      <td>watchin rocky</td>\n",
       "      <td>1</td>\n",
       "    </tr>\n",
       "    <tr>\n",
       "      <th>3983</th>\n",
       "      <td>1468718845</td>\n",
       "      <td>Tue Apr 07 03:21:07 PDT 2009</td>\n",
       "      <td>phil6395</td>\n",
       "      <td>bought iphon g ebay lik week ago stil com</td>\n",
       "      <td>0</td>\n",
       "    </tr>\n",
       "    <tr>\n",
       "      <th>8590</th>\n",
       "      <td>2184505676</td>\n",
       "      <td>Mon Jun 15 16:00:35 PDT 2009</td>\n",
       "      <td>magneversaydie</td>\n",
       "      <td>nelaw jaj eso hic</td>\n",
       "      <td>1</td>\n",
       "    </tr>\n",
       "  </tbody>\n",
       "</table>\n",
       "<p>10000 rows × 5 columns</p>\n",
       "</div>"
      ],
      "text/plain": [
       "              id                          date             user  \\\n",
       "8716  2184531124  Mon Jun 15 16:02:47 PDT 2009  Crazycanuckblog   \n",
       "2060  2240719080  Fri Jun 19 10:04:53 PDT 2009    danscottbrown   \n",
       "1789  2240572467  Fri Jun 19 09:54:28 PDT 2009     bernadette18   \n",
       "5431  1469083544  Tue Apr 07 05:08:05 PDT 2009         Belle2gs   \n",
       "6848  1469583015  Tue Apr 07 06:49:01 PDT 2009        Scotty089   \n",
       "...          ...                           ...              ...   \n",
       "1718  2240511807  Fri Jun 19 09:50:04 PDT 2009        leewaters   \n",
       "8704  2184530442  Mon Jun 15 16:02:44 PDT 2009      t3naciously   \n",
       "8685  2184529801  Mon Jun 15 16:02:40 PDT 2009   michaelkpeters   \n",
       "3983  1468718845  Tue Apr 07 03:21:07 PDT 2009         phil6395   \n",
       "8590  2184505676  Mon Jun 15 16:00:35 PDT 2009   magneversaydie   \n",
       "\n",
       "                                                   text  tweet_polarity  \n",
       "8716                                  carriegisaac knew               1  \n",
       "2060                                         dannisaywh               2  \n",
       "1789  soysauc sorry ur park ticket u didnt plan slee...               2  \n",
       "5431                            get ready rough on work               0  \n",
       "6848  feel sleepy gym nee snap driv mansfield not ev...               0  \n",
       "...                                                 ...             ...  \n",
       "1718  luclatulip ah lik vert real lot stabl lik top ...               2  \n",
       "8704  menopausalmaud gasp loooov garageband song rea...               1  \n",
       "8685                                      watchin rocky               1  \n",
       "3983          bought iphon g ebay lik week ago stil com               0  \n",
       "8590                                  nelaw jaj eso hic               1  \n",
       "\n",
       "[10000 rows x 5 columns]"
      ]
     },
     "execution_count": 158,
     "metadata": {},
     "output_type": "execute_result"
    }
   ],
   "source": [
    "df_train"
   ]
  },
  {
   "cell_type": "code",
   "execution_count": 159,
   "id": "141c698b",
   "metadata": {},
   "outputs": [
    {
     "data": {
      "text/html": [
       "<div>\n",
       "<style scoped>\n",
       "    .dataframe tbody tr th:only-of-type {\n",
       "        vertical-align: middle;\n",
       "    }\n",
       "\n",
       "    .dataframe tbody tr th {\n",
       "        vertical-align: top;\n",
       "    }\n",
       "\n",
       "    .dataframe thead th {\n",
       "        text-align: right;\n",
       "    }\n",
       "</style>\n",
       "<table border=\"1\" class=\"dataframe\">\n",
       "  <thead>\n",
       "    <tr style=\"text-align: right;\">\n",
       "      <th></th>\n",
       "      <th>id</th>\n",
       "      <th>date</th>\n",
       "      <th>user</th>\n",
       "      <th>text</th>\n",
       "      <th>tweet_polarity</th>\n",
       "    </tr>\n",
       "  </thead>\n",
       "  <tbody>\n",
       "    <tr>\n",
       "      <th>4321</th>\n",
       "      <td>1468792067</td>\n",
       "      <td>Tue Apr 07 03:45:33 PDT 2009</td>\n",
       "      <td>TiffaniDanyelle</td>\n",
       "      <td>deucewt gott meet roy oak styl show got show t...</td>\n",
       "      <td>0</td>\n",
       "    </tr>\n",
       "    <tr>\n",
       "      <th>693</th>\n",
       "      <td>1467985185</td>\n",
       "      <td>Mon Apr 06 23:07:24 PDT 2009</td>\n",
       "      <td>niffyat</td>\n",
       "      <td>castillo ugh disconcert</td>\n",
       "      <td>0</td>\n",
       "    </tr>\n",
       "    <tr>\n",
       "      <th>5618</th>\n",
       "      <td>1469132984</td>\n",
       "      <td>Tue Apr 07 05:19:56 PDT 2009</td>\n",
       "      <td>Bunchuck</td>\n",
       "      <td>cold</td>\n",
       "      <td>0</td>\n",
       "    </tr>\n",
       "    <tr>\n",
       "      <th>2821</th>\n",
       "      <td>1468458804</td>\n",
       "      <td>Tue Apr 07 01:47:48 PDT 2009</td>\n",
       "      <td>mykylnordwind</td>\n",
       "      <td>good morn world got snow</td>\n",
       "      <td>0</td>\n",
       "    </tr>\n",
       "    <tr>\n",
       "      <th>7015</th>\n",
       "      <td>1469644019</td>\n",
       "      <td>Tue Apr 07 06:59:52 PDT 2009</td>\n",
       "      <td>absolutjoiz</td>\n",
       "      <td>hungry thirstu badminton eat yet coz first rea...</td>\n",
       "      <td>0</td>\n",
       "    </tr>\n",
       "    <tr>\n",
       "      <th>...</th>\n",
       "      <td>...</td>\n",
       "      <td>...</td>\n",
       "      <td>...</td>\n",
       "      <td>...</td>\n",
       "      <td>...</td>\n",
       "    </tr>\n",
       "    <tr>\n",
       "      <th>4386</th>\n",
       "      <td>1468813702</td>\n",
       "      <td>Tue Apr 07 03:52:23 PDT 2009</td>\n",
       "      <td>graciie_xo</td>\n",
       "      <td>wash dish boohoo</td>\n",
       "      <td>0</td>\n",
       "    </tr>\n",
       "    <tr>\n",
       "      <th>6977</th>\n",
       "      <td>1469636750</td>\n",
       "      <td>Tue Apr 07 06:58:34 PDT 2009</td>\n",
       "      <td>omega29</td>\n",
       "      <td>lack protein clos mon reek havoc body joint ac...</td>\n",
       "      <td>0</td>\n",
       "    </tr>\n",
       "    <tr>\n",
       "      <th>5212</th>\n",
       "      <td>1469024119</td>\n",
       "      <td>Tue Apr 07 04:53:12 PDT 2009</td>\n",
       "      <td>Jeni86</td>\n",
       "      <td>friday yet</td>\n",
       "      <td>0</td>\n",
       "    </tr>\n",
       "    <tr>\n",
       "      <th>9557</th>\n",
       "      <td>2184738137</td>\n",
       "      <td>Mon Jun 15 16:20:49 PDT 2009</td>\n",
       "      <td>The_PHP_Jedi</td>\n",
       "      <td>lyoko cool yeah back surgery spec proc cal spi...</td>\n",
       "      <td>1</td>\n",
       "    </tr>\n",
       "    <tr>\n",
       "      <th>749</th>\n",
       "      <td>1467998362</td>\n",
       "      <td>Mon Apr 06 23:11:11 PDT 2009</td>\n",
       "      <td>KWelkeBrom</td>\n",
       "      <td>hellivin miss em</td>\n",
       "      <td>0</td>\n",
       "    </tr>\n",
       "  </tbody>\n",
       "</table>\n",
       "<p>10000 rows × 5 columns</p>\n",
       "</div>"
      ],
      "text/plain": [
       "              id                          date             user  \\\n",
       "4321  1468792067  Tue Apr 07 03:45:33 PDT 2009  TiffaniDanyelle   \n",
       "693   1467985185  Mon Apr 06 23:07:24 PDT 2009          niffyat   \n",
       "5618  1469132984  Tue Apr 07 05:19:56 PDT 2009         Bunchuck   \n",
       "2821  1468458804  Tue Apr 07 01:47:48 PDT 2009    mykylnordwind   \n",
       "7015  1469644019  Tue Apr 07 06:59:52 PDT 2009      absolutjoiz   \n",
       "...          ...                           ...              ...   \n",
       "4386  1468813702  Tue Apr 07 03:52:23 PDT 2009       graciie_xo   \n",
       "6977  1469636750  Tue Apr 07 06:58:34 PDT 2009          omega29   \n",
       "5212  1469024119  Tue Apr 07 04:53:12 PDT 2009           Jeni86   \n",
       "9557  2184738137  Mon Jun 15 16:20:49 PDT 2009     The_PHP_Jedi   \n",
       "749   1467998362  Mon Apr 06 23:11:11 PDT 2009       KWelkeBrom   \n",
       "\n",
       "                                                   text  tweet_polarity  \n",
       "4321  deucewt gott meet roy oak styl show got show t...               0  \n",
       "693                             castillo ugh disconcert               0  \n",
       "5618                                               cold               0  \n",
       "2821                           good morn world got snow               0  \n",
       "7015  hungry thirstu badminton eat yet coz first rea...               0  \n",
       "...                                                 ...             ...  \n",
       "4386                                   wash dish boohoo               0  \n",
       "6977  lack protein clos mon reek havoc body joint ac...               0  \n",
       "5212                                         friday yet               0  \n",
       "9557  lyoko cool yeah back surgery spec proc cal spi...               1  \n",
       "749                                    hellivin miss em               0  \n",
       "\n",
       "[10000 rows x 5 columns]"
      ]
     },
     "execution_count": 159,
     "metadata": {},
     "output_type": "execute_result"
    }
   ],
   "source": [
    "df_test"
   ]
  },
  {
   "cell_type": "markdown",
   "id": "0345eb91",
   "metadata": {},
   "source": [
    "- Check for unique values"
   ]
  },
  {
   "cell_type": "code",
   "execution_count": 183,
   "id": "dc18623d",
   "metadata": {},
   "outputs": [
    {
     "data": {
      "text/plain": [
       "array([0, 4, 2])"
      ]
     },
     "execution_count": 183,
     "metadata": {},
     "output_type": "execute_result"
    }
   ],
   "source": [
    "df_train['tweet_polarity'].unique()"
   ]
  },
  {
   "cell_type": "code",
   "execution_count": 184,
   "id": "e4e02e28",
   "metadata": {},
   "outputs": [
    {
     "data": {
      "text/plain": [
       "array([4, 2, 0])"
      ]
     },
     "execution_count": 184,
     "metadata": {},
     "output_type": "execute_result"
    }
   ],
   "source": [
    "df_test['tweet_polarity'].unique()"
   ]
  },
  {
   "cell_type": "code",
   "execution_count": 185,
   "id": "067e6407",
   "metadata": {},
   "outputs": [],
   "source": [
    "def text_cleaning(text):\n",
    "    review = re.sub('[^a-zA-Z]',' ', text) \n",
    "    review = review.lower()\n",
    "    review = review.split()\n",
    "    \n",
    "    ps = LancasterStemmer()\n",
    "    \n",
    "    all_stopwords = stopwords.words('english')\n",
    "    all_stopwords.remove('not')\n",
    "    \n",
    "    review = [ps.stem(word) for word in review if not word in set(all_stopwords)]\n",
    "    \n",
    "    return ' '.join(review)"
   ]
  },
  {
   "cell_type": "code",
   "execution_count": 186,
   "id": "af8d50eb",
   "metadata": {},
   "outputs": [
    {
     "data": {
      "text/html": [
       "<div>\n",
       "<style scoped>\n",
       "    .dataframe tbody tr th:only-of-type {\n",
       "        vertical-align: middle;\n",
       "    }\n",
       "\n",
       "    .dataframe tbody tr th {\n",
       "        vertical-align: top;\n",
       "    }\n",
       "\n",
       "    .dataframe thead th {\n",
       "        text-align: right;\n",
       "    }\n",
       "</style>\n",
       "<table border=\"1\" class=\"dataframe\">\n",
       "  <thead>\n",
       "    <tr style=\"text-align: right;\">\n",
       "      <th></th>\n",
       "      <th>id</th>\n",
       "      <th>date</th>\n",
       "      <th>user</th>\n",
       "      <th>text</th>\n",
       "      <th>tweet_polarity</th>\n",
       "    </tr>\n",
       "  </thead>\n",
       "  <tbody>\n",
       "    <tr>\n",
       "      <th>937</th>\n",
       "      <td>1468041919</td>\n",
       "      <td>Mon Apr 06 23:24:31 PDT 2009</td>\n",
       "      <td>gi_gi_bee</td>\n",
       "      <td>rumlov empty rum barrel sad rum barrel shak he...</td>\n",
       "      <td>0</td>\n",
       "    </tr>\n",
       "    <tr>\n",
       "      <th>9355</th>\n",
       "      <td>2184692544</td>\n",
       "      <td>Mon Jun 15 16:16:46 PDT 2009</td>\n",
       "      <td>wagylove</td>\n",
       "      <td>justo lol yup yup leav da sloppy on</td>\n",
       "      <td>4</td>\n",
       "    </tr>\n",
       "    <tr>\n",
       "      <th>2293</th>\n",
       "      <td>2240831834</td>\n",
       "      <td>Fri Jun 19 10:12:57 PDT 2009</td>\n",
       "      <td>kasumelissa</td>\n",
       "      <td>linst room swallow ipod cabl</td>\n",
       "      <td>2</td>\n",
       "    </tr>\n",
       "    <tr>\n",
       "      <th>192</th>\n",
       "      <td>1467859820</td>\n",
       "      <td>Mon Apr 06 22:32:36 PDT 2009</td>\n",
       "      <td>msbutt3rfly14</td>\n",
       "      <td>spent not good guy</td>\n",
       "      <td>0</td>\n",
       "    </tr>\n",
       "    <tr>\n",
       "      <th>8675</th>\n",
       "      <td>2184509974</td>\n",
       "      <td>Mon Jun 15 16:00:56 PDT 2009</td>\n",
       "      <td>bitofmomsense</td>\n",
       "      <td>paintermommy ou think don simil would cool nic...</td>\n",
       "      <td>4</td>\n",
       "    </tr>\n",
       "    <tr>\n",
       "      <th>...</th>\n",
       "      <td>...</td>\n",
       "      <td>...</td>\n",
       "      <td>...</td>\n",
       "      <td>...</td>\n",
       "      <td>...</td>\n",
       "    </tr>\n",
       "    <tr>\n",
       "      <th>9372</th>\n",
       "      <td>2184693508</td>\n",
       "      <td>Mon Jun 15 16:16:52 PDT 2009</td>\n",
       "      <td>mediatemple</td>\n",
       "      <td>bio comprom mad sec mail serv us account vuln ...</td>\n",
       "      <td>4</td>\n",
       "    </tr>\n",
       "    <tr>\n",
       "      <th>7291</th>\n",
       "      <td>1469755923</td>\n",
       "      <td>Tue Apr 07 07:19:34 PDT 2009</td>\n",
       "      <td>Jodi1982</td>\n",
       "      <td>anybody els sad dr kutn</td>\n",
       "      <td>0</td>\n",
       "    </tr>\n",
       "    <tr>\n",
       "      <th>1344</th>\n",
       "      <td>1468133212</td>\n",
       "      <td>Mon Apr 06 23:53:53 PDT 2009</td>\n",
       "      <td>paul_steele</td>\n",
       "      <td>pleas watch vid tel not mov http www youtub co...</td>\n",
       "      <td>0</td>\n",
       "    </tr>\n",
       "    <tr>\n",
       "      <th>7293</th>\n",
       "      <td>1469756325</td>\n",
       "      <td>Tue Apr 07 07:19:39 PDT 2009</td>\n",
       "      <td>musicallymary</td>\n",
       "      <td>know busy law test took not look forward quant...</td>\n",
       "      <td>0</td>\n",
       "    </tr>\n",
       "    <tr>\n",
       "      <th>1289</th>\n",
       "      <td>1468123355</td>\n",
       "      <td>Mon Apr 06 23:50:30 PDT 2009</td>\n",
       "      <td>albynomonk</td>\n",
       "      <td>heatherlibby oh wel seem lik troubl christian ...</td>\n",
       "      <td>0</td>\n",
       "    </tr>\n",
       "  </tbody>\n",
       "</table>\n",
       "<p>10000 rows × 5 columns</p>\n",
       "</div>"
      ],
      "text/plain": [
       "              id                          date           user  \\\n",
       "937   1468041919  Mon Apr 06 23:24:31 PDT 2009      gi_gi_bee   \n",
       "9355  2184692544  Mon Jun 15 16:16:46 PDT 2009       wagylove   \n",
       "2293  2240831834  Fri Jun 19 10:12:57 PDT 2009    kasumelissa   \n",
       "192   1467859820  Mon Apr 06 22:32:36 PDT 2009  msbutt3rfly14   \n",
       "8675  2184509974  Mon Jun 15 16:00:56 PDT 2009  bitofmomsense   \n",
       "...          ...                           ...            ...   \n",
       "9372  2184693508  Mon Jun 15 16:16:52 PDT 2009    mediatemple   \n",
       "7291  1469755923  Tue Apr 07 07:19:34 PDT 2009       Jodi1982   \n",
       "1344  1468133212  Mon Apr 06 23:53:53 PDT 2009    paul_steele   \n",
       "7293  1469756325  Tue Apr 07 07:19:39 PDT 2009  musicallymary   \n",
       "1289  1468123355  Mon Apr 06 23:50:30 PDT 2009     albynomonk   \n",
       "\n",
       "                                                   text  tweet_polarity  \n",
       "937   rumlov empty rum barrel sad rum barrel shak he...               0  \n",
       "9355                justo lol yup yup leav da sloppy on               4  \n",
       "2293                       linst room swallow ipod cabl               2  \n",
       "192                                  spent not good guy               0  \n",
       "8675  paintermommy ou think don simil would cool nic...               4  \n",
       "...                                                 ...             ...  \n",
       "9372  bio comprom mad sec mail serv us account vuln ...               4  \n",
       "7291                            anybody els sad dr kutn               0  \n",
       "1344  pleas watch vid tel not mov http www youtub co...               0  \n",
       "7293  know busy law test took not look forward quant...               0  \n",
       "1289  heatherlibby oh wel seem lik troubl christian ...               0  \n",
       "\n",
       "[10000 rows x 5 columns]"
      ]
     },
     "execution_count": 186,
     "metadata": {},
     "output_type": "execute_result"
    }
   ],
   "source": [
    "df_train['text'] = df_train['text'].parallel_apply(lambda x: text_cleaning(x))\n",
    "df_train"
   ]
  },
  {
   "cell_type": "code",
   "execution_count": 187,
   "id": "22780487",
   "metadata": {},
   "outputs": [
    {
     "data": {
      "text/html": [
       "<div>\n",
       "<style scoped>\n",
       "    .dataframe tbody tr th:only-of-type {\n",
       "        vertical-align: middle;\n",
       "    }\n",
       "\n",
       "    .dataframe tbody tr th {\n",
       "        vertical-align: top;\n",
       "    }\n",
       "\n",
       "    .dataframe thead th {\n",
       "        text-align: right;\n",
       "    }\n",
       "</style>\n",
       "<table border=\"1\" class=\"dataframe\">\n",
       "  <thead>\n",
       "    <tr style=\"text-align: right;\">\n",
       "      <th></th>\n",
       "      <th>id</th>\n",
       "      <th>date</th>\n",
       "      <th>user</th>\n",
       "      <th>text</th>\n",
       "      <th>tweet_polarity</th>\n",
       "    </tr>\n",
       "  </thead>\n",
       "  <tbody>\n",
       "    <tr>\n",
       "      <th>8716</th>\n",
       "      <td>2184531124</td>\n",
       "      <td>Mon Jun 15 16:02:47 PDT 2009</td>\n",
       "      <td>Crazycanuckblog</td>\n",
       "      <td>carriegisaac knew</td>\n",
       "      <td>4</td>\n",
       "    </tr>\n",
       "    <tr>\n",
       "      <th>2060</th>\n",
       "      <td>2240719080</td>\n",
       "      <td>Fri Jun 19 10:04:53 PDT 2009</td>\n",
       "      <td>danscottbrown</td>\n",
       "      <td>dannisaywh</td>\n",
       "      <td>2</td>\n",
       "    </tr>\n",
       "    <tr>\n",
       "      <th>1789</th>\n",
       "      <td>2240572467</td>\n",
       "      <td>Fri Jun 19 09:54:28 PDT 2009</td>\n",
       "      <td>bernadette18</td>\n",
       "      <td>soysauc sorry ur park ticket u didnt plan slee...</td>\n",
       "      <td>2</td>\n",
       "    </tr>\n",
       "    <tr>\n",
       "      <th>5431</th>\n",
       "      <td>1469083544</td>\n",
       "      <td>Tue Apr 07 05:08:05 PDT 2009</td>\n",
       "      <td>Belle2gs</td>\n",
       "      <td>get ready rough on work</td>\n",
       "      <td>0</td>\n",
       "    </tr>\n",
       "    <tr>\n",
       "      <th>6848</th>\n",
       "      <td>1469583015</td>\n",
       "      <td>Tue Apr 07 06:49:01 PDT 2009</td>\n",
       "      <td>Scotty089</td>\n",
       "      <td>feel sleepy gym nee snap driv mansfield not ev...</td>\n",
       "      <td>0</td>\n",
       "    </tr>\n",
       "    <tr>\n",
       "      <th>...</th>\n",
       "      <td>...</td>\n",
       "      <td>...</td>\n",
       "      <td>...</td>\n",
       "      <td>...</td>\n",
       "      <td>...</td>\n",
       "    </tr>\n",
       "    <tr>\n",
       "      <th>1718</th>\n",
       "      <td>2240511807</td>\n",
       "      <td>Fri Jun 19 09:50:04 PDT 2009</td>\n",
       "      <td>leewaters</td>\n",
       "      <td>luclatulip ah lik vert real lot stabl lik top ...</td>\n",
       "      <td>2</td>\n",
       "    </tr>\n",
       "    <tr>\n",
       "      <th>8704</th>\n",
       "      <td>2184530442</td>\n",
       "      <td>Mon Jun 15 16:02:44 PDT 2009</td>\n",
       "      <td>t3naciously</td>\n",
       "      <td>menopausalmaud gasp loooov garageband song rea...</td>\n",
       "      <td>4</td>\n",
       "    </tr>\n",
       "    <tr>\n",
       "      <th>8685</th>\n",
       "      <td>2184529801</td>\n",
       "      <td>Mon Jun 15 16:02:40 PDT 2009</td>\n",
       "      <td>michaelkpeters</td>\n",
       "      <td>watchin rocky</td>\n",
       "      <td>4</td>\n",
       "    </tr>\n",
       "    <tr>\n",
       "      <th>3983</th>\n",
       "      <td>1468718845</td>\n",
       "      <td>Tue Apr 07 03:21:07 PDT 2009</td>\n",
       "      <td>phil6395</td>\n",
       "      <td>bought iphon g ebay lik week ago stil com</td>\n",
       "      <td>0</td>\n",
       "    </tr>\n",
       "    <tr>\n",
       "      <th>8590</th>\n",
       "      <td>2184505676</td>\n",
       "      <td>Mon Jun 15 16:00:35 PDT 2009</td>\n",
       "      <td>magneversaydie</td>\n",
       "      <td>nelaw jaj eso hic</td>\n",
       "      <td>4</td>\n",
       "    </tr>\n",
       "  </tbody>\n",
       "</table>\n",
       "<p>10000 rows × 5 columns</p>\n",
       "</div>"
      ],
      "text/plain": [
       "              id                          date             user  \\\n",
       "8716  2184531124  Mon Jun 15 16:02:47 PDT 2009  Crazycanuckblog   \n",
       "2060  2240719080  Fri Jun 19 10:04:53 PDT 2009    danscottbrown   \n",
       "1789  2240572467  Fri Jun 19 09:54:28 PDT 2009     bernadette18   \n",
       "5431  1469083544  Tue Apr 07 05:08:05 PDT 2009         Belle2gs   \n",
       "6848  1469583015  Tue Apr 07 06:49:01 PDT 2009        Scotty089   \n",
       "...          ...                           ...              ...   \n",
       "1718  2240511807  Fri Jun 19 09:50:04 PDT 2009        leewaters   \n",
       "8704  2184530442  Mon Jun 15 16:02:44 PDT 2009      t3naciously   \n",
       "8685  2184529801  Mon Jun 15 16:02:40 PDT 2009   michaelkpeters   \n",
       "3983  1468718845  Tue Apr 07 03:21:07 PDT 2009         phil6395   \n",
       "8590  2184505676  Mon Jun 15 16:00:35 PDT 2009   magneversaydie   \n",
       "\n",
       "                                                   text  tweet_polarity  \n",
       "8716                                  carriegisaac knew               4  \n",
       "2060                                         dannisaywh               2  \n",
       "1789  soysauc sorry ur park ticket u didnt plan slee...               2  \n",
       "5431                            get ready rough on work               0  \n",
       "6848  feel sleepy gym nee snap driv mansfield not ev...               0  \n",
       "...                                                 ...             ...  \n",
       "1718  luclatulip ah lik vert real lot stabl lik top ...               2  \n",
       "8704  menopausalmaud gasp loooov garageband song rea...               4  \n",
       "8685                                      watchin rocky               4  \n",
       "3983          bought iphon g ebay lik week ago stil com               0  \n",
       "8590                                  nelaw jaj eso hic               4  \n",
       "\n",
       "[10000 rows x 5 columns]"
      ]
     },
     "execution_count": 187,
     "metadata": {},
     "output_type": "execute_result"
    }
   ],
   "source": [
    "df_test['text'] = df_test['text'].parallel_apply(lambda x: text_cleaning(x))\n",
    "df_test"
   ]
  },
  {
   "cell_type": "markdown",
   "id": "318db40f",
   "metadata": {},
   "source": [
    "Encode <code>tweet_polarity</code>"
   ]
  },
  {
   "cell_type": "code",
   "execution_count": 188,
   "id": "1eac8398",
   "metadata": {},
   "outputs": [],
   "source": [
    "# 0 = negative\n",
    "# 2 = neutral \n",
    "# 4 = positive\n",
    "\n",
    "tweet_polarity_encode = {\n",
    "    0: 0, \n",
    "    4: 1, \n",
    "    2: 2\n",
    "}"
   ]
  },
  {
   "cell_type": "code",
   "execution_count": 189,
   "id": "8e84b86e",
   "metadata": {},
   "outputs": [
    {
     "data": {
      "text/html": [
       "<div>\n",
       "<style scoped>\n",
       "    .dataframe tbody tr th:only-of-type {\n",
       "        vertical-align: middle;\n",
       "    }\n",
       "\n",
       "    .dataframe tbody tr th {\n",
       "        vertical-align: top;\n",
       "    }\n",
       "\n",
       "    .dataframe thead th {\n",
       "        text-align: right;\n",
       "    }\n",
       "</style>\n",
       "<table border=\"1\" class=\"dataframe\">\n",
       "  <thead>\n",
       "    <tr style=\"text-align: right;\">\n",
       "      <th></th>\n",
       "      <th>id</th>\n",
       "      <th>date</th>\n",
       "      <th>user</th>\n",
       "      <th>text</th>\n",
       "      <th>tweet_polarity</th>\n",
       "    </tr>\n",
       "  </thead>\n",
       "  <tbody>\n",
       "    <tr>\n",
       "      <th>937</th>\n",
       "      <td>1468041919</td>\n",
       "      <td>Mon Apr 06 23:24:31 PDT 2009</td>\n",
       "      <td>gi_gi_bee</td>\n",
       "      <td>rumlov empty rum barrel sad rum barrel shak he...</td>\n",
       "      <td>0</td>\n",
       "    </tr>\n",
       "    <tr>\n",
       "      <th>9355</th>\n",
       "      <td>2184692544</td>\n",
       "      <td>Mon Jun 15 16:16:46 PDT 2009</td>\n",
       "      <td>wagylove</td>\n",
       "      <td>justo lol yup yup leav da sloppy on</td>\n",
       "      <td>1</td>\n",
       "    </tr>\n",
       "    <tr>\n",
       "      <th>2293</th>\n",
       "      <td>2240831834</td>\n",
       "      <td>Fri Jun 19 10:12:57 PDT 2009</td>\n",
       "      <td>kasumelissa</td>\n",
       "      <td>linst room swallow ipod cabl</td>\n",
       "      <td>2</td>\n",
       "    </tr>\n",
       "    <tr>\n",
       "      <th>192</th>\n",
       "      <td>1467859820</td>\n",
       "      <td>Mon Apr 06 22:32:36 PDT 2009</td>\n",
       "      <td>msbutt3rfly14</td>\n",
       "      <td>spent not good guy</td>\n",
       "      <td>0</td>\n",
       "    </tr>\n",
       "    <tr>\n",
       "      <th>8675</th>\n",
       "      <td>2184509974</td>\n",
       "      <td>Mon Jun 15 16:00:56 PDT 2009</td>\n",
       "      <td>bitofmomsense</td>\n",
       "      <td>paintermommy ou think don simil would cool nic...</td>\n",
       "      <td>1</td>\n",
       "    </tr>\n",
       "  </tbody>\n",
       "</table>\n",
       "</div>"
      ],
      "text/plain": [
       "              id                          date           user  \\\n",
       "937   1468041919  Mon Apr 06 23:24:31 PDT 2009      gi_gi_bee   \n",
       "9355  2184692544  Mon Jun 15 16:16:46 PDT 2009       wagylove   \n",
       "2293  2240831834  Fri Jun 19 10:12:57 PDT 2009    kasumelissa   \n",
       "192   1467859820  Mon Apr 06 22:32:36 PDT 2009  msbutt3rfly14   \n",
       "8675  2184509974  Mon Jun 15 16:00:56 PDT 2009  bitofmomsense   \n",
       "\n",
       "                                                   text  tweet_polarity  \n",
       "937   rumlov empty rum barrel sad rum barrel shak he...               0  \n",
       "9355                justo lol yup yup leav da sloppy on               1  \n",
       "2293                       linst room swallow ipod cabl               2  \n",
       "192                                  spent not good guy               0  \n",
       "8675  paintermommy ou think don simil would cool nic...               1  "
      ]
     },
     "execution_count": 189,
     "metadata": {},
     "output_type": "execute_result"
    }
   ],
   "source": [
    "df_train['tweet_polarity'] = df_train['tweet_polarity'].map(tweet_polarity_encode)\n",
    "\n",
    "df_train.head()"
   ]
  },
  {
   "cell_type": "code",
   "execution_count": 190,
   "id": "378c68de",
   "metadata": {},
   "outputs": [
    {
     "data": {
      "text/html": [
       "<div>\n",
       "<style scoped>\n",
       "    .dataframe tbody tr th:only-of-type {\n",
       "        vertical-align: middle;\n",
       "    }\n",
       "\n",
       "    .dataframe tbody tr th {\n",
       "        vertical-align: top;\n",
       "    }\n",
       "\n",
       "    .dataframe thead th {\n",
       "        text-align: right;\n",
       "    }\n",
       "</style>\n",
       "<table border=\"1\" class=\"dataframe\">\n",
       "  <thead>\n",
       "    <tr style=\"text-align: right;\">\n",
       "      <th></th>\n",
       "      <th>id</th>\n",
       "      <th>date</th>\n",
       "      <th>user</th>\n",
       "      <th>text</th>\n",
       "      <th>tweet_polarity</th>\n",
       "    </tr>\n",
       "  </thead>\n",
       "  <tbody>\n",
       "    <tr>\n",
       "      <th>8716</th>\n",
       "      <td>2184531124</td>\n",
       "      <td>Mon Jun 15 16:02:47 PDT 2009</td>\n",
       "      <td>Crazycanuckblog</td>\n",
       "      <td>carriegisaac knew</td>\n",
       "      <td>1</td>\n",
       "    </tr>\n",
       "    <tr>\n",
       "      <th>2060</th>\n",
       "      <td>2240719080</td>\n",
       "      <td>Fri Jun 19 10:04:53 PDT 2009</td>\n",
       "      <td>danscottbrown</td>\n",
       "      <td>dannisaywh</td>\n",
       "      <td>2</td>\n",
       "    </tr>\n",
       "    <tr>\n",
       "      <th>1789</th>\n",
       "      <td>2240572467</td>\n",
       "      <td>Fri Jun 19 09:54:28 PDT 2009</td>\n",
       "      <td>bernadette18</td>\n",
       "      <td>soysauc sorry ur park ticket u didnt plan slee...</td>\n",
       "      <td>2</td>\n",
       "    </tr>\n",
       "    <tr>\n",
       "      <th>5431</th>\n",
       "      <td>1469083544</td>\n",
       "      <td>Tue Apr 07 05:08:05 PDT 2009</td>\n",
       "      <td>Belle2gs</td>\n",
       "      <td>get ready rough on work</td>\n",
       "      <td>0</td>\n",
       "    </tr>\n",
       "    <tr>\n",
       "      <th>6848</th>\n",
       "      <td>1469583015</td>\n",
       "      <td>Tue Apr 07 06:49:01 PDT 2009</td>\n",
       "      <td>Scotty089</td>\n",
       "      <td>feel sleepy gym nee snap driv mansfield not ev...</td>\n",
       "      <td>0</td>\n",
       "    </tr>\n",
       "  </tbody>\n",
       "</table>\n",
       "</div>"
      ],
      "text/plain": [
       "              id                          date             user  \\\n",
       "8716  2184531124  Mon Jun 15 16:02:47 PDT 2009  Crazycanuckblog   \n",
       "2060  2240719080  Fri Jun 19 10:04:53 PDT 2009    danscottbrown   \n",
       "1789  2240572467  Fri Jun 19 09:54:28 PDT 2009     bernadette18   \n",
       "5431  1469083544  Tue Apr 07 05:08:05 PDT 2009         Belle2gs   \n",
       "6848  1469583015  Tue Apr 07 06:49:01 PDT 2009        Scotty089   \n",
       "\n",
       "                                                   text  tweet_polarity  \n",
       "8716                                  carriegisaac knew               1  \n",
       "2060                                         dannisaywh               2  \n",
       "1789  soysauc sorry ur park ticket u didnt plan slee...               2  \n",
       "5431                            get ready rough on work               0  \n",
       "6848  feel sleepy gym nee snap driv mansfield not ev...               0  "
      ]
     },
     "execution_count": 190,
     "metadata": {},
     "output_type": "execute_result"
    }
   ],
   "source": [
    "df_test['tweet_polarity'] = df_test['tweet_polarity'].map(tweet_polarity_encode)\n",
    "\n",
    "df_test.head()"
   ]
  },
  {
   "cell_type": "markdown",
   "id": "d4c65194",
   "metadata": {},
   "source": [
    "- Declare train and test variables"
   ]
  },
  {
   "cell_type": "code",
   "execution_count": 191,
   "id": "75651460",
   "metadata": {},
   "outputs": [],
   "source": [
    "X_train = df_train['text']\n",
    "y_train = df_train['tweet_polarity']"
   ]
  },
  {
   "cell_type": "code",
   "execution_count": 192,
   "id": "e6a445ba",
   "metadata": {},
   "outputs": [],
   "source": [
    "X_test = df_test['text']\n",
    "y_test = df_test['tweet_polarity']"
   ]
  },
  {
   "cell_type": "markdown",
   "id": "f00a70f7",
   "metadata": {},
   "source": [
    "- Model evaluation function (cross validation, k=5)"
   ]
  },
  {
   "cell_type": "code",
   "execution_count": 193,
   "id": "c201b070",
   "metadata": {},
   "outputs": [],
   "source": [
    "def evaluation(model, X_test,  y_test):\n",
    "    y_pred = model.predict(X_test)\n",
    "    \n",
    "    scores = cross_val_score(model, X_test, y_test, cv = 5)\n",
    "    \n",
    "    print(scores.mean())\n",
    "    print(\"%0.2f accuracy with a standard deviation of %0.2f\" % (scores.mean(), scores.std()))"
   ]
  },
  {
   "cell_type": "markdown",
   "id": "ec88a8a5",
   "metadata": {},
   "source": [
    "- Create TD IDF vectorizer object (transforms the text into a usable vector)"
   ]
  },
  {
   "cell_type": "code",
   "execution_count": 194,
   "id": "a6a5264b",
   "metadata": {},
   "outputs": [],
   "source": [
    "vectorizer = TfidfVectorizer(max_features = 500)"
   ]
  },
  {
   "cell_type": "markdown",
   "id": "1c3f35b6",
   "metadata": {},
   "source": [
    "- Fit vectorizer to the training data and transform it into <code>X_train_tf</code>"
   ]
  },
  {
   "cell_type": "code",
   "execution_count": 195,
   "id": "748f0abb",
   "metadata": {},
   "outputs": [],
   "source": [
    "X_train_tf = vectorizer.fit_transform(X_train)"
   ]
  },
  {
   "cell_type": "markdown",
   "id": "39f28db4",
   "metadata": {},
   "source": [
    "- Fit vectorizer to the training data and transform it into <code>X_test_tf</code>"
   ]
  },
  {
   "cell_type": "code",
   "execution_count": 196,
   "id": "c975caa6",
   "metadata": {},
   "outputs": [],
   "source": [
    "X_test_tf = vectorizer.fit_transform(X_test)"
   ]
  },
  {
   "cell_type": "code",
   "execution_count": 197,
   "id": "81de3fe6",
   "metadata": {},
   "outputs": [],
   "source": [
    "dtc = DecisionTreeClassifier(criterion = 'entropy', random_state = 0)\n",
    "dtc.fit(X_train_tf, y_train)\n",
    "\n",
    "y_pred_dtc = dtc.predict(X_test_tf)"
   ]
  },
  {
   "cell_type": "markdown",
   "id": "8c4d5241",
   "metadata": {},
   "source": [
    "- Evaluate trained model (with cross-validation)"
   ]
  },
  {
   "cell_type": "code",
   "execution_count": 198,
   "id": "341631f9",
   "metadata": {},
   "outputs": [
    {
     "name": "stdout",
     "output_type": "stream",
     "text": [
      "0.6922\n",
      "0.69 accuracy with a standard deviation of 0.01\n"
     ]
    }
   ],
   "source": [
    "evaluation(dtc, X_test_tf, y_test)"
   ]
  },
  {
   "cell_type": "markdown",
   "id": "c625ccc6",
   "metadata": {},
   "source": [
    "- Get the accuaracy score "
   ]
  },
  {
   "cell_type": "code",
   "execution_count": 129,
   "id": "2da875b0",
   "metadata": {},
   "outputs": [
    {
     "data": {
      "text/plain": [
       "0.9701"
      ]
     },
     "execution_count": 129,
     "metadata": {},
     "output_type": "execute_result"
    }
   ],
   "source": [
    "accuracy_score(y_test, y_pred_dtc)"
   ]
  },
  {
   "cell_type": "markdown",
   "id": "8e41a5fa",
   "metadata": {},
   "source": [
    "- Get the class labels predictions"
   ]
  },
  {
   "cell_type": "code",
   "execution_count": 121,
   "id": "a28a8f82",
   "metadata": {},
   "outputs": [],
   "source": [
    "P_train = dtc.predict(X_train_tf)\n",
    "P_test = dtc.predict(X_test_tf)"
   ]
  },
  {
   "cell_type": "markdown",
   "id": "5b7e8783",
   "metadata": {},
   "source": [
    "- Call the confusion matrix function"
   ]
  },
  {
   "cell_type": "code",
   "execution_count": 199,
   "id": "fbbfe894",
   "metadata": {},
   "outputs": [
    {
     "data": {
      "text/plain": [
       "array([[0.99581081, 0.00418919, 0.        ],\n",
       "       [0.095     , 0.905     , 0.        ],\n",
       "       [0.11333333, 0.01666667, 0.87      ]])"
      ]
     },
     "execution_count": 199,
     "metadata": {},
     "output_type": "execute_result"
    }
   ],
   "source": [
    "cm = confusion_matrix(y_train, P_train, normalize='true')\n",
    "cm"
   ]
  },
  {
   "cell_type": "markdown",
   "id": "9964e01e",
   "metadata": {},
   "source": [
    "- Plot the confusion matrix"
   ]
  },
  {
   "cell_type": "code",
   "execution_count": 200,
   "id": "12cec706",
   "metadata": {},
   "outputs": [
    {
     "data": {
      "text/plain": [
       "Text(33.0, 0.5, 'Target')"
      ]
     },
     "execution_count": 200,
     "metadata": {},
     "output_type": "execute_result"
    },
    {
     "data": {
      "image/png": "[encoded data removed]",
      "text/plain": [
       "<Figure size 432x288 with 2 Axes>"
      ]
     },
     "metadata": {
      "needs_background": "light"
     },
     "output_type": "display_data"
    }
   ],
   "source": [
    "classes = ['negative', 'positive', 'neutral'] \n",
    "\n",
    "df_cm = pd.DataFrame(cm, index=classes, columns=classes)\n",
    "\n",
    "ax = sns.heatmap(df_cm, annot=True, fmt='g')\n",
    "ax.set_xlabel(\"Predicted\")\n",
    "ax.set_ylabel(\"Target\")"
   ]
  },
  {
   "cell_type": "markdown",
   "id": "b657cdfb",
   "metadata": {},
   "source": [
    "- Model does very well on all clases\n",
    "- When we do not predict the neutral class corectly, we actually predict negative rather than positive"
   ]
  },
  {
   "cell_type": "markdown",
   "id": "96b5d07a",
   "metadata": {},
   "source": [
    "- Call the confusion matrix function for test subset"
   ]
  },
  {
   "cell_type": "code",
   "execution_count": 201,
   "id": "167b4fca",
   "metadata": {},
   "outputs": [
    {
     "data": {
      "text/plain": [
       "array([[0.99581081, 0.00418919, 0.        ],\n",
       "       [0.095     , 0.905     , 0.        ],\n",
       "       [0.11333333, 0.01666667, 0.87      ]])"
      ]
     },
     "execution_count": 201,
     "metadata": {},
     "output_type": "execute_result"
    }
   ],
   "source": [
    "cm_test = confusion_matrix(y_test, P_test, normalize='true')\n",
    "cm_test"
   ]
  },
  {
   "cell_type": "markdown",
   "id": "f038c895",
   "metadata": {},
   "source": [
    "- Plot the confusion matrix for test subset"
   ]
  },
  {
   "cell_type": "code",
   "execution_count": 202,
   "id": "04b22910",
   "metadata": {},
   "outputs": [
    {
     "data": {
      "text/plain": [
       "Text(33.0, 0.5, 'Target')"
      ]
     },
     "execution_count": 202,
     "metadata": {},
     "output_type": "execute_result"
    },
    {
     "data": {
      "image/png": "[encoded data removed]",
      "text/plain": [
       "<Figure size 432x288 with 2 Axes>"
      ]
     },
     "metadata": {
      "needs_background": "light"
     },
     "output_type": "display_data"
    }
   ],
   "source": [
    "classes = ['negative', 'positive', 'neutral'] \n",
    "\n",
    "df_cm_test = pd.DataFrame(cm_test, index=classes, columns=classes)\n",
    "\n",
    "ax = sns.heatmap(df_cm_test, annot=True, fmt='g')\n",
    "ax.set_xlabel(\"Predicted\")\n",
    "ax.set_ylabel(\"Target\")"
   ]
  },
  {
   "cell_type": "markdown",
   "id": "665bd9ba",
   "metadata": {},
   "source": [
    "<p style='color:red'>Test matrix is the same as the training matrix</p>"
   ]
  },
  {
   "cell_type": "markdown",
   "id": "9e3f4f82",
   "metadata": {},
   "source": [
    "- Print classification report"
   ]
  },
  {
   "cell_type": "code",
   "execution_count": 147,
   "id": "9276ca55",
   "metadata": {},
   "outputs": [
    {
     "name": "stdout",
     "output_type": "stream",
     "text": [
      "Classification Report:\n",
      "               precision    recall  f1-score   support\n",
      "\n",
      "           0       0.97      1.00      0.98      7400\n",
      "           1       0.98      0.91      0.94      2000\n",
      "           2       1.00      0.87      0.93       600\n",
      "\n",
      "    accuracy                           0.97     10000\n",
      "   macro avg       0.98      0.92      0.95     10000\n",
      "weighted avg       0.97      0.97      0.97     10000\n",
      "\n"
     ]
    }
   ],
   "source": [
    "print(\"Classification Report:\\n\", classification_report(y_test, y_pred_dtc))"
   ]
  },
  {
   "cell_type": "markdown",
   "id": "9f9e1ac1",
   "metadata": {},
   "source": [
    "<h3>Train model without neutral class</h3>"
   ]
  },
  {
   "cell_type": "markdown",
   "id": "dd4e723e",
   "metadata": {},
   "source": [
    "- Filter the rows with the <code>tweet_polarity</code> equal to 2"
   ]
  },
  {
   "cell_type": "code",
   "execution_count": 205,
   "id": "33ed63b4",
   "metadata": {},
   "outputs": [
    {
     "name": "stdout",
     "output_type": "stream",
     "text": [
      "Number of neutral tweet_polarity: 0\n",
      "Number of neutral tweet_polarity: 0\n"
     ]
    }
   ],
   "source": [
    "df_b_train = df_train[df_train['tweet_polarity'] != 2]\n",
    "df_b_test = df_test[df_test['tweet_polarity'] != 2]\n",
    "\n",
    "print(\"Number of neutral tweet_polarity:\", df_b_train.query('tweet_polarity == \"2\"')['tweet_polarity'].count())\n",
    "print(\"Number of neutral tweet_polarity:\", df_b_test.query('tweet_polarity == \"2\"')['tweet_polarity'].count())"
   ]
  },
  {
   "cell_type": "code",
   "execution_count": 209,
   "id": "9ee90f6c",
   "metadata": {},
   "outputs": [
    {
     "data": {
      "text/html": [
       "<div>\n",
       "<style scoped>\n",
       "    .dataframe tbody tr th:only-of-type {\n",
       "        vertical-align: middle;\n",
       "    }\n",
       "\n",
       "    .dataframe tbody tr th {\n",
       "        vertical-align: top;\n",
       "    }\n",
       "\n",
       "    .dataframe thead th {\n",
       "        text-align: right;\n",
       "    }\n",
       "</style>\n",
       "<table border=\"1\" class=\"dataframe\">\n",
       "  <thead>\n",
       "    <tr style=\"text-align: right;\">\n",
       "      <th></th>\n",
       "      <th>id</th>\n",
       "      <th>date</th>\n",
       "      <th>user</th>\n",
       "      <th>text</th>\n",
       "      <th>tweet_polarity</th>\n",
       "    </tr>\n",
       "  </thead>\n",
       "  <tbody>\n",
       "    <tr>\n",
       "      <th>9372</th>\n",
       "      <td>2184693508</td>\n",
       "      <td>Mon Jun 15 16:16:52 PDT 2009</td>\n",
       "      <td>mediatemple</td>\n",
       "      <td>bio comprom mad sec mail serv us account vuln ...</td>\n",
       "      <td>1</td>\n",
       "    </tr>\n",
       "    <tr>\n",
       "      <th>7291</th>\n",
       "      <td>1469755923</td>\n",
       "      <td>Tue Apr 07 07:19:34 PDT 2009</td>\n",
       "      <td>Jodi1982</td>\n",
       "      <td>anybody els sad dr kutn</td>\n",
       "      <td>0</td>\n",
       "    </tr>\n",
       "    <tr>\n",
       "      <th>1344</th>\n",
       "      <td>1468133212</td>\n",
       "      <td>Mon Apr 06 23:53:53 PDT 2009</td>\n",
       "      <td>paul_steele</td>\n",
       "      <td>pleas watch vid tel not mov http www youtub co...</td>\n",
       "      <td>0</td>\n",
       "    </tr>\n",
       "    <tr>\n",
       "      <th>7293</th>\n",
       "      <td>1469756325</td>\n",
       "      <td>Tue Apr 07 07:19:39 PDT 2009</td>\n",
       "      <td>musicallymary</td>\n",
       "      <td>know busy law test took not look forward quant...</td>\n",
       "      <td>0</td>\n",
       "    </tr>\n",
       "    <tr>\n",
       "      <th>1289</th>\n",
       "      <td>1468123355</td>\n",
       "      <td>Mon Apr 06 23:50:30 PDT 2009</td>\n",
       "      <td>albynomonk</td>\n",
       "      <td>heatherlibby oh wel seem lik troubl christian ...</td>\n",
       "      <td>0</td>\n",
       "    </tr>\n",
       "  </tbody>\n",
       "</table>\n",
       "</div>"
      ],
      "text/plain": [
       "              id                          date           user  \\\n",
       "9372  2184693508  Mon Jun 15 16:16:52 PDT 2009    mediatemple   \n",
       "7291  1469755923  Tue Apr 07 07:19:34 PDT 2009       Jodi1982   \n",
       "1344  1468133212  Mon Apr 06 23:53:53 PDT 2009    paul_steele   \n",
       "7293  1469756325  Tue Apr 07 07:19:39 PDT 2009  musicallymary   \n",
       "1289  1468123355  Mon Apr 06 23:50:30 PDT 2009     albynomonk   \n",
       "\n",
       "                                                   text  tweet_polarity  \n",
       "9372  bio comprom mad sec mail serv us account vuln ...               1  \n",
       "7291                            anybody els sad dr kutn               0  \n",
       "1344  pleas watch vid tel not mov http www youtub co...               0  \n",
       "7293  know busy law test took not look forward quant...               0  \n",
       "1289  heatherlibby oh wel seem lik troubl christian ...               0  "
      ]
     },
     "execution_count": 209,
     "metadata": {},
     "output_type": "execute_result"
    }
   ],
   "source": [
    "df_b_train.tail()"
   ]
  },
  {
   "cell_type": "code",
   "execution_count": 208,
   "id": "461165b9",
   "metadata": {},
   "outputs": [
    {
     "data": {
      "text/html": [
       "<div>\n",
       "<style scoped>\n",
       "    .dataframe tbody tr th:only-of-type {\n",
       "        vertical-align: middle;\n",
       "    }\n",
       "\n",
       "    .dataframe tbody tr th {\n",
       "        vertical-align: top;\n",
       "    }\n",
       "\n",
       "    .dataframe thead th {\n",
       "        text-align: right;\n",
       "    }\n",
       "</style>\n",
       "<table border=\"1\" class=\"dataframe\">\n",
       "  <thead>\n",
       "    <tr style=\"text-align: right;\">\n",
       "      <th></th>\n",
       "      <th>id</th>\n",
       "      <th>date</th>\n",
       "      <th>user</th>\n",
       "      <th>text</th>\n",
       "      <th>tweet_polarity</th>\n",
       "    </tr>\n",
       "  </thead>\n",
       "  <tbody>\n",
       "    <tr>\n",
       "      <th>8493</th>\n",
       "      <td>2184481604</td>\n",
       "      <td>Mon Jun 15 15:58:34 PDT 2009</td>\n",
       "      <td>PandemicStudios</td>\n",
       "      <td>dvx uk ea pandem not mad annount regard new me...</td>\n",
       "      <td>1</td>\n",
       "    </tr>\n",
       "    <tr>\n",
       "      <th>8704</th>\n",
       "      <td>2184530442</td>\n",
       "      <td>Mon Jun 15 16:02:44 PDT 2009</td>\n",
       "      <td>t3naciously</td>\n",
       "      <td>menopausalmaud gasp loooov garageband song rea...</td>\n",
       "      <td>1</td>\n",
       "    </tr>\n",
       "    <tr>\n",
       "      <th>8685</th>\n",
       "      <td>2184529801</td>\n",
       "      <td>Mon Jun 15 16:02:40 PDT 2009</td>\n",
       "      <td>michaelkpeters</td>\n",
       "      <td>watchin rocky</td>\n",
       "      <td>1</td>\n",
       "    </tr>\n",
       "    <tr>\n",
       "      <th>3983</th>\n",
       "      <td>1468718845</td>\n",
       "      <td>Tue Apr 07 03:21:07 PDT 2009</td>\n",
       "      <td>phil6395</td>\n",
       "      <td>bought iphon g ebay lik week ago stil com</td>\n",
       "      <td>0</td>\n",
       "    </tr>\n",
       "    <tr>\n",
       "      <th>8590</th>\n",
       "      <td>2184505676</td>\n",
       "      <td>Mon Jun 15 16:00:35 PDT 2009</td>\n",
       "      <td>magneversaydie</td>\n",
       "      <td>nelaw jaj eso hic</td>\n",
       "      <td>1</td>\n",
       "    </tr>\n",
       "  </tbody>\n",
       "</table>\n",
       "</div>"
      ],
      "text/plain": [
       "              id                          date             user  \\\n",
       "8493  2184481604  Mon Jun 15 15:58:34 PDT 2009  PandemicStudios   \n",
       "8704  2184530442  Mon Jun 15 16:02:44 PDT 2009      t3naciously   \n",
       "8685  2184529801  Mon Jun 15 16:02:40 PDT 2009   michaelkpeters   \n",
       "3983  1468718845  Tue Apr 07 03:21:07 PDT 2009         phil6395   \n",
       "8590  2184505676  Mon Jun 15 16:00:35 PDT 2009   magneversaydie   \n",
       "\n",
       "                                                   text  tweet_polarity  \n",
       "8493  dvx uk ea pandem not mad annount regard new me...               1  \n",
       "8704  menopausalmaud gasp loooov garageband song rea...               1  \n",
       "8685                                      watchin rocky               1  \n",
       "3983          bought iphon g ebay lik week ago stil com               0  \n",
       "8590                                  nelaw jaj eso hic               1  "
      ]
     },
     "execution_count": 208,
     "metadata": {},
     "output_type": "execute_result"
    }
   ],
   "source": [
    "df_b_test.tail()"
   ]
  },
  {
   "cell_type": "markdown",
   "id": "16561d0a",
   "metadata": {},
   "source": [
    "- Convert dataset into TD IDF vectorizer object"
   ]
  },
  {
   "cell_type": "code",
   "execution_count": 211,
   "id": "e9ac1d5e",
   "metadata": {},
   "outputs": [],
   "source": [
    "X_train_b = vectorizer.fit_transform(df_b_train[\"text\"])\n",
    "X_test_b = vectorizer.fit_transform(df_b_test[\"text\"])"
   ]
  },
  {
   "cell_type": "markdown",
   "id": "2f992de4",
   "metadata": {},
   "source": [
    "- Get the <code>tweet_polarity</code> classes and obtain Y_train_b and Y_test_b"
   ]
  },
  {
   "cell_type": "code",
   "execution_count": 224,
   "id": "d3da1604",
   "metadata": {},
   "outputs": [],
   "source": [
    "Y_train_b = df_b_train['tweet_polarity']\n",
    "Y_test_b = df_b_test['tweet_polarity']"
   ]
  },
  {
   "cell_type": "markdown",
   "id": "1cd6ee00",
   "metadata": {},
   "source": [
    "- Train a new model on binary dataset"
   ]
  },
  {
   "cell_type": "code",
   "execution_count": 225,
   "id": "b813b227",
   "metadata": {},
   "outputs": [],
   "source": [
    "dtc_b = DecisionTreeClassifier(criterion = 'entropy', random_state = 0)\n",
    "dtc.fit(X_train_b, Y_train_b)\n",
    "\n",
    "y_pred_dtc = dtc.predict(X_test_b)"
   ]
  },
  {
   "cell_type": "markdown",
   "id": "1b8c7ffa",
   "metadata": {},
   "source": [
    "- Print accuaracy score"
   ]
  },
  {
   "cell_type": "code",
   "execution_count": 226,
   "id": "19e895fd",
   "metadata": {},
   "outputs": [
    {
     "name": "stdout",
     "output_type": "stream",
     "text": [
      "Train acc: 0.9767021276595744\n",
      "Test acc: 0.9767021276595744\n"
     ]
    }
   ],
   "source": [
    "print(\"Train acc:\", dtc.score(X_train_b, Y_train_b))\n",
    "print(\"Test acc:\", dtc.score(X_test_b, Y_test_b))"
   ]
  },
  {
   "cell_type": "markdown",
   "id": "66807a92",
   "metadata": {},
   "source": [
    "- Get class labels"
   ]
  },
  {
   "cell_type": "code",
   "execution_count": 228,
   "id": "dd207519",
   "metadata": {},
   "outputs": [],
   "source": [
    "P_train_b = dtc.predict(X_train_b)\n",
    "P_test_b = dtc.predict(X_test_b)"
   ]
  },
  {
   "cell_type": "code",
   "execution_count": 230,
   "id": "bb55e4df",
   "metadata": {},
   "outputs": [
    {
     "data": {
      "text/plain": [
       "array([[0.99608108, 0.00391892],\n",
       "       [0.095     , 0.905     ]])"
      ]
     },
     "execution_count": 230,
     "metadata": {},
     "output_type": "execute_result"
    }
   ],
   "source": [
    "cm_test_b = confusion_matrix(Y_test_b, P_test_b, normalize='true')\n",
    "cm_test_b"
   ]
  },
  {
   "cell_type": "code",
   "execution_count": 231,
   "id": "a61f813a",
   "metadata": {},
   "outputs": [
    {
     "data": {
      "text/plain": [
       "Text(33.0, 0.5, 'Target')"
      ]
     },
     "execution_count": 231,
     "metadata": {},
     "output_type": "execute_result"
    },
    {
     "data": {
      "image/png": "[encoded data removed]",
      "text/plain": [
       "<Figure size 432x288 with 2 Axes>"
      ]
     },
     "metadata": {
      "needs_background": "light"
     },
     "output_type": "display_data"
    }
   ],
   "source": [
    "classes = ['negative', 'positive'] \n",
    "\n",
    "df_cm_test = pd.DataFrame(cm_test_b, index=classes, columns=classes)\n",
    "\n",
    "ax = sns.heatmap(df_cm_test, annot=True, fmt='g')\n",
    "ax.set_xlabel(\"Predicted\")\n",
    "ax.set_ylabel(\"Target\")"
   ]
  },
  {
   "cell_type": "code",
   "execution_count": null,
   "id": "1d12d88f",
   "metadata": {},
   "outputs": [],
   "source": []
  }
 ],
 "metadata": {
  "kernelspec": {
   "display_name": "Python 3",
   "language": "python",
   "name": "python3"
  },
  "language_info": {
   "codemirror_mode": {
    "name": "ipython",
    "version": 3
   },
   "file_extension": ".py",
   "mimetype": "text/x-python",
   "name": "python",
   "nbconvert_exporter": "python",
   "pygments_lexer": "ipython3",
   "version": "3.8.8"
  }
 },
 "nbformat": 4,
 "nbformat_minor": 5
}
