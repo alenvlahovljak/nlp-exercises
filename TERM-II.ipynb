{
 "cells": [
  {
   "cell_type": "markdown",
   "id": "55bde9ef",
   "metadata": {},
   "source": [
    "- Import modules"
   ]
  },
  {
   "cell_type": "code",
   "execution_count": 218,
   "id": "99377118",
   "metadata": {},
   "outputs": [],
   "source": [
    "import pandas as pd \n",
    "import seaborn as sns\n",
    "import matplotlib.pyplot as plt\n",
    "import nltk\n",
    "\n",
    "import re\n",
    "from nltk.corpus import stopwords\n",
    "from nltk.stem import LancasterStemmer\n",
    "from pandarallel import pandarallel \n",
    "\n",
    "from sklearn.utils import shuffle\n",
    "from mlxtend.plotting import plot_confusion_matrix\n",
    "from sklearn.preprocessing import LabelEncoder\n",
    "\n",
    "from sklearn.feature_extraction.text import TfidfVectorizer\n",
    "from sklearn.metrics import confusion_matrix, accuracy_score, classification_report\n",
    "from sklearn.tree import DecisionTreeClassifier\n",
    "from sklearn.model_selection import cross_val_score "
   ]
  },
  {
   "cell_type": "markdown",
   "id": "871fbfb7",
   "metadata": {},
   "source": [
    "- Initilize parallel processing module for faster data processing"
   ]
  },
  {
   "cell_type": "code",
   "execution_count": 219,
   "id": "9bc63e9f",
   "metadata": {},
   "outputs": [
    {
     "name": "stdout",
     "output_type": "stream",
     "text": [
      "INFO: Pandarallel will run on 12 workers.\n",
      "INFO: Pandarallel will use standard multiprocessing data transfer (pipe) to transfer data between the main process and workers.\n"
     ]
    }
   ],
   "source": [
    "pandarallel.initialize()"
   ]
  },
  {
   "cell_type": "markdown",
   "id": "69cf0e0f",
   "metadata": {},
   "source": [
    "- Download NLTK"
   ]
  },
  {
   "cell_type": "code",
   "execution_count": 220,
   "id": "e91bfe2d",
   "metadata": {},
   "outputs": [
    {
     "name": "stderr",
     "output_type": "stream",
     "text": [
      "[nltk_data] Downloading package stopwords to\n",
      "[nltk_data]     /Users/alenvlahovljak/nltk_data...\n",
      "[nltk_data]   Package stopwords is already up-to-date!\n"
     ]
    },
    {
     "data": {
      "text/plain": [
       "True"
      ]
     },
     "execution_count": 220,
     "metadata": {},
     "output_type": "execute_result"
    }
   ],
   "source": [
    "nltk.download('stopwords')"
   ]
  },
  {
   "cell_type": "markdown",
   "id": "332f91a4",
   "metadata": {},
   "source": [
    "- Import both train and test data frames"
   ]
  },
  {
   "cell_type": "code",
   "execution_count": 222,
   "id": "736d94cd",
   "metadata": {},
   "outputs": [],
   "source": [
    "df_train = pd.read_csv('./tweetTraining.csv', header=None, encoding='ISO-8859-1', names=[\"id\", \"date\", \"user\", \"text\", \"tweet_polarity\"])\n",
    "df_test = pd.read_csv('./tweetTraining.csv', header=None, encoding='ISO-8859-1', names=[\"id\", \"date\", \"user\", \"text\", \"tweet_polarity\"])"
   ]
  },
  {
   "cell_type": "markdown",
   "id": "895f5c04",
   "metadata": {},
   "source": [
    "- Print train data frame"
   ]
  },
  {
   "cell_type": "code",
   "execution_count": 223,
   "id": "38c384d3",
   "metadata": {},
   "outputs": [
    {
     "data": {
      "text/html": [
       "<div>\n",
       "<style scoped>\n",
       "    .dataframe tbody tr th:only-of-type {\n",
       "        vertical-align: middle;\n",
       "    }\n",
       "\n",
       "    .dataframe tbody tr th {\n",
       "        vertical-align: top;\n",
       "    }\n",
       "\n",
       "    .dataframe thead th {\n",
       "        text-align: right;\n",
       "    }\n",
       "</style>\n",
       "<table border=\"1\" class=\"dataframe\">\n",
       "  <thead>\n",
       "    <tr style=\"text-align: right;\">\n",
       "      <th></th>\n",
       "      <th>id</th>\n",
       "      <th>date</th>\n",
       "      <th>user</th>\n",
       "      <th>text</th>\n",
       "      <th>tweet_polarity</th>\n",
       "    </tr>\n",
       "  </thead>\n",
       "  <tbody>\n",
       "    <tr>\n",
       "      <th>0</th>\n",
       "      <td>1467810369</td>\n",
       "      <td>Mon Apr 06 22:19:45 PDT 2009</td>\n",
       "      <td>_TheSpecialOne_</td>\n",
       "      <td>@switchfoot http://twitpic.com/2y1zl - Awww, t...</td>\n",
       "      <td>0</td>\n",
       "    </tr>\n",
       "    <tr>\n",
       "      <th>1</th>\n",
       "      <td>1467810672</td>\n",
       "      <td>Mon Apr 06 22:19:49 PDT 2009</td>\n",
       "      <td>scotthamilton</td>\n",
       "      <td>is upset that he can't update his Facebook by ...</td>\n",
       "      <td>0</td>\n",
       "    </tr>\n",
       "    <tr>\n",
       "      <th>2</th>\n",
       "      <td>1467810917</td>\n",
       "      <td>Mon Apr 06 22:19:53 PDT 2009</td>\n",
       "      <td>mattycus</td>\n",
       "      <td>@Kenichan I dived many times for the ball. Man...</td>\n",
       "      <td>0</td>\n",
       "    </tr>\n",
       "    <tr>\n",
       "      <th>3</th>\n",
       "      <td>1467811184</td>\n",
       "      <td>Mon Apr 06 22:19:57 PDT 2009</td>\n",
       "      <td>ElleCTF</td>\n",
       "      <td>my whole body feels itchy and like its on fire</td>\n",
       "      <td>0</td>\n",
       "    </tr>\n",
       "    <tr>\n",
       "      <th>4</th>\n",
       "      <td>1467811193</td>\n",
       "      <td>Mon Apr 06 22:19:57 PDT 2009</td>\n",
       "      <td>Karoli</td>\n",
       "      <td>@nationwideclass no, it's not behaving at all....</td>\n",
       "      <td>0</td>\n",
       "    </tr>\n",
       "    <tr>\n",
       "      <th>...</th>\n",
       "      <td>...</td>\n",
       "      <td>...</td>\n",
       "      <td>...</td>\n",
       "      <td>...</td>\n",
       "      <td>...</td>\n",
       "    </tr>\n",
       "    <tr>\n",
       "      <th>9995</th>\n",
       "      <td>2184830969</td>\n",
       "      <td>Mon Jun 15 16:29:07 PDT 2009</td>\n",
       "      <td>jfanaian</td>\n",
       "      <td>@annhoff yeah I'm right next to you!</td>\n",
       "      <td>4</td>\n",
       "    </tr>\n",
       "    <tr>\n",
       "      <th>9996</th>\n",
       "      <td>2184831004</td>\n",
       "      <td>Mon Jun 15 16:29:08 PDT 2009</td>\n",
       "      <td>mikeyloops</td>\n",
       "      <td>Oh my way to slo</td>\n",
       "      <td>4</td>\n",
       "    </tr>\n",
       "    <tr>\n",
       "      <th>9997</th>\n",
       "      <td>2184831055</td>\n",
       "      <td>Mon Jun 15 16:29:08 PDT 2009</td>\n",
       "      <td>FelineRoyalty</td>\n",
       "      <td>Today is my birthday, I'm 7 years young  Mom g...</td>\n",
       "      <td>4</td>\n",
       "    </tr>\n",
       "    <tr>\n",
       "      <th>9998</th>\n",
       "      <td>2184831095</td>\n",
       "      <td>Mon Jun 15 16:29:08 PDT 2009</td>\n",
       "      <td>babyd</td>\n",
       "      <td>Internet se cortÃ³ y dejÃ³ de subirse el video...</td>\n",
       "      <td>4</td>\n",
       "    </tr>\n",
       "    <tr>\n",
       "      <th>9999</th>\n",
       "      <td>2184831142</td>\n",
       "      <td>Mon Jun 15 16:29:08 PDT 2009</td>\n",
       "      <td>sonjiya</td>\n",
       "      <td>@xsparkage i'm so ready for new xcookage</td>\n",
       "      <td>4</td>\n",
       "    </tr>\n",
       "  </tbody>\n",
       "</table>\n",
       "<p>10000 rows × 5 columns</p>\n",
       "</div>"
      ],
      "text/plain": [
       "              id                          date             user  \\\n",
       "0     1467810369  Mon Apr 06 22:19:45 PDT 2009  _TheSpecialOne_   \n",
       "1     1467810672  Mon Apr 06 22:19:49 PDT 2009    scotthamilton   \n",
       "2     1467810917  Mon Apr 06 22:19:53 PDT 2009         mattycus   \n",
       "3     1467811184  Mon Apr 06 22:19:57 PDT 2009          ElleCTF   \n",
       "4     1467811193  Mon Apr 06 22:19:57 PDT 2009           Karoli   \n",
       "...          ...                           ...              ...   \n",
       "9995  2184830969  Mon Jun 15 16:29:07 PDT 2009         jfanaian   \n",
       "9996  2184831004  Mon Jun 15 16:29:08 PDT 2009       mikeyloops   \n",
       "9997  2184831055  Mon Jun 15 16:29:08 PDT 2009    FelineRoyalty   \n",
       "9998  2184831095  Mon Jun 15 16:29:08 PDT 2009            babyd   \n",
       "9999  2184831142  Mon Jun 15 16:29:08 PDT 2009          sonjiya   \n",
       "\n",
       "                                                   text  tweet_polarity  \n",
       "0     @switchfoot http://twitpic.com/2y1zl - Awww, t...               0  \n",
       "1     is upset that he can't update his Facebook by ...               0  \n",
       "2     @Kenichan I dived many times for the ball. Man...               0  \n",
       "3       my whole body feels itchy and like its on fire                0  \n",
       "4     @nationwideclass no, it's not behaving at all....               0  \n",
       "...                                                 ...             ...  \n",
       "9995              @annhoff yeah I'm right next to you!                4  \n",
       "9996                                  Oh my way to slo                4  \n",
       "9997  Today is my birthday, I'm 7 years young  Mom g...               4  \n",
       "9998  Internet se cortÃ³ y dejÃ³ de subirse el video...               4  \n",
       "9999          @xsparkage i'm so ready for new xcookage                4  \n",
       "\n",
       "[10000 rows x 5 columns]"
      ]
     },
     "execution_count": 223,
     "metadata": {},
     "output_type": "execute_result"
    }
   ],
   "source": [
    "df_train"
   ]
  },
  {
   "cell_type": "markdown",
   "id": "b0dec4b6",
   "metadata": {},
   "source": [
    "- Print test data frame"
   ]
  },
  {
   "cell_type": "code",
   "execution_count": 6,
   "id": "c79512f5",
   "metadata": {},
   "outputs": [
    {
     "data": {
      "text/html": [
       "<div>\n",
       "<style scoped>\n",
       "    .dataframe tbody tr th:only-of-type {\n",
       "        vertical-align: middle;\n",
       "    }\n",
       "\n",
       "    .dataframe tbody tr th {\n",
       "        vertical-align: top;\n",
       "    }\n",
       "\n",
       "    .dataframe thead th {\n",
       "        text-align: right;\n",
       "    }\n",
       "</style>\n",
       "<table border=\"1\" class=\"dataframe\">\n",
       "  <thead>\n",
       "    <tr style=\"text-align: right;\">\n",
       "      <th></th>\n",
       "      <th>id</th>\n",
       "      <th>date</th>\n",
       "      <th>user</th>\n",
       "      <th>text</th>\n",
       "      <th>tweet_polarity</th>\n",
       "    </tr>\n",
       "  </thead>\n",
       "  <tbody>\n",
       "    <tr>\n",
       "      <th>0</th>\n",
       "      <td>1467810369</td>\n",
       "      <td>Mon Apr 06 22:19:45 PDT 2009</td>\n",
       "      <td>_TheSpecialOne_</td>\n",
       "      <td>@switchfoot http://twitpic.com/2y1zl - Awww, t...</td>\n",
       "      <td>0</td>\n",
       "    </tr>\n",
       "    <tr>\n",
       "      <th>1</th>\n",
       "      <td>1467810672</td>\n",
       "      <td>Mon Apr 06 22:19:49 PDT 2009</td>\n",
       "      <td>scotthamilton</td>\n",
       "      <td>is upset that he can't update his Facebook by ...</td>\n",
       "      <td>0</td>\n",
       "    </tr>\n",
       "    <tr>\n",
       "      <th>2</th>\n",
       "      <td>1467810917</td>\n",
       "      <td>Mon Apr 06 22:19:53 PDT 2009</td>\n",
       "      <td>mattycus</td>\n",
       "      <td>@Kenichan I dived many times for the ball. Man...</td>\n",
       "      <td>0</td>\n",
       "    </tr>\n",
       "    <tr>\n",
       "      <th>3</th>\n",
       "      <td>1467811184</td>\n",
       "      <td>Mon Apr 06 22:19:57 PDT 2009</td>\n",
       "      <td>ElleCTF</td>\n",
       "      <td>my whole body feels itchy and like its on fire</td>\n",
       "      <td>0</td>\n",
       "    </tr>\n",
       "    <tr>\n",
       "      <th>4</th>\n",
       "      <td>1467811193</td>\n",
       "      <td>Mon Apr 06 22:19:57 PDT 2009</td>\n",
       "      <td>Karoli</td>\n",
       "      <td>@nationwideclass no, it's not behaving at all....</td>\n",
       "      <td>0</td>\n",
       "    </tr>\n",
       "    <tr>\n",
       "      <th>...</th>\n",
       "      <td>...</td>\n",
       "      <td>...</td>\n",
       "      <td>...</td>\n",
       "      <td>...</td>\n",
       "      <td>...</td>\n",
       "    </tr>\n",
       "    <tr>\n",
       "      <th>9995</th>\n",
       "      <td>2184830969</td>\n",
       "      <td>Mon Jun 15 16:29:07 PDT 2009</td>\n",
       "      <td>jfanaian</td>\n",
       "      <td>@annhoff yeah I'm right next to you!</td>\n",
       "      <td>4</td>\n",
       "    </tr>\n",
       "    <tr>\n",
       "      <th>9996</th>\n",
       "      <td>2184831004</td>\n",
       "      <td>Mon Jun 15 16:29:08 PDT 2009</td>\n",
       "      <td>mikeyloops</td>\n",
       "      <td>Oh my way to slo</td>\n",
       "      <td>4</td>\n",
       "    </tr>\n",
       "    <tr>\n",
       "      <th>9997</th>\n",
       "      <td>2184831055</td>\n",
       "      <td>Mon Jun 15 16:29:08 PDT 2009</td>\n",
       "      <td>FelineRoyalty</td>\n",
       "      <td>Today is my birthday, I'm 7 years young  Mom g...</td>\n",
       "      <td>4</td>\n",
       "    </tr>\n",
       "    <tr>\n",
       "      <th>9998</th>\n",
       "      <td>2184831095</td>\n",
       "      <td>Mon Jun 15 16:29:08 PDT 2009</td>\n",
       "      <td>babyd</td>\n",
       "      <td>Internet se cortÃ³ y dejÃ³ de subirse el video...</td>\n",
       "      <td>4</td>\n",
       "    </tr>\n",
       "    <tr>\n",
       "      <th>9999</th>\n",
       "      <td>2184831142</td>\n",
       "      <td>Mon Jun 15 16:29:08 PDT 2009</td>\n",
       "      <td>sonjiya</td>\n",
       "      <td>@xsparkage i'm so ready for new xcookage</td>\n",
       "      <td>4</td>\n",
       "    </tr>\n",
       "  </tbody>\n",
       "</table>\n",
       "<p>10000 rows × 5 columns</p>\n",
       "</div>"
      ],
      "text/plain": [
       "              id                          date             user  \\\n",
       "0     1467810369  Mon Apr 06 22:19:45 PDT 2009  _TheSpecialOne_   \n",
       "1     1467810672  Mon Apr 06 22:19:49 PDT 2009    scotthamilton   \n",
       "2     1467810917  Mon Apr 06 22:19:53 PDT 2009         mattycus   \n",
       "3     1467811184  Mon Apr 06 22:19:57 PDT 2009          ElleCTF   \n",
       "4     1467811193  Mon Apr 06 22:19:57 PDT 2009           Karoli   \n",
       "...          ...                           ...              ...   \n",
       "9995  2184830969  Mon Jun 15 16:29:07 PDT 2009         jfanaian   \n",
       "9996  2184831004  Mon Jun 15 16:29:08 PDT 2009       mikeyloops   \n",
       "9997  2184831055  Mon Jun 15 16:29:08 PDT 2009    FelineRoyalty   \n",
       "9998  2184831095  Mon Jun 15 16:29:08 PDT 2009            babyd   \n",
       "9999  2184831142  Mon Jun 15 16:29:08 PDT 2009          sonjiya   \n",
       "\n",
       "                                                   text  tweet_polarity  \n",
       "0     @switchfoot http://twitpic.com/2y1zl - Awww, t...               0  \n",
       "1     is upset that he can't update his Facebook by ...               0  \n",
       "2     @Kenichan I dived many times for the ball. Man...               0  \n",
       "3       my whole body feels itchy and like its on fire                0  \n",
       "4     @nationwideclass no, it's not behaving at all....               0  \n",
       "...                                                 ...             ...  \n",
       "9995              @annhoff yeah I'm right next to you!                4  \n",
       "9996                                  Oh my way to slo                4  \n",
       "9997  Today is my birthday, I'm 7 years young  Mom g...               4  \n",
       "9998  Internet se cortÃ³ y dejÃ³ de subirse el video...               4  \n",
       "9999          @xsparkage i'm so ready for new xcookage                4  \n",
       "\n",
       "[10000 rows x 5 columns]"
      ]
     },
     "execution_count": 6,
     "metadata": {},
     "output_type": "execute_result"
    }
   ],
   "source": [
    "df_test"
   ]
  },
  {
   "cell_type": "markdown",
   "id": "5d6f3ba3",
   "metadata": {},
   "source": [
    "- Data frames' size"
   ]
  },
  {
   "cell_type": "code",
   "execution_count": 156,
   "id": "31f0f1ff",
   "metadata": {},
   "outputs": [
    {
     "name": "stdout",
     "output_type": "stream",
     "text": [
      "50000 50000\n"
     ]
    }
   ],
   "source": [
    "print(df_train.size, df_test.size)"
   ]
  },
  {
   "cell_type": "code",
   "execution_count": 232,
   "id": "e4d5b32f",
   "metadata": {},
   "outputs": [
    {
     "data": {
      "text/plain": [
       "<AxesSubplot:>"
      ]
     },
     "execution_count": 232,
     "metadata": {},
     "output_type": "execute_result"
    },
    {
     "data": {
      "image/png": "[encoded data removed]",
      "text/plain": [
       "<Figure size 432x288 with 1 Axes>"
      ]
     },
     "metadata": {
      "needs_background": "light"
     },
     "output_type": "display_data"
    }
   ],
   "source": [
    "df_train['tweet_polarity'].hist()"
   ]
  },
  {
   "cell_type": "code",
   "execution_count": 233,
   "id": "aa71828c",
   "metadata": {},
   "outputs": [
    {
     "data": {
      "text/plain": [
       "<AxesSubplot:>"
      ]
     },
     "execution_count": 233,
     "metadata": {},
     "output_type": "execute_result"
    },
    {
     "data": {
      "image/png": "[encoded data removed]",
      "text/plain": [
       "<Figure size 432x288 with 1 Axes>"
      ]
     },
     "metadata": {
      "needs_background": "light"
     },
     "output_type": "display_data"
    }
   ],
   "source": [
    "df_test['tweet_polarity'].hist()"
   ]
  },
  {
   "cell_type": "markdown",
   "id": "720f2f5e",
   "metadata": {},
   "source": [
    "- Shuffle both data frames as the're the same "
   ]
  },
  {
   "cell_type": "code",
   "execution_count": 182,
   "id": "8af793f1",
   "metadata": {},
   "outputs": [],
   "source": [
    "df_train = shuffle(df_train, random_state=10)\n",
    "df_test = shuffle(df_train, random_state=10)"
   ]
  },
  {
   "cell_type": "code",
   "execution_count": 158,
   "id": "a3e35956",
   "metadata": {},
   "outputs": [
    {
     "data": {
      "text/html": [
       "<div>\n",
       "<style scoped>\n",
       "    .dataframe tbody tr th:only-of-type {\n",
       "        vertical-align: middle;\n",
       "    }\n",
       "\n",
       "    .dataframe tbody tr th {\n",
       "        vertical-align: top;\n",
       "    }\n",
       "\n",
       "    .dataframe thead th {\n",
       "        text-align: right;\n",
       "    }\n",
       "</style>\n",
       "<table border=\"1\" class=\"dataframe\">\n",
       "  <thead>\n",
       "    <tr style=\"text-align: right;\">\n",
       "      <th></th>\n",
       "      <th>id</th>\n",
       "      <th>date</th>\n",
       "      <th>user</th>\n",
       "      <th>text</th>\n",
       "      <th>tweet_polarity</th>\n",
       "    </tr>\n",
       "  </thead>\n",
       "  <tbody>\n",
       "    <tr>\n",
       "      <th>8716</th>\n",
       "      <td>2184531124</td>\n",
       "      <td>Mon Jun 15 16:02:47 PDT 2009</td>\n",
       "      <td>Crazycanuckblog</td>\n",
       "      <td>carriegisaac knew</td>\n",
       "      <td>1</td>\n",
       "    </tr>\n",
       "    <tr>\n",
       "      <th>2060</th>\n",
       "      <td>2240719080</td>\n",
       "      <td>Fri Jun 19 10:04:53 PDT 2009</td>\n",
       "      <td>danscottbrown</td>\n",
       "      <td>dannisaywh</td>\n",
       "      <td>2</td>\n",
       "    </tr>\n",
       "    <tr>\n",
       "      <th>1789</th>\n",
       "      <td>2240572467</td>\n",
       "      <td>Fri Jun 19 09:54:28 PDT 2009</td>\n",
       "      <td>bernadette18</td>\n",
       "      <td>soysauc sorry ur park ticket u didnt plan slee...</td>\n",
       "      <td>2</td>\n",
       "    </tr>\n",
       "    <tr>\n",
       "      <th>5431</th>\n",
       "      <td>1469083544</td>\n",
       "      <td>Tue Apr 07 05:08:05 PDT 2009</td>\n",
       "      <td>Belle2gs</td>\n",
       "      <td>get ready rough on work</td>\n",
       "      <td>0</td>\n",
       "    </tr>\n",
       "    <tr>\n",
       "      <th>6848</th>\n",
       "      <td>1469583015</td>\n",
       "      <td>Tue Apr 07 06:49:01 PDT 2009</td>\n",
       "      <td>Scotty089</td>\n",
       "      <td>feel sleepy gym nee snap driv mansfield not ev...</td>\n",
       "      <td>0</td>\n",
       "    </tr>\n",
       "    <tr>\n",
       "      <th>...</th>\n",
       "      <td>...</td>\n",
       "      <td>...</td>\n",
       "      <td>...</td>\n",
       "      <td>...</td>\n",
       "      <td>...</td>\n",
       "    </tr>\n",
       "    <tr>\n",
       "      <th>1718</th>\n",
       "      <td>2240511807</td>\n",
       "      <td>Fri Jun 19 09:50:04 PDT 2009</td>\n",
       "      <td>leewaters</td>\n",
       "      <td>luclatulip ah lik vert real lot stabl lik top ...</td>\n",
       "      <td>2</td>\n",
       "    </tr>\n",
       "    <tr>\n",
       "      <th>8704</th>\n",
       "      <td>2184530442</td>\n",
       "      <td>Mon Jun 15 16:02:44 PDT 2009</td>\n",
       "      <td>t3naciously</td>\n",
       "      <td>menopausalmaud gasp loooov garageband song rea...</td>\n",
       "      <td>1</td>\n",
       "    </tr>\n",
       "    <tr>\n",
       "      <th>8685</th>\n",
       "      <td>2184529801</td>\n",
       "      <td>Mon Jun 15 16:02:40 PDT 2009</td>\n",
       "      <td>michaelkpeters</td>\n",
       "      <td>watchin rocky</td>\n",
       "      <td>1</td>\n",
       "    </tr>\n",
       "    <tr>\n",
       "      <th>3983</th>\n",
       "      <td>1468718845</td>\n",
       "      <td>Tue Apr 07 03:21:07 PDT 2009</td>\n",
       "      <td>phil6395</td>\n",
       "      <td>bought iphon g ebay lik week ago stil com</td>\n",
       "      <td>0</td>\n",
       "    </tr>\n",
       "    <tr>\n",
       "      <th>8590</th>\n",
       "      <td>2184505676</td>\n",
       "      <td>Mon Jun 15 16:00:35 PDT 2009</td>\n",
       "      <td>magneversaydie</td>\n",
       "      <td>nelaw jaj eso hic</td>\n",
       "      <td>1</td>\n",
       "    </tr>\n",
       "  </tbody>\n",
       "</table>\n",
       "<p>10000 rows × 5 columns</p>\n",
       "</div>"
      ],
      "text/plain": [
       "              id                          date             user  \\\n",
       "8716  2184531124  Mon Jun 15 16:02:47 PDT 2009  Crazycanuckblog   \n",
       "2060  2240719080  Fri Jun 19 10:04:53 PDT 2009    danscottbrown   \n",
       "1789  2240572467  Fri Jun 19 09:54:28 PDT 2009     bernadette18   \n",
       "5431  1469083544  Tue Apr 07 05:08:05 PDT 2009         Belle2gs   \n",
       "6848  1469583015  Tue Apr 07 06:49:01 PDT 2009        Scotty089   \n",
       "...          ...                           ...              ...   \n",
       "1718  2240511807  Fri Jun 19 09:50:04 PDT 2009        leewaters   \n",
       "8704  2184530442  Mon Jun 15 16:02:44 PDT 2009      t3naciously   \n",
       "8685  2184529801  Mon Jun 15 16:02:40 PDT 2009   michaelkpeters   \n",
       "3983  1468718845  Tue Apr 07 03:21:07 PDT 2009         phil6395   \n",
       "8590  2184505676  Mon Jun 15 16:00:35 PDT 2009   magneversaydie   \n",
       "\n",
       "                                                   text  tweet_polarity  \n",
       "8716                                  carriegisaac knew               1  \n",
       "2060                                         dannisaywh               2  \n",
       "1789  soysauc sorry ur park ticket u didnt plan slee...               2  \n",
       "5431                            get ready rough on work               0  \n",
       "6848  feel sleepy gym nee snap driv mansfield not ev...               0  \n",
       "...                                                 ...             ...  \n",
       "1718  luclatulip ah lik vert real lot stabl lik top ...               2  \n",
       "8704  menopausalmaud gasp loooov garageband song rea...               1  \n",
       "8685                                      watchin rocky               1  \n",
       "3983          bought iphon g ebay lik week ago stil com               0  \n",
       "8590                                  nelaw jaj eso hic               1  \n",
       "\n",
       "[10000 rows x 5 columns]"
      ]
     },
     "execution_count": 158,
     "metadata": {},
     "output_type": "execute_result"
    }
   ],
   "source": [
    "df_train"
   ]
  },
  {
   "cell_type": "code",
   "execution_count": 159,
   "id": "10da0899",
   "metadata": {},
   "outputs": [
    {
     "data": {
      "text/html": [
       "<div>\n",
       "<style scoped>\n",
       "    .dataframe tbody tr th:only-of-type {\n",
       "        vertical-align: middle;\n",
       "    }\n",
       "\n",
       "    .dataframe tbody tr th {\n",
       "        vertical-align: top;\n",
       "    }\n",
       "\n",
       "    .dataframe thead th {\n",
       "        text-align: right;\n",
       "    }\n",
       "</style>\n",
       "<table border=\"1\" class=\"dataframe\">\n",
       "  <thead>\n",
       "    <tr style=\"text-align: right;\">\n",
       "      <th></th>\n",
       "      <th>id</th>\n",
       "      <th>date</th>\n",
       "      <th>user</th>\n",
       "      <th>text</th>\n",
       "      <th>tweet_polarity</th>\n",
       "    </tr>\n",
       "  </thead>\n",
       "  <tbody>\n",
       "    <tr>\n",
       "      <th>4321</th>\n",
       "      <td>1468792067</td>\n",
       "      <td>Tue Apr 07 03:45:33 PDT 2009</td>\n",
       "      <td>TiffaniDanyelle</td>\n",
       "      <td>deucewt gott meet roy oak styl show got show t...</td>\n",
       "      <td>0</td>\n",
       "    </tr>\n",
       "    <tr>\n",
       "      <th>693</th>\n",
       "      <td>1467985185</td>\n",
       "      <td>Mon Apr 06 23:07:24 PDT 2009</td>\n",
       "      <td>niffyat</td>\n",
       "      <td>castillo ugh disconcert</td>\n",
       "      <td>0</td>\n",
       "    </tr>\n",
       "    <tr>\n",
       "      <th>5618</th>\n",
       "      <td>1469132984</td>\n",
       "      <td>Tue Apr 07 05:19:56 PDT 2009</td>\n",
       "      <td>Bunchuck</td>\n",
       "      <td>cold</td>\n",
       "      <td>0</td>\n",
       "    </tr>\n",
       "    <tr>\n",
       "      <th>2821</th>\n",
       "      <td>1468458804</td>\n",
       "      <td>Tue Apr 07 01:47:48 PDT 2009</td>\n",
       "      <td>mykylnordwind</td>\n",
       "      <td>good morn world got snow</td>\n",
       "      <td>0</td>\n",
       "    </tr>\n",
       "    <tr>\n",
       "      <th>7015</th>\n",
       "      <td>1469644019</td>\n",
       "      <td>Tue Apr 07 06:59:52 PDT 2009</td>\n",
       "      <td>absolutjoiz</td>\n",
       "      <td>hungry thirstu badminton eat yet coz first rea...</td>\n",
       "      <td>0</td>\n",
       "    </tr>\n",
       "    <tr>\n",
       "      <th>...</th>\n",
       "      <td>...</td>\n",
       "      <td>...</td>\n",
       "      <td>...</td>\n",
       "      <td>...</td>\n",
       "      <td>...</td>\n",
       "    </tr>\n",
       "    <tr>\n",
       "      <th>4386</th>\n",
       "      <td>1468813702</td>\n",
       "      <td>Tue Apr 07 03:52:23 PDT 2009</td>\n",
       "      <td>graciie_xo</td>\n",
       "      <td>wash dish boohoo</td>\n",
       "      <td>0</td>\n",
       "    </tr>\n",
       "    <tr>\n",
       "      <th>6977</th>\n",
       "      <td>1469636750</td>\n",
       "      <td>Tue Apr 07 06:58:34 PDT 2009</td>\n",
       "      <td>omega29</td>\n",
       "      <td>lack protein clos mon reek havoc body joint ac...</td>\n",
       "      <td>0</td>\n",
       "    </tr>\n",
       "    <tr>\n",
       "      <th>5212</th>\n",
       "      <td>1469024119</td>\n",
       "      <td>Tue Apr 07 04:53:12 PDT 2009</td>\n",
       "      <td>Jeni86</td>\n",
       "      <td>friday yet</td>\n",
       "      <td>0</td>\n",
       "    </tr>\n",
       "    <tr>\n",
       "      <th>9557</th>\n",
       "      <td>2184738137</td>\n",
       "      <td>Mon Jun 15 16:20:49 PDT 2009</td>\n",
       "      <td>The_PHP_Jedi</td>\n",
       "      <td>lyoko cool yeah back surgery spec proc cal spi...</td>\n",
       "      <td>1</td>\n",
       "    </tr>\n",
       "    <tr>\n",
       "      <th>749</th>\n",
       "      <td>1467998362</td>\n",
       "      <td>Mon Apr 06 23:11:11 PDT 2009</td>\n",
       "      <td>KWelkeBrom</td>\n",
       "      <td>hellivin miss em</td>\n",
       "      <td>0</td>\n",
       "    </tr>\n",
       "  </tbody>\n",
       "</table>\n",
       "<p>10000 rows × 5 columns</p>\n",
       "</div>"
      ],
      "text/plain": [
       "              id                          date             user  \\\n",
       "4321  1468792067  Tue Apr 07 03:45:33 PDT 2009  TiffaniDanyelle   \n",
       "693   1467985185  Mon Apr 06 23:07:24 PDT 2009          niffyat   \n",
       "5618  1469132984  Tue Apr 07 05:19:56 PDT 2009         Bunchuck   \n",
       "2821  1468458804  Tue Apr 07 01:47:48 PDT 2009    mykylnordwind   \n",
       "7015  1469644019  Tue Apr 07 06:59:52 PDT 2009      absolutjoiz   \n",
       "...          ...                           ...              ...   \n",
       "4386  1468813702  Tue Apr 07 03:52:23 PDT 2009       graciie_xo   \n",
       "6977  1469636750  Tue Apr 07 06:58:34 PDT 2009          omega29   \n",
       "5212  1469024119  Tue Apr 07 04:53:12 PDT 2009           Jeni86   \n",
       "9557  2184738137  Mon Jun 15 16:20:49 PDT 2009     The_PHP_Jedi   \n",
       "749   1467998362  Mon Apr 06 23:11:11 PDT 2009       KWelkeBrom   \n",
       "\n",
       "                                                   text  tweet_polarity  \n",
       "4321  deucewt gott meet roy oak styl show got show t...               0  \n",
       "693                             castillo ugh disconcert               0  \n",
       "5618                                               cold               0  \n",
       "2821                           good morn world got snow               0  \n",
       "7015  hungry thirstu badminton eat yet coz first rea...               0  \n",
       "...                                                 ...             ...  \n",
       "4386                                   wash dish boohoo               0  \n",
       "6977  lack protein clos mon reek havoc body joint ac...               0  \n",
       "5212                                         friday yet               0  \n",
       "9557  lyoko cool yeah back surgery spec proc cal spi...               1  \n",
       "749                                    hellivin miss em               0  \n",
       "\n",
       "[10000 rows x 5 columns]"
      ]
     },
     "execution_count": 159,
     "metadata": {},
     "output_type": "execute_result"
    }
   ],
   "source": [
    "df_test"
   ]
  },
  {
   "cell_type": "markdown",
   "id": "bc8469fe",
   "metadata": {},
   "source": [
    "- Check for unique values"
   ]
  },
  {
   "cell_type": "code",
   "execution_count": 183,
   "id": "fdcd0975",
   "metadata": {},
   "outputs": [
    {
     "data": {
      "text/plain": [
       "array([0, 4, 2])"
      ]
     },
     "execution_count": 183,
     "metadata": {},
     "output_type": "execute_result"
    }
   ],
   "source": [
    "df_train['tweet_polarity'].unique()"
   ]
  },
  {
   "cell_type": "code",
   "execution_count": 184,
   "id": "6de377b7",
   "metadata": {},
   "outputs": [
    {
     "data": {
      "text/plain": [
       "array([4, 2, 0])"
      ]
     },
     "execution_count": 184,
     "metadata": {},
     "output_type": "execute_result"
    }
   ],
   "source": [
    "df_test['tweet_polarity'].unique()"
   ]
  },
  {
   "cell_type": "code",
   "execution_count": 185,
   "id": "d50ddcbb",
   "metadata": {},
   "outputs": [],
   "source": [
    "def text_cleaning(text):\n",
    "    review = re.sub('[^a-zA-Z]',' ', text) \n",
    "    review = review.lower()\n",
    "    review = review.split()\n",
    "    \n",
    "    ps = LancasterStemmer()\n",
    "    \n",
    "    all_stopwords = stopwords.words('english')\n",
    "    all_stopwords.remove('not')\n",
    "    \n",
    "    review = [ps.stem(word) for word in review if not word in set(all_stopwords)]\n",
    "    \n",
    "    return ' '.join(review)"
   ]
  },
  {
   "cell_type": "code",
   "execution_count": 186,
   "id": "0b4e6859",
   "metadata": {},
   "outputs": [
    {
     "data": {
      "text/html": [
       "<div>\n",
       "<style scoped>\n",
       "    .dataframe tbody tr th:only-of-type {\n",
       "        vertical-align: middle;\n",
       "    }\n",
       "\n",
       "    .dataframe tbody tr th {\n",
       "        vertical-align: top;\n",
       "    }\n",
       "\n",
       "    .dataframe thead th {\n",
       "        text-align: right;\n",
       "    }\n",
       "</style>\n",
       "<table border=\"1\" class=\"dataframe\">\n",
       "  <thead>\n",
       "    <tr style=\"text-align: right;\">\n",
       "      <th></th>\n",
       "      <th>id</th>\n",
       "      <th>date</th>\n",
       "      <th>user</th>\n",
       "      <th>text</th>\n",
       "      <th>tweet_polarity</th>\n",
       "    </tr>\n",
       "  </thead>\n",
       "  <tbody>\n",
       "    <tr>\n",
       "      <th>937</th>\n",
       "      <td>1468041919</td>\n",
       "      <td>Mon Apr 06 23:24:31 PDT 2009</td>\n",
       "      <td>gi_gi_bee</td>\n",
       "      <td>rumlov empty rum barrel sad rum barrel shak he...</td>\n",
       "      <td>0</td>\n",
       "    </tr>\n",
       "    <tr>\n",
       "      <th>9355</th>\n",
       "      <td>2184692544</td>\n",
       "      <td>Mon Jun 15 16:16:46 PDT 2009</td>\n",
       "      <td>wagylove</td>\n",
       "      <td>justo lol yup yup leav da sloppy on</td>\n",
       "      <td>4</td>\n",
       "    </tr>\n",
       "    <tr>\n",
       "      <th>2293</th>\n",
       "      <td>2240831834</td>\n",
       "      <td>Fri Jun 19 10:12:57 PDT 2009</td>\n",
       "      <td>kasumelissa</td>\n",
       "      <td>linst room swallow ipod cabl</td>\n",
       "      <td>2</td>\n",
       "    </tr>\n",
       "    <tr>\n",
       "      <th>192</th>\n",
       "      <td>1467859820</td>\n",
       "      <td>Mon Apr 06 22:32:36 PDT 2009</td>\n",
       "      <td>msbutt3rfly14</td>\n",
       "      <td>spent not good guy</td>\n",
       "      <td>0</td>\n",
       "    </tr>\n",
       "    <tr>\n",
       "      <th>8675</th>\n",
       "      <td>2184509974</td>\n",
       "      <td>Mon Jun 15 16:00:56 PDT 2009</td>\n",
       "      <td>bitofmomsense</td>\n",
       "      <td>paintermommy ou think don simil would cool nic...</td>\n",
       "      <td>4</td>\n",
       "    </tr>\n",
       "    <tr>\n",
       "      <th>...</th>\n",
       "      <td>...</td>\n",
       "      <td>...</td>\n",
       "      <td>...</td>\n",
       "      <td>...</td>\n",
       "      <td>...</td>\n",
       "    </tr>\n",
       "    <tr>\n",
       "      <th>9372</th>\n",
       "      <td>2184693508</td>\n",
       "      <td>Mon Jun 15 16:16:52 PDT 2009</td>\n",
       "      <td>mediatemple</td>\n",
       "      <td>bio comprom mad sec mail serv us account vuln ...</td>\n",
       "      <td>4</td>\n",
       "    </tr>\n",
       "    <tr>\n",
       "      <th>7291</th>\n",
       "      <td>1469755923</td>\n",
       "      <td>Tue Apr 07 07:19:34 PDT 2009</td>\n",
       "      <td>Jodi1982</td>\n",
       "      <td>anybody els sad dr kutn</td>\n",
       "      <td>0</td>\n",
       "    </tr>\n",
       "    <tr>\n",
       "      <th>1344</th>\n",
       "      <td>1468133212</td>\n",
       "      <td>Mon Apr 06 23:53:53 PDT 2009</td>\n",
       "      <td>paul_steele</td>\n",
       "      <td>pleas watch vid tel not mov http www youtub co...</td>\n",
       "      <td>0</td>\n",
       "    </tr>\n",
       "    <tr>\n",
       "      <th>7293</th>\n",
       "      <td>1469756325</td>\n",
       "      <td>Tue Apr 07 07:19:39 PDT 2009</td>\n",
       "      <td>musicallymary</td>\n",
       "      <td>know busy law test took not look forward quant...</td>\n",
       "      <td>0</td>\n",
       "    </tr>\n",
       "    <tr>\n",
       "      <th>1289</th>\n",
       "      <td>1468123355</td>\n",
       "      <td>Mon Apr 06 23:50:30 PDT 2009</td>\n",
       "      <td>albynomonk</td>\n",
       "      <td>heatherlibby oh wel seem lik troubl christian ...</td>\n",
       "      <td>0</td>\n",
       "    </tr>\n",
       "  </tbody>\n",
       "</table>\n",
       "<p>10000 rows × 5 columns</p>\n",
       "</div>"
      ],
      "text/plain": [
       "              id                          date           user  \\\n",
       "937   1468041919  Mon Apr 06 23:24:31 PDT 2009      gi_gi_bee   \n",
       "9355  2184692544  Mon Jun 15 16:16:46 PDT 2009       wagylove   \n",
       "2293  2240831834  Fri Jun 19 10:12:57 PDT 2009    kasumelissa   \n",
       "192   1467859820  Mon Apr 06 22:32:36 PDT 2009  msbutt3rfly14   \n",
       "8675  2184509974  Mon Jun 15 16:00:56 PDT 2009  bitofmomsense   \n",
       "...          ...                           ...            ...   \n",
       "9372  2184693508  Mon Jun 15 16:16:52 PDT 2009    mediatemple   \n",
       "7291  1469755923  Tue Apr 07 07:19:34 PDT 2009       Jodi1982   \n",
       "1344  1468133212  Mon Apr 06 23:53:53 PDT 2009    paul_steele   \n",
       "7293  1469756325  Tue Apr 07 07:19:39 PDT 2009  musicallymary   \n",
       "1289  1468123355  Mon Apr 06 23:50:30 PDT 2009     albynomonk   \n",
       "\n",
       "                                                   text  tweet_polarity  \n",
       "937   rumlov empty rum barrel sad rum barrel shak he...               0  \n",
       "9355                justo lol yup yup leav da sloppy on               4  \n",
       "2293                       linst room swallow ipod cabl               2  \n",
       "192                                  spent not good guy               0  \n",
       "8675  paintermommy ou think don simil would cool nic...               4  \n",
       "...                                                 ...             ...  \n",
       "9372  bio comprom mad sec mail serv us account vuln ...               4  \n",
       "7291                            anybody els sad dr kutn               0  \n",
       "1344  pleas watch vid tel not mov http www youtub co...               0  \n",
       "7293  know busy law test took not look forward quant...               0  \n",
       "1289  heatherlibby oh wel seem lik troubl christian ...               0  \n",
       "\n",
       "[10000 rows x 5 columns]"
      ]
     },
     "execution_count": 186,
     "metadata": {},
     "output_type": "execute_result"
    }
   ],
   "source": [
    "df_train['text'] = df_train['text'].parallel_apply(lambda x: text_cleaning(x))\n",
    "df_train"
   ]
  },
  {
   "cell_type": "code",
   "execution_count": 187,
   "id": "c9779823",
   "metadata": {},
   "outputs": [
    {
     "data": {
      "text/html": [
       "<div>\n",
       "<style scoped>\n",
       "    .dataframe tbody tr th:only-of-type {\n",
       "        vertical-align: middle;\n",
       "    }\n",
       "\n",
       "    .dataframe tbody tr th {\n",
       "        vertical-align: top;\n",
       "    }\n",
       "\n",
       "    .dataframe thead th {\n",
       "        text-align: right;\n",
       "    }\n",
       "</style>\n",
       "<table border=\"1\" class=\"dataframe\">\n",
       "  <thead>\n",
       "    <tr style=\"text-align: right;\">\n",
       "      <th></th>\n",
       "      <th>id</th>\n",
       "      <th>date</th>\n",
       "      <th>user</th>\n",
       "      <th>text</th>\n",
       "      <th>tweet_polarity</th>\n",
       "    </tr>\n",
       "  </thead>\n",
       "  <tbody>\n",
       "    <tr>\n",
       "      <th>8716</th>\n",
       "      <td>2184531124</td>\n",
       "      <td>Mon Jun 15 16:02:47 PDT 2009</td>\n",
       "      <td>Crazycanuckblog</td>\n",
       "      <td>carriegisaac knew</td>\n",
       "      <td>4</td>\n",
       "    </tr>\n",
       "    <tr>\n",
       "      <th>2060</th>\n",
       "      <td>2240719080</td>\n",
       "      <td>Fri Jun 19 10:04:53 PDT 2009</td>\n",
       "      <td>danscottbrown</td>\n",
       "      <td>dannisaywh</td>\n",
       "      <td>2</td>\n",
       "    </tr>\n",
       "    <tr>\n",
       "      <th>1789</th>\n",
       "      <td>2240572467</td>\n",
       "      <td>Fri Jun 19 09:54:28 PDT 2009</td>\n",
       "      <td>bernadette18</td>\n",
       "      <td>soysauc sorry ur park ticket u didnt plan slee...</td>\n",
       "      <td>2</td>\n",
       "    </tr>\n",
       "    <tr>\n",
       "      <th>5431</th>\n",
       "      <td>1469083544</td>\n",
       "      <td>Tue Apr 07 05:08:05 PDT 2009</td>\n",
       "      <td>Belle2gs</td>\n",
       "      <td>get ready rough on work</td>\n",
       "      <td>0</td>\n",
       "    </tr>\n",
       "    <tr>\n",
       "      <th>6848</th>\n",
       "      <td>1469583015</td>\n",
       "      <td>Tue Apr 07 06:49:01 PDT 2009</td>\n",
       "      <td>Scotty089</td>\n",
       "      <td>feel sleepy gym nee snap driv mansfield not ev...</td>\n",
       "      <td>0</td>\n",
       "    </tr>\n",
       "    <tr>\n",
       "      <th>...</th>\n",
       "      <td>...</td>\n",
       "      <td>...</td>\n",
       "      <td>...</td>\n",
       "      <td>...</td>\n",
       "      <td>...</td>\n",
       "    </tr>\n",
       "    <tr>\n",
       "      <th>1718</th>\n",
       "      <td>2240511807</td>\n",
       "      <td>Fri Jun 19 09:50:04 PDT 2009</td>\n",
       "      <td>leewaters</td>\n",
       "      <td>luclatulip ah lik vert real lot stabl lik top ...</td>\n",
       "      <td>2</td>\n",
       "    </tr>\n",
       "    <tr>\n",
       "      <th>8704</th>\n",
       "      <td>2184530442</td>\n",
       "      <td>Mon Jun 15 16:02:44 PDT 2009</td>\n",
       "      <td>t3naciously</td>\n",
       "      <td>menopausalmaud gasp loooov garageband song rea...</td>\n",
       "      <td>4</td>\n",
       "    </tr>\n",
       "    <tr>\n",
       "      <th>8685</th>\n",
       "      <td>2184529801</td>\n",
       "      <td>Mon Jun 15 16:02:40 PDT 2009</td>\n",
       "      <td>michaelkpeters</td>\n",
       "      <td>watchin rocky</td>\n",
       "      <td>4</td>\n",
       "    </tr>\n",
       "    <tr>\n",
       "      <th>3983</th>\n",
       "      <td>1468718845</td>\n",
       "      <td>Tue Apr 07 03:21:07 PDT 2009</td>\n",
       "      <td>phil6395</td>\n",
       "      <td>bought iphon g ebay lik week ago stil com</td>\n",
       "      <td>0</td>\n",
       "    </tr>\n",
       "    <tr>\n",
       "      <th>8590</th>\n",
       "      <td>2184505676</td>\n",
       "      <td>Mon Jun 15 16:00:35 PDT 2009</td>\n",
       "      <td>magneversaydie</td>\n",
       "      <td>nelaw jaj eso hic</td>\n",
       "      <td>4</td>\n",
       "    </tr>\n",
       "  </tbody>\n",
       "</table>\n",
       "<p>10000 rows × 5 columns</p>\n",
       "</div>"
      ],
      "text/plain": [
       "              id                          date             user  \\\n",
       "8716  2184531124  Mon Jun 15 16:02:47 PDT 2009  Crazycanuckblog   \n",
       "2060  2240719080  Fri Jun 19 10:04:53 PDT 2009    danscottbrown   \n",
       "1789  2240572467  Fri Jun 19 09:54:28 PDT 2009     bernadette18   \n",
       "5431  1469083544  Tue Apr 07 05:08:05 PDT 2009         Belle2gs   \n",
       "6848  1469583015  Tue Apr 07 06:49:01 PDT 2009        Scotty089   \n",
       "...          ...                           ...              ...   \n",
       "1718  2240511807  Fri Jun 19 09:50:04 PDT 2009        leewaters   \n",
       "8704  2184530442  Mon Jun 15 16:02:44 PDT 2009      t3naciously   \n",
       "8685  2184529801  Mon Jun 15 16:02:40 PDT 2009   michaelkpeters   \n",
       "3983  1468718845  Tue Apr 07 03:21:07 PDT 2009         phil6395   \n",
       "8590  2184505676  Mon Jun 15 16:00:35 PDT 2009   magneversaydie   \n",
       "\n",
       "                                                   text  tweet_polarity  \n",
       "8716                                  carriegisaac knew               4  \n",
       "2060                                         dannisaywh               2  \n",
       "1789  soysauc sorry ur park ticket u didnt plan slee...               2  \n",
       "5431                            get ready rough on work               0  \n",
       "6848  feel sleepy gym nee snap driv mansfield not ev...               0  \n",
       "...                                                 ...             ...  \n",
       "1718  luclatulip ah lik vert real lot stabl lik top ...               2  \n",
       "8704  menopausalmaud gasp loooov garageband song rea...               4  \n",
       "8685                                      watchin rocky               4  \n",
       "3983          bought iphon g ebay lik week ago stil com               0  \n",
       "8590                                  nelaw jaj eso hic               4  \n",
       "\n",
       "[10000 rows x 5 columns]"
      ]
     },
     "execution_count": 187,
     "metadata": {},
     "output_type": "execute_result"
    }
   ],
   "source": [
    "df_test['text'] = df_test['text'].parallel_apply(lambda x: text_cleaning(x))\n",
    "df_test"
   ]
  },
  {
   "cell_type": "markdown",
   "id": "dc8d1bcc",
   "metadata": {},
   "source": [
    "Encode <code>tweet_polarity</code>"
   ]
  },
  {
   "cell_type": "code",
   "execution_count": 188,
   "id": "2b564c86",
   "metadata": {},
   "outputs": [],
   "source": [
    "# 0 = negative\n",
    "# 2 = neutral \n",
    "# 4 = positive\n",
    "\n",
    "tweet_polarity_encode = {\n",
    "    0: 0, \n",
    "    4: 1, \n",
    "    2: 2\n",
    "}"
   ]
  },
  {
   "cell_type": "code",
   "execution_count": 238,
   "id": "5b364071",
   "metadata": {},
   "outputs": [
    {
     "data": {
      "text/html": [
       "<div>\n",
       "<style scoped>\n",
       "    .dataframe tbody tr th:only-of-type {\n",
       "        vertical-align: middle;\n",
       "    }\n",
       "\n",
       "    .dataframe tbody tr th {\n",
       "        vertical-align: top;\n",
       "    }\n",
       "\n",
       "    .dataframe thead th {\n",
       "        text-align: right;\n",
       "    }\n",
       "</style>\n",
       "<table border=\"1\" class=\"dataframe\">\n",
       "  <thead>\n",
       "    <tr style=\"text-align: right;\">\n",
       "      <th></th>\n",
       "      <th>id</th>\n",
       "      <th>date</th>\n",
       "      <th>user</th>\n",
       "      <th>text</th>\n",
       "      <th>tweet_polarity</th>\n",
       "    </tr>\n",
       "  </thead>\n",
       "  <tbody>\n",
       "    <tr>\n",
       "      <th>0</th>\n",
       "      <td>1467810369</td>\n",
       "      <td>Mon Apr 06 22:19:45 PDT 2009</td>\n",
       "      <td>_TheSpecialOne_</td>\n",
       "      <td>@switchfoot http://twitpic.com/2y1zl - Awww, t...</td>\n",
       "      <td>0</td>\n",
       "    </tr>\n",
       "    <tr>\n",
       "      <th>1</th>\n",
       "      <td>1467810672</td>\n",
       "      <td>Mon Apr 06 22:19:49 PDT 2009</td>\n",
       "      <td>scotthamilton</td>\n",
       "      <td>is upset that he can't update his Facebook by ...</td>\n",
       "      <td>0</td>\n",
       "    </tr>\n",
       "    <tr>\n",
       "      <th>2</th>\n",
       "      <td>1467810917</td>\n",
       "      <td>Mon Apr 06 22:19:53 PDT 2009</td>\n",
       "      <td>mattycus</td>\n",
       "      <td>@Kenichan I dived many times for the ball. Man...</td>\n",
       "      <td>0</td>\n",
       "    </tr>\n",
       "    <tr>\n",
       "      <th>3</th>\n",
       "      <td>1467811184</td>\n",
       "      <td>Mon Apr 06 22:19:57 PDT 2009</td>\n",
       "      <td>ElleCTF</td>\n",
       "      <td>my whole body feels itchy and like its on fire</td>\n",
       "      <td>0</td>\n",
       "    </tr>\n",
       "    <tr>\n",
       "      <th>4</th>\n",
       "      <td>1467811193</td>\n",
       "      <td>Mon Apr 06 22:19:57 PDT 2009</td>\n",
       "      <td>Karoli</td>\n",
       "      <td>@nationwideclass no, it's not behaving at all....</td>\n",
       "      <td>0</td>\n",
       "    </tr>\n",
       "  </tbody>\n",
       "</table>\n",
       "</div>"
      ],
      "text/plain": [
       "           id                          date             user  \\\n",
       "0  1467810369  Mon Apr 06 22:19:45 PDT 2009  _TheSpecialOne_   \n",
       "1  1467810672  Mon Apr 06 22:19:49 PDT 2009    scotthamilton   \n",
       "2  1467810917  Mon Apr 06 22:19:53 PDT 2009         mattycus   \n",
       "3  1467811184  Mon Apr 06 22:19:57 PDT 2009          ElleCTF   \n",
       "4  1467811193  Mon Apr 06 22:19:57 PDT 2009           Karoli   \n",
       "\n",
       "                                                text  tweet_polarity  \n",
       "0  @switchfoot http://twitpic.com/2y1zl - Awww, t...               0  \n",
       "1  is upset that he can't update his Facebook by ...               0  \n",
       "2  @Kenichan I dived many times for the ball. Man...               0  \n",
       "3    my whole body feels itchy and like its on fire                0  \n",
       "4  @nationwideclass no, it's not behaving at all....               0  "
      ]
     },
     "execution_count": 238,
     "metadata": {},
     "output_type": "execute_result"
    }
   ],
   "source": [
    "df_train['tweet_polarity'] = df_train['tweet_polarity'].map(tweet_polarity_encode)\n",
    "\n",
    "df_train.head()"
   ]
  },
  {
   "cell_type": "code",
   "execution_count": 239,
   "id": "899486ad",
   "metadata": {},
   "outputs": [
    {
     "data": {
      "text/html": [
       "<div>\n",
       "<style scoped>\n",
       "    .dataframe tbody tr th:only-of-type {\n",
       "        vertical-align: middle;\n",
       "    }\n",
       "\n",
       "    .dataframe tbody tr th {\n",
       "        vertical-align: top;\n",
       "    }\n",
       "\n",
       "    .dataframe thead th {\n",
       "        text-align: right;\n",
       "    }\n",
       "</style>\n",
       "<table border=\"1\" class=\"dataframe\">\n",
       "  <thead>\n",
       "    <tr style=\"text-align: right;\">\n",
       "      <th></th>\n",
       "      <th>id</th>\n",
       "      <th>date</th>\n",
       "      <th>user</th>\n",
       "      <th>text</th>\n",
       "      <th>tweet_polarity</th>\n",
       "    </tr>\n",
       "  </thead>\n",
       "  <tbody>\n",
       "    <tr>\n",
       "      <th>0</th>\n",
       "      <td>1467810369</td>\n",
       "      <td>Mon Apr 06 22:19:45 PDT 2009</td>\n",
       "      <td>_TheSpecialOne_</td>\n",
       "      <td>@switchfoot http://twitpic.com/2y1zl - Awww, t...</td>\n",
       "      <td>0</td>\n",
       "    </tr>\n",
       "    <tr>\n",
       "      <th>1</th>\n",
       "      <td>1467810672</td>\n",
       "      <td>Mon Apr 06 22:19:49 PDT 2009</td>\n",
       "      <td>scotthamilton</td>\n",
       "      <td>is upset that he can't update his Facebook by ...</td>\n",
       "      <td>0</td>\n",
       "    </tr>\n",
       "    <tr>\n",
       "      <th>2</th>\n",
       "      <td>1467810917</td>\n",
       "      <td>Mon Apr 06 22:19:53 PDT 2009</td>\n",
       "      <td>mattycus</td>\n",
       "      <td>@Kenichan I dived many times for the ball. Man...</td>\n",
       "      <td>0</td>\n",
       "    </tr>\n",
       "    <tr>\n",
       "      <th>3</th>\n",
       "      <td>1467811184</td>\n",
       "      <td>Mon Apr 06 22:19:57 PDT 2009</td>\n",
       "      <td>ElleCTF</td>\n",
       "      <td>my whole body feels itchy and like its on fire</td>\n",
       "      <td>0</td>\n",
       "    </tr>\n",
       "    <tr>\n",
       "      <th>4</th>\n",
       "      <td>1467811193</td>\n",
       "      <td>Mon Apr 06 22:19:57 PDT 2009</td>\n",
       "      <td>Karoli</td>\n",
       "      <td>@nationwideclass no, it's not behaving at all....</td>\n",
       "      <td>0</td>\n",
       "    </tr>\n",
       "  </tbody>\n",
       "</table>\n",
       "</div>"
      ],
      "text/plain": [
       "           id                          date             user  \\\n",
       "0  1467810369  Mon Apr 06 22:19:45 PDT 2009  _TheSpecialOne_   \n",
       "1  1467810672  Mon Apr 06 22:19:49 PDT 2009    scotthamilton   \n",
       "2  1467810917  Mon Apr 06 22:19:53 PDT 2009         mattycus   \n",
       "3  1467811184  Mon Apr 06 22:19:57 PDT 2009          ElleCTF   \n",
       "4  1467811193  Mon Apr 06 22:19:57 PDT 2009           Karoli   \n",
       "\n",
       "                                                text  tweet_polarity  \n",
       "0  @switchfoot http://twitpic.com/2y1zl - Awww, t...               0  \n",
       "1  is upset that he can't update his Facebook by ...               0  \n",
       "2  @Kenichan I dived many times for the ball. Man...               0  \n",
       "3    my whole body feels itchy and like its on fire                0  \n",
       "4  @nationwideclass no, it's not behaving at all....               0  "
      ]
     },
     "execution_count": 239,
     "metadata": {},
     "output_type": "execute_result"
    }
   ],
   "source": [
    "df_test['tweet_polarity'] = df_test['tweet_polarity'].map(tweet_polarity_encode)\n",
    "\n",
    "df_test.head()"
   ]
  },
  {
   "cell_type": "markdown",
   "id": "3dbd18be",
   "metadata": {},
   "source": [
    "- Declare train and test variables"
   ]
  },
  {
   "cell_type": "code",
   "execution_count": 240,
   "id": "3d432703",
   "metadata": {},
   "outputs": [
    {
     "data": {
      "text/plain": [
       "<AxesSubplot:>"
      ]
     },
     "execution_count": 240,
     "metadata": {},
     "output_type": "execute_result"
    },
    {
     "data": {
      "image/png": "[encoded data removed]",
      "text/plain": [
       "<Figure size 432x288 with 1 Axes>"
      ]
     },
     "metadata": {
      "needs_background": "light"
     },
     "output_type": "display_data"
    }
   ],
   "source": [
    "df_test['tweet_polarity'].hist()"
   ]
  },
  {
   "cell_type": "code",
   "execution_count": 241,
   "id": "267aeded",
   "metadata": {},
   "outputs": [
    {
     "data": {
      "text/plain": [
       "<AxesSubplot:>"
      ]
     },
     "execution_count": 241,
     "metadata": {},
     "output_type": "execute_result"
    },
    {
     "data": {
      "image/png": "[encoded data removed]",
      "text/plain": [
       "<Figure size 432x288 with 1 Axes>"
      ]
     },
     "metadata": {
      "needs_background": "light"
     },
     "output_type": "display_data"
    }
   ],
   "source": [
    "df_test['tweet_polarity'].hist()"
   ]
  },
  {
   "cell_type": "code",
   "execution_count": 191,
   "id": "784ee42b",
   "metadata": {},
   "outputs": [],
   "source": [
    "X_train = df_train['text']\n",
    "y_train = df_train['tweet_polarity']"
   ]
  },
  {
   "cell_type": "code",
   "execution_count": 192,
   "id": "5ae3cbb4",
   "metadata": {},
   "outputs": [],
   "source": [
    "X_test = df_test['text']\n",
    "y_test = df_test['tweet_polarity']"
   ]
  },
  {
   "cell_type": "markdown",
   "id": "efb8842e",
   "metadata": {},
   "source": [
    "- Model evaluation function (cross validation, k=5)"
   ]
  },
  {
   "cell_type": "code",
   "execution_count": 193,
   "id": "86dab17a",
   "metadata": {},
   "outputs": [],
   "source": [
    "def evaluation(model, X_test,  y_test):\n",
    "    y_pred = model.predict(X_test)\n",
    "    \n",
    "    scores = cross_val_score(model, X_test, y_test, cv = 5)\n",
    "    \n",
    "    print(scores.mean())\n",
    "    print(\"%0.2f accuracy with a standard deviation of %0.2f\" % (scores.mean(), scores.std()))"
   ]
  },
  {
   "cell_type": "markdown",
   "id": "e980a1cc",
   "metadata": {},
   "source": [
    "- Create TD IDF vectorizer object (transforms the text into a usable vector)"
   ]
  },
  {
   "cell_type": "code",
   "execution_count": 194,
   "id": "65e5f227",
   "metadata": {},
   "outputs": [],
   "source": [
    "vectorizer = TfidfVectorizer(max_features = 500)"
   ]
  },
  {
   "cell_type": "markdown",
   "id": "06956fad",
   "metadata": {},
   "source": [
    "- Fit vectorizer to the training data and transform it into <code>X_train_tf</code>"
   ]
  },
  {
   "cell_type": "code",
   "execution_count": 195,
   "id": "e17dde3f",
   "metadata": {},
   "outputs": [],
   "source": [
    "X_train_tf = vectorizer.fit_transform(X_train)"
   ]
  },
  {
   "cell_type": "markdown",
   "id": "16cc565d",
   "metadata": {},
   "source": [
    "- Fit vectorizer to the training data and transform it into <code>X_test_tf</code>"
   ]
  },
  {
   "cell_type": "code",
   "execution_count": 196,
   "id": "7d8c26bf",
   "metadata": {},
   "outputs": [],
   "source": [
    "X_test_tf = vectorizer.fit_transform(X_test)"
   ]
  },
  {
   "cell_type": "code",
   "execution_count": 197,
   "id": "942c72fa",
   "metadata": {},
   "outputs": [],
   "source": [
    "dtc = DecisionTreeClassifier(criterion = 'entropy', random_state = 0)\n",
    "dtc.fit(X_train_tf, y_train)\n",
    "\n",
    "y_pred_dtc = dtc.predict(X_test_tf)"
   ]
  },
  {
   "cell_type": "markdown",
   "id": "22be5acd",
   "metadata": {},
   "source": [
    "- Evaluate trained model (with cross-validation)"
   ]
  },
  {
   "cell_type": "code",
   "execution_count": 198,
   "id": "86948bfd",
   "metadata": {},
   "outputs": [
    {
     "name": "stdout",
     "output_type": "stream",
     "text": [
      "0.6922\n",
      "0.69 accuracy with a standard deviation of 0.01\n"
     ]
    }
   ],
   "source": [
    "evaluation(dtc, X_test_tf, y_test)"
   ]
  },
  {
   "cell_type": "markdown",
   "id": "c59cd739",
   "metadata": {},
   "source": [
    "- Get the accuaracy score "
   ]
  },
  {
   "cell_type": "code",
   "execution_count": 129,
   "id": "0250ae24",
   "metadata": {},
   "outputs": [
    {
     "data": {
      "text/plain": [
       "0.9701"
      ]
     },
     "execution_count": 129,
     "metadata": {},
     "output_type": "execute_result"
    }
   ],
   "source": [
    "accuracy_score(y_test, y_pred_dtc)"
   ]
  },
  {
   "cell_type": "markdown",
   "id": "772a2d9a",
   "metadata": {},
   "source": [
    "- Get the class labels predictions"
   ]
  },
  {
   "cell_type": "code",
   "execution_count": 121,
   "id": "a9aaa15e",
   "metadata": {},
   "outputs": [],
   "source": [
    "P_train = dtc.predict(X_train_tf)\n",
    "P_test = dtc.predict(X_test_tf)"
   ]
  },
  {
   "cell_type": "markdown",
   "id": "a194ecf5",
   "metadata": {},
   "source": [
    "- Call the confusion matrix function"
   ]
  },
  {
   "cell_type": "code",
   "execution_count": 199,
   "id": "98660c91",
   "metadata": {},
   "outputs": [
    {
     "data": {
      "text/plain": [
       "array([[0.99581081, 0.00418919, 0.        ],\n",
       "       [0.095     , 0.905     , 0.        ],\n",
       "       [0.11333333, 0.01666667, 0.87      ]])"
      ]
     },
     "execution_count": 199,
     "metadata": {},
     "output_type": "execute_result"
    }
   ],
   "source": [
    "cm = confusion_matrix(y_train, P_train, normalize='true')\n",
    "cm"
   ]
  },
  {
   "cell_type": "markdown",
   "id": "6fc7359e",
   "metadata": {},
   "source": [
    "- Plot the confusion matrix"
   ]
  },
  {
   "cell_type": "code",
   "execution_count": 200,
   "id": "31561f07",
   "metadata": {},
   "outputs": [
    {
     "data": {
      "text/plain": [
       "Text(33.0, 0.5, 'Target')"
      ]
     },
     "execution_count": 200,
     "metadata": {},
     "output_type": "execute_result"
    },
    {
     "data": {
      "image/png": "[encoded data removed]",
      "text/plain": [
       "<Figure size 432x288 with 2 Axes>"
      ]
     },
     "metadata": {
      "needs_background": "light"
     },
     "output_type": "display_data"
    }
   ],
   "source": [
    "classes = ['negative', 'positive', 'neutral'] \n",
    "\n",
    "df_cm = pd.DataFrame(cm, index=classes, columns=classes)\n",
    "\n",
    "ax = sns.heatmap(df_cm, annot=True, fmt='g')\n",
    "ax.set_xlabel(\"Predicted\")\n",
    "ax.set_ylabel(\"Target\")"
   ]
  },
  {
   "cell_type": "markdown",
   "id": "b14be7b3",
   "metadata": {},
   "source": [
    "- Model does very well on all clases\n",
    "- When we do not predict the neutral class corectly, we actually predict negative rather than positive"
   ]
  },
  {
   "cell_type": "markdown",
   "id": "88c86ae5",
   "metadata": {},
   "source": [
    "- Call the confusion matrix function for test subset"
   ]
  },
  {
   "cell_type": "code",
   "execution_count": 201,
   "id": "ee73eb5d",
   "metadata": {},
   "outputs": [
    {
     "data": {
      "text/plain": [
       "array([[0.99581081, 0.00418919, 0.        ],\n",
       "       [0.095     , 0.905     , 0.        ],\n",
       "       [0.11333333, 0.01666667, 0.87      ]])"
      ]
     },
     "execution_count": 201,
     "metadata": {},
     "output_type": "execute_result"
    }
   ],
   "source": [
    "cm_test = confusion_matrix(y_test, P_test, normalize='true')\n",
    "cm_test"
   ]
  },
  {
   "cell_type": "markdown",
   "id": "7c6236bc",
   "metadata": {},
   "source": [
    "- Plot the confusion matrix for test subset"
   ]
  },
  {
   "cell_type": "code",
   "execution_count": 202,
   "id": "1c914896",
   "metadata": {},
   "outputs": [
    {
     "data": {
      "text/plain": [
       "Text(33.0, 0.5, 'Target')"
      ]
     },
     "execution_count": 202,
     "metadata": {},
     "output_type": "execute_result"
    },
    {
     "data": {
      "image/png": "[encoded data removed]",
      "text/plain": [
       "<Figure size 432x288 with 2 Axes>"
      ]
     },
     "metadata": {
      "needs_background": "light"
     },
     "output_type": "display_data"
    }
   ],
   "source": [
    "classes = ['negative', 'positive', 'neutral'] \n",
    "\n",
    "df_cm_test = pd.DataFrame(cm_test, index=classes, columns=classes)\n",
    "\n",
    "ax = sns.heatmap(df_cm_test, annot=True, fmt='g')\n",
    "ax.set_xlabel(\"Predicted\")\n",
    "ax.set_ylabel(\"Target\")"
   ]
  },
  {
   "cell_type": "markdown",
   "id": "d5d2aa66",
   "metadata": {},
   "source": [
    "<p style='color:red'>Test matrix is the same as the training matrix</p>"
   ]
  },
  {
   "cell_type": "markdown",
   "id": "eab4d54a",
   "metadata": {},
   "source": [
    "- Print classification report"
   ]
  },
  {
   "cell_type": "code",
   "execution_count": 147,
   "id": "e75b870e",
   "metadata": {},
   "outputs": [
    {
     "name": "stdout",
     "output_type": "stream",
     "text": [
      "Classification Report:\n",
      "               precision    recall  f1-score   support\n",
      "\n",
      "           0       0.97      1.00      0.98      7400\n",
      "           1       0.98      0.91      0.94      2000\n",
      "           2       1.00      0.87      0.93       600\n",
      "\n",
      "    accuracy                           0.97     10000\n",
      "   macro avg       0.98      0.92      0.95     10000\n",
      "weighted avg       0.97      0.97      0.97     10000\n",
      "\n"
     ]
    }
   ],
   "source": [
    "print(\"Classification Report:\\n\", classification_report(y_test, y_pred_dtc))"
   ]
  },
  {
   "cell_type": "markdown",
   "id": "eb91cb6d",
   "metadata": {},
   "source": [
    "<h3>Train model without neutral class</h3>"
   ]
  },
  {
   "cell_type": "markdown",
   "id": "60e15bc2",
   "metadata": {},
   "source": [
    "- Filter the rows with the <code>tweet_polarity</code> equal to 2"
   ]
  },
  {
   "cell_type": "code",
   "execution_count": 205,
   "id": "6137e63d",
   "metadata": {},
   "outputs": [
    {
     "name": "stdout",
     "output_type": "stream",
     "text": [
      "Number of neutral tweet_polarity: 0\n",
      "Number of neutral tweet_polarity: 0\n"
     ]
    }
   ],
   "source": [
    "df_b_train = df_train[df_train['tweet_polarity'] != 2]\n",
    "df_b_test = df_test[df_test['tweet_polarity'] != 2]\n",
    "\n",
    "print(\"Number of neutral tweet_polarity:\", df_b_train.query('tweet_polarity == \"2\"')['tweet_polarity'].count())\n",
    "print(\"Number of neutral tweet_polarity:\", df_b_test.query('tweet_polarity == \"2\"')['tweet_polarity'].count())"
   ]
  },
  {
   "cell_type": "code",
   "execution_count": 209,
   "id": "1dd8bc57",
   "metadata": {},
   "outputs": [
    {
     "data": {
      "text/html": [
       "<div>\n",
       "<style scoped>\n",
       "    .dataframe tbody tr th:only-of-type {\n",
       "        vertical-align: middle;\n",
       "    }\n",
       "\n",
       "    .dataframe tbody tr th {\n",
       "        vertical-align: top;\n",
       "    }\n",
       "\n",
       "    .dataframe thead th {\n",
       "        text-align: right;\n",
       "    }\n",
       "</style>\n",
       "<table border=\"1\" class=\"dataframe\">\n",
       "  <thead>\n",
       "    <tr style=\"text-align: right;\">\n",
       "      <th></th>\n",
       "      <th>id</th>\n",
       "      <th>date</th>\n",
       "      <th>user</th>\n",
       "      <th>text</th>\n",
       "      <th>tweet_polarity</th>\n",
       "    </tr>\n",
       "  </thead>\n",
       "  <tbody>\n",
       "    <tr>\n",
       "      <th>9372</th>\n",
       "      <td>2184693508</td>\n",
       "      <td>Mon Jun 15 16:16:52 PDT 2009</td>\n",
       "      <td>mediatemple</td>\n",
       "      <td>bio comprom mad sec mail serv us account vuln ...</td>\n",
       "      <td>1</td>\n",
       "    </tr>\n",
       "    <tr>\n",
       "      <th>7291</th>\n",
       "      <td>1469755923</td>\n",
       "      <td>Tue Apr 07 07:19:34 PDT 2009</td>\n",
       "      <td>Jodi1982</td>\n",
       "      <td>anybody els sad dr kutn</td>\n",
       "      <td>0</td>\n",
       "    </tr>\n",
       "    <tr>\n",
       "      <th>1344</th>\n",
       "      <td>1468133212</td>\n",
       "      <td>Mon Apr 06 23:53:53 PDT 2009</td>\n",
       "      <td>paul_steele</td>\n",
       "      <td>pleas watch vid tel not mov http www youtub co...</td>\n",
       "      <td>0</td>\n",
       "    </tr>\n",
       "    <tr>\n",
       "      <th>7293</th>\n",
       "      <td>1469756325</td>\n",
       "      <td>Tue Apr 07 07:19:39 PDT 2009</td>\n",
       "      <td>musicallymary</td>\n",
       "      <td>know busy law test took not look forward quant...</td>\n",
       "      <td>0</td>\n",
       "    </tr>\n",
       "    <tr>\n",
       "      <th>1289</th>\n",
       "      <td>1468123355</td>\n",
       "      <td>Mon Apr 06 23:50:30 PDT 2009</td>\n",
       "      <td>albynomonk</td>\n",
       "      <td>heatherlibby oh wel seem lik troubl christian ...</td>\n",
       "      <td>0</td>\n",
       "    </tr>\n",
       "  </tbody>\n",
       "</table>\n",
       "</div>"
      ],
      "text/plain": [
       "              id                          date           user  \\\n",
       "9372  2184693508  Mon Jun 15 16:16:52 PDT 2009    mediatemple   \n",
       "7291  1469755923  Tue Apr 07 07:19:34 PDT 2009       Jodi1982   \n",
       "1344  1468133212  Mon Apr 06 23:53:53 PDT 2009    paul_steele   \n",
       "7293  1469756325  Tue Apr 07 07:19:39 PDT 2009  musicallymary   \n",
       "1289  1468123355  Mon Apr 06 23:50:30 PDT 2009     albynomonk   \n",
       "\n",
       "                                                   text  tweet_polarity  \n",
       "9372  bio comprom mad sec mail serv us account vuln ...               1  \n",
       "7291                            anybody els sad dr kutn               0  \n",
       "1344  pleas watch vid tel not mov http www youtub co...               0  \n",
       "7293  know busy law test took not look forward quant...               0  \n",
       "1289  heatherlibby oh wel seem lik troubl christian ...               0  "
      ]
     },
     "execution_count": 209,
     "metadata": {},
     "output_type": "execute_result"
    }
   ],
   "source": [
    "df_b_train.tail()"
   ]
  },
  {
   "cell_type": "code",
   "execution_count": 208,
   "id": "9cfd88bb",
   "metadata": {},
   "outputs": [
    {
     "data": {
      "text/html": [
       "<div>\n",
       "<style scoped>\n",
       "    .dataframe tbody tr th:only-of-type {\n",
       "        vertical-align: middle;\n",
       "    }\n",
       "\n",
       "    .dataframe tbody tr th {\n",
       "        vertical-align: top;\n",
       "    }\n",
       "\n",
       "    .dataframe thead th {\n",
       "        text-align: right;\n",
       "    }\n",
       "</style>\n",
       "<table border=\"1\" class=\"dataframe\">\n",
       "  <thead>\n",
       "    <tr style=\"text-align: right;\">\n",
       "      <th></th>\n",
       "      <th>id</th>\n",
       "      <th>date</th>\n",
       "      <th>user</th>\n",
       "      <th>text</th>\n",
       "      <th>tweet_polarity</th>\n",
       "    </tr>\n",
       "  </thead>\n",
       "  <tbody>\n",
       "    <tr>\n",
       "      <th>8493</th>\n",
       "      <td>2184481604</td>\n",
       "      <td>Mon Jun 15 15:58:34 PDT 2009</td>\n",
       "      <td>PandemicStudios</td>\n",
       "      <td>dvx uk ea pandem not mad annount regard new me...</td>\n",
       "      <td>1</td>\n",
       "    </tr>\n",
       "    <tr>\n",
       "      <th>8704</th>\n",
       "      <td>2184530442</td>\n",
       "      <td>Mon Jun 15 16:02:44 PDT 2009</td>\n",
       "      <td>t3naciously</td>\n",
       "      <td>menopausalmaud gasp loooov garageband song rea...</td>\n",
       "      <td>1</td>\n",
       "    </tr>\n",
       "    <tr>\n",
       "      <th>8685</th>\n",
       "      <td>2184529801</td>\n",
       "      <td>Mon Jun 15 16:02:40 PDT 2009</td>\n",
       "      <td>michaelkpeters</td>\n",
       "      <td>watchin rocky</td>\n",
       "      <td>1</td>\n",
       "    </tr>\n",
       "    <tr>\n",
       "      <th>3983</th>\n",
       "      <td>1468718845</td>\n",
       "      <td>Tue Apr 07 03:21:07 PDT 2009</td>\n",
       "      <td>phil6395</td>\n",
       "      <td>bought iphon g ebay lik week ago stil com</td>\n",
       "      <td>0</td>\n",
       "    </tr>\n",
       "    <tr>\n",
       "      <th>8590</th>\n",
       "      <td>2184505676</td>\n",
       "      <td>Mon Jun 15 16:00:35 PDT 2009</td>\n",
       "      <td>magneversaydie</td>\n",
       "      <td>nelaw jaj eso hic</td>\n",
       "      <td>1</td>\n",
       "    </tr>\n",
       "  </tbody>\n",
       "</table>\n",
       "</div>"
      ],
      "text/plain": [
       "              id                          date             user  \\\n",
       "8493  2184481604  Mon Jun 15 15:58:34 PDT 2009  PandemicStudios   \n",
       "8704  2184530442  Mon Jun 15 16:02:44 PDT 2009      t3naciously   \n",
       "8685  2184529801  Mon Jun 15 16:02:40 PDT 2009   michaelkpeters   \n",
       "3983  1468718845  Tue Apr 07 03:21:07 PDT 2009         phil6395   \n",
       "8590  2184505676  Mon Jun 15 16:00:35 PDT 2009   magneversaydie   \n",
       "\n",
       "                                                   text  tweet_polarity  \n",
       "8493  dvx uk ea pandem not mad annount regard new me...               1  \n",
       "8704  menopausalmaud gasp loooov garageband song rea...               1  \n",
       "8685                                      watchin rocky               1  \n",
       "3983          bought iphon g ebay lik week ago stil com               0  \n",
       "8590                                  nelaw jaj eso hic               1  "
      ]
     },
     "execution_count": 208,
     "metadata": {},
     "output_type": "execute_result"
    }
   ],
   "source": [
    "df_b_test.tail()"
   ]
  },
  {
   "cell_type": "markdown",
   "id": "0a25a6f6",
   "metadata": {},
   "source": [
    "- Convert dataset into TD IDF vectorizer object"
   ]
  },
  {
   "cell_type": "code",
   "execution_count": 211,
   "id": "9f17b6cb",
   "metadata": {},
   "outputs": [],
   "source": [
    "X_train_b = vectorizer.fit_transform(df_b_train[\"text\"])\n",
    "X_test_b = vectorizer.fit_transform(df_b_test[\"text\"])"
   ]
  },
  {
   "cell_type": "markdown",
   "id": "7f52edb4",
   "metadata": {},
   "source": [
    "- Get the <code>tweet_polarity</code> classes and obtain Y_train_b and Y_test_b"
   ]
  },
  {
   "cell_type": "code",
   "execution_count": 224,
   "id": "1bd9cbd9",
   "metadata": {},
   "outputs": [],
   "source": [
    "Y_train_b = df_b_train['tweet_polarity']\n",
    "Y_test_b = df_b_test['tweet_polarity']"
   ]
  },
  {
   "cell_type": "markdown",
   "id": "dbf2e9c5",
   "metadata": {},
   "source": [
    "- Train a new model on binary dataset"
   ]
  },
  {
   "cell_type": "code",
   "execution_count": 225,
   "id": "8ef283f3",
   "metadata": {},
   "outputs": [],
   "source": [
    "dtc_b = DecisionTreeClassifier(criterion = 'entropy', random_state = 0)\n",
    "dtc.fit(X_train_b, Y_train_b)\n",
    "\n",
    "y_pred_dtc = dtc.predict(X_test_b)"
   ]
  },
  {
   "cell_type": "markdown",
   "id": "73928944",
   "metadata": {},
   "source": [
    "- Print accuaracy score"
   ]
  },
  {
   "cell_type": "code",
   "execution_count": 226,
   "id": "cb5dd0ba",
   "metadata": {},
   "outputs": [
    {
     "name": "stdout",
     "output_type": "stream",
     "text": [
      "Train acc: 0.9767021276595744\n",
      "Test acc: 0.9767021276595744\n"
     ]
    }
   ],
   "source": [
    "print(\"Train acc:\", dtc.score(X_train_b, Y_train_b))\n",
    "print(\"Test acc:\", dtc.score(X_test_b, Y_test_b))"
   ]
  },
  {
   "cell_type": "markdown",
   "id": "3a1cc1bc",
   "metadata": {},
   "source": [
    "- Get class labels"
   ]
  },
  {
   "cell_type": "code",
   "execution_count": 228,
   "id": "0cfe50cb",
   "metadata": {},
   "outputs": [],
   "source": [
    "P_train_b = dtc.predict(X_train_b)\n",
    "P_test_b = dtc.predict(X_test_b)"
   ]
  },
  {
   "cell_type": "code",
   "execution_count": 230,
   "id": "e600a308",
   "metadata": {},
   "outputs": [
    {
     "data": {
      "text/plain": [
       "array([[0.99608108, 0.00391892],\n",
       "       [0.095     , 0.905     ]])"
      ]
     },
     "execution_count": 230,
     "metadata": {},
     "output_type": "execute_result"
    }
   ],
   "source": [
    "cm_test_b = confusion_matrix(Y_test_b, P_test_b, normalize='true')\n",
    "cm_test_b"
   ]
  },
  {
   "cell_type": "code",
   "execution_count": 231,
   "id": "d6795726",
   "metadata": {},
   "outputs": [
    {
     "data": {
      "text/plain": [
       "Text(33.0, 0.5, 'Target')"
      ]
     },
     "execution_count": 231,
     "metadata": {},
     "output_type": "execute_result"
    },
    {
     "data": {
      "image/png": "[encoded data removed]",
      "text/plain": [
       "<Figure size 432x288 with 2 Axes>"
      ]
     },
     "metadata": {
      "needs_background": "light"
     },
     "output_type": "display_data"
    }
   ],
   "source": [
    "classes = ['negative', 'positive'] \n",
    "\n",
    "df_cm_test = pd.DataFrame(cm_test_b, index=classes, columns=classes)\n",
    "\n",
    "ax = sns.heatmap(df_cm_test, annot=True, fmt='g')\n",
    "ax.set_xlabel(\"Predicted\")\n",
    "ax.set_ylabel(\"Target\")"
   ]
  },
  {
   "cell_type": "code",
   "execution_count": null,
   "id": "0dfe5404",
   "metadata": {},
   "outputs": [],
   "source": []
  }
 ],
 "metadata": {
  "kernelspec": {
   "display_name": "Python 3",
   "language": "python",
   "name": "python3"
  },
  "language_info": {
   "codemirror_mode": {
    "name": "ipython",
    "version": 3
   },
   "file_extension": ".py",
   "mimetype": "text/x-python",
   "name": "python",
   "nbconvert_exporter": "python",
   "pygments_lexer": "ipython3",
   "version": "3.8.8"
  }
 },
 "nbformat": 4,
 "nbformat_minor": 5
}
